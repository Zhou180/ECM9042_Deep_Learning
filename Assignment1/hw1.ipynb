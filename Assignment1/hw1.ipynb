{
 "cells": [
  {
   "cell_type": "markdown",
   "metadata": {},
   "source": [
    "# Deep learning - hw1\n",
    "- 0756708 孫茂勛"
   ]
  },
  {
   "cell_type": "code",
   "execution_count": 1,
   "metadata": {
    "ExecuteTime": {
     "end_time": "2019-04-08T13:25:49.850312Z",
     "start_time": "2019-04-08T13:25:48.340859Z"
    }
   },
   "outputs": [
    {
     "name": "stderr",
     "output_type": "stream",
     "text": [
      "Using TensorFlow backend.\n"
     ]
    }
   ],
   "source": [
    "import numpy as np\n",
    "import random\n",
    "import pandas as pd\n",
    "from sklearn.model_selection import train_test_split\n",
    "from keras.utils import to_categorical\n",
    "import matplotlib.pyplot as plt\n",
    "import copy"
   ]
  },
  {
   "cell_type": "markdown",
   "metadata": {},
   "source": [
    "### 1. Data processing"
   ]
  },
  {
   "cell_type": "code",
   "execution_count": 2,
   "metadata": {
    "ExecuteTime": {
     "end_time": "2019-04-08T13:25:49.858056Z",
     "start_time": "2019-04-08T13:25:49.851816Z"
    }
   },
   "outputs": [],
   "source": [
    "df = pd.read_csv('./titanic.csv')"
   ]
  },
  {
   "cell_type": "code",
   "execution_count": 3,
   "metadata": {
    "ExecuteTime": {
     "end_time": "2019-04-08T13:25:49.908253Z",
     "start_time": "2019-04-08T13:25:49.859465Z"
    }
   },
   "outputs": [
    {
     "data": {
      "text/html": [
       "<div>\n",
       "<style scoped>\n",
       "    .dataframe tbody tr th:only-of-type {\n",
       "        vertical-align: middle;\n",
       "    }\n",
       "\n",
       "    .dataframe tbody tr th {\n",
       "        vertical-align: top;\n",
       "    }\n",
       "\n",
       "    .dataframe thead th {\n",
       "        text-align: right;\n",
       "    }\n",
       "</style>\n",
       "<table border=\"1\" class=\"dataframe\">\n",
       "  <thead>\n",
       "    <tr style=\"text-align: right;\">\n",
       "      <th></th>\n",
       "      <th>Survived</th>\n",
       "      <th>Pclass</th>\n",
       "      <th>Sex</th>\n",
       "      <th>Age</th>\n",
       "      <th>SibSp</th>\n",
       "      <th>Parch</th>\n",
       "      <th>Fare</th>\n",
       "    </tr>\n",
       "  </thead>\n",
       "  <tbody>\n",
       "    <tr>\n",
       "      <th>0</th>\n",
       "      <td>0</td>\n",
       "      <td>3</td>\n",
       "      <td>1</td>\n",
       "      <td>22.0</td>\n",
       "      <td>1</td>\n",
       "      <td>0</td>\n",
       "      <td>7.2500</td>\n",
       "    </tr>\n",
       "    <tr>\n",
       "      <th>1</th>\n",
       "      <td>1</td>\n",
       "      <td>1</td>\n",
       "      <td>0</td>\n",
       "      <td>38.0</td>\n",
       "      <td>1</td>\n",
       "      <td>0</td>\n",
       "      <td>71.2833</td>\n",
       "    </tr>\n",
       "    <tr>\n",
       "      <th>2</th>\n",
       "      <td>1</td>\n",
       "      <td>3</td>\n",
       "      <td>0</td>\n",
       "      <td>26.0</td>\n",
       "      <td>0</td>\n",
       "      <td>0</td>\n",
       "      <td>7.9250</td>\n",
       "    </tr>\n",
       "    <tr>\n",
       "      <th>3</th>\n",
       "      <td>1</td>\n",
       "      <td>1</td>\n",
       "      <td>0</td>\n",
       "      <td>35.0</td>\n",
       "      <td>1</td>\n",
       "      <td>0</td>\n",
       "      <td>53.1000</td>\n",
       "    </tr>\n",
       "    <tr>\n",
       "      <th>4</th>\n",
       "      <td>0</td>\n",
       "      <td>3</td>\n",
       "      <td>1</td>\n",
       "      <td>35.0</td>\n",
       "      <td>0</td>\n",
       "      <td>0</td>\n",
       "      <td>8.0500</td>\n",
       "    </tr>\n",
       "  </tbody>\n",
       "</table>\n",
       "</div>"
      ],
      "text/plain": [
       "   Survived  Pclass  Sex   Age  SibSp  Parch     Fare\n",
       "0         0       3    1  22.0      1      0   7.2500\n",
       "1         1       1    0  38.0      1      0  71.2833\n",
       "2         1       3    0  26.0      0      0   7.9250\n",
       "3         1       1    0  35.0      1      0  53.1000\n",
       "4         0       3    1  35.0      0      0   8.0500"
      ]
     },
     "execution_count": 3,
     "metadata": {},
     "output_type": "execute_result"
    }
   ],
   "source": [
    "df.head()"
   ]
  },
  {
   "cell_type": "code",
   "execution_count": 4,
   "metadata": {
    "ExecuteTime": {
     "end_time": "2019-04-08T13:25:49.945180Z",
     "start_time": "2019-04-08T13:25:49.909723Z"
    }
   },
   "outputs": [
    {
     "name": "stdout",
     "output_type": "stream",
     "text": [
      "(800, 6, 1) (800, 2, 1)\n",
      "(91, 6, 1) (91, 2, 1)\n"
     ]
    }
   ],
   "source": [
    "training_set = df[:800]\n",
    "testing_set = df[800:]\n",
    "\n",
    "X_train = training_set[['Pclass', 'Sex', 'Age', 'SibSp', 'Parch', 'Fare']].values\n",
    "X_test = testing_set[['Pclass', 'Sex', 'Age', 'SibSp', 'Parch', 'Fare']].values\n",
    "X_train = X_train.reshape(X_train.shape[0], -1, 1)\n",
    "X_test = X_test.reshape(X_test.shape[0], -1, 1)\n",
    "\n",
    "y_train = training_set['Survived'].values\n",
    "y_test = testing_set['Survived'].values\n",
    "y_train = to_categorical(y_train).reshape(y_train.shape[0], -1, 1)\n",
    "y_test = to_categorical(y_test).reshape(y_test.shape[0], -1, 1)\n",
    "\n",
    "print(X_train.shape, y_train.shape)\n",
    "print(X_test.shape, y_test.shape)\n",
    "\n",
    "# combine data & labels \n",
    "training_data = list(zip(X_train, y_train))\n",
    "testing_data = list(zip(X_test, y_test))"
   ]
  },
  {
   "cell_type": "markdown",
   "metadata": {},
   "source": [
    "### 2. Model Architecture"
   ]
  },
  {
   "cell_type": "code",
   "execution_count": 5,
   "metadata": {
    "ExecuteTime": {
     "end_time": "2019-04-08T13:25:50.541600Z",
     "start_time": "2019-04-08T13:25:50.535144Z"
    }
   },
   "outputs": [],
   "source": [
    "def sigmoid(z):\n",
    "    return 1.0 / (1.0 + np.exp(-z))\n",
    "\n",
    "def sigmoid_derivate(z):\n",
    "    return sigmoid(z) * (1-sigmoid(z))\n",
    "\n",
    "def cross_entropy(output, ground_truth):\n",
    "    return np.sum( np.nan_to_num( -ground_truth*np.log(output) - (1-ground_truth)*np.log(1-output) ) )\n",
    "\n",
    "def cross_entropy_derivative(output, ground_truth):\n",
    "    return output - ground_truth"
   ]
  },
  {
   "cell_type": "code",
   "execution_count": 6,
   "metadata": {
    "ExecuteTime": {
     "end_time": "2019-04-08T13:25:51.083878Z",
     "start_time": "2019-04-08T13:25:51.064485Z"
    }
   },
   "outputs": [],
   "source": [
    "class NN():\n",
    "    def __init__(self, neurons):\n",
    "        self.num_layers = len(neurons)\n",
    "        self.neurons = neurons\n",
    "        # create weights & bias\n",
    "        self.weights = [ np.zeros((j, i)) for i, j in zip(neurons[:-1], neurons[1:]) ]\n",
    "        self.biases = [ np.zeros((i, 1)) for i in neurons[1:] ]\n",
    "        # info \n",
    "        self.training_loss = []\n",
    "        self.training_error_rate = []\n",
    "        self.testing_error_rate = []\n",
    "    \n",
    "    def SGD(self, training_data, testing_data, epochs, batch_size, lr):\n",
    "\n",
    "        num = len(training_data)\n",
    "        self.training_loss = []\n",
    "        self.training_error_rate = []\n",
    "        self.testing_error_rate = []\n",
    "        \n",
    "        evaluation_cost, evaluation_accuracy = [], []\n",
    "        training_cost, training_accuracy = [], []\n",
    "        \n",
    "        for epoch in range(epochs):\n",
    "            random.shuffle(training_data)\n",
    "            mini_batch = [ training_data[i : i + batch_size] for i in range(0, num, batch_size) ] # split data into mini_batch\n",
    "            for single_data in mini_batch:\n",
    "                self.update_mini_batch(single_data, lr)\n",
    "            \n",
    "            if (epoch % 50 == 0):\n",
    "                # record info\n",
    "                self.training_loss.append(self.calc_loss(training_data))\n",
    "                self.training_error_rate.append(self.count_error(training_data) / len(training_data))\n",
    "                self.testing_error_rate.append(self.count_error(testing_data) / len(testing_data))\n",
    "                print('===================================')\n",
    "                print(\"【Epoch %s】\" % epoch) \n",
    "                print('    training loss: %f' % self.calc_loss(training_data))\n",
    "                print('    training error rate: %d / %d(%f)' % (self.count_error(training_data), len(training_data), self.count_error(training_data) / len(training_data)))\n",
    "                print('    testing error rate: %d / %d(%f)' % (self.count_error(testing_data), len(testing_data), self.count_error(testing_data) / len(testing_data)))\n",
    "                \n",
    "    \n",
    "    def update_mini_batch(self, single_data, lr):\n",
    "        sum_gradient_w = [ np.zeros(w.shape) for w in self.weights ]\n",
    "        sum_gradient_b = [ np.zeros(b.shape) for b in self.biases ]\n",
    "        \n",
    "        # cumulate gradient of each single data\n",
    "        for x, y in single_data:\n",
    "            gradient_w, gradient_b = self.backward(x, y)\n",
    "            sum_gradient_w = [  sw + w for sw, w in zip(sum_gradient_w, gradient_w)]\n",
    "            sum_gradient_b = [ sb + b for sb, b in zip(sum_gradient_b, gradient_b)]\n",
    "        \n",
    "        # update weights & biases with (mean of sum of gradient * learning rate)\n",
    "        self.weights = [ w - lr/len(single_data) * sw for w, sw in zip(self.weights, sum_gradient_w) ]\n",
    "        self.biases = [ b - lr/len(single_data) * sb for b, sb in zip(self.biases, sum_gradient_b) ]\n",
    "    \n",
    "    def forward(self, x):\n",
    "        for w, b in zip(self.weights, self.biases):\n",
    "            x = np.dot(w, x) + b\n",
    "            x = sigmoid(x)\n",
    "        return x\n",
    "    \n",
    "    def backward(self, x, y):\n",
    "        # store gradient of w, b\n",
    "        gradient_w = [ np.zeros(w.shape) for w in self.weights ]\n",
    "        gradient_b = [ np.zeros(b.shape) for b in self.biases ]\n",
    "        \n",
    "        # forward\n",
    "        activation = x\n",
    "        zs = [] # store vectors which is input of activation function\n",
    "        activations = [x] # store vectors which is output of activation function\n",
    "        \n",
    "        for w, b in zip(self.weights, self.biases):\n",
    "            z = np.dot(w, activation) + b\n",
    "            zs.append(z)\n",
    "            activation = sigmoid(z)\n",
    "            activations.append(activation)\n",
    "            \n",
    "        # backward \n",
    "        # we calc last layer separately, because loss function is diff with activation funcion\n",
    "        delta = cross_entropy_derivative(activations[-1], y)\n",
    "        gradient_b[-1] = delta * 1\n",
    "        gradient_w[-1] = np.dot(delta, activations[-2].T)\n",
    "        for layer in range(2, self.num_layers):\n",
    "            z = zs[-layer]\n",
    "            delta = np.dot(self.weights[-layer + 1].T, delta) * sigmoid_derivate(z)\n",
    "            gradient_w[-layer] = np.dot(delta, activations[-layer - 1].T)\n",
    "            gradient_b[-layer] = delta\n",
    "        return gradient_w, gradient_b\n",
    "        \n",
    "    def calc_loss(self, data):\n",
    "        # calc cross entropy loss\n",
    "        loss = 0\n",
    "        for x, y in data:\n",
    "            output = self.forward(x)\n",
    "            loss += cross_entropy(output, y)/ len(data)\n",
    "        return loss\n",
    "    \n",
    "    def count_error(self, data):\n",
    "        # count error number\n",
    "        compare_list = [ (np.argmax(self.forward(x)), np.argmax(y)) for x, y in data ]\n",
    "        error_count = sum( int(y1 != y2) for y1, y2 in compare_list)\n",
    "        return error_count "
   ]
  },
  {
   "cell_type": "markdown",
   "metadata": {},
   "source": [
    "### 3. Training"
   ]
  },
  {
   "cell_type": "markdown",
   "metadata": {},
   "source": [
    "#### p1"
   ]
  },
  {
   "cell_type": "code",
   "execution_count": 7,
   "metadata": {
    "ExecuteTime": {
     "end_time": "2019-04-08T13:29:44.568435Z",
     "start_time": "2019-04-08T13:25:52.447633Z"
    },
    "scrolled": true
   },
   "outputs": [
    {
     "name": "stdout",
     "output_type": "stream",
     "text": [
      "===================================\n",
      "【Epoch 0】\n",
      "    training loss: 1.347053\n",
      "    training error rate: 308 / 800(0.385000)\n",
      "    testing error rate: 34 / 91(0.373626)\n",
      "===================================\n",
      "【Epoch 50】\n",
      "    training loss: 1.344135\n",
      "    training error rate: 308 / 800(0.385000)\n",
      "    testing error rate: 34 / 91(0.373626)\n",
      "===================================\n",
      "【Epoch 100】\n",
      "    training loss: 1.339753\n",
      "    training error rate: 308 / 800(0.385000)\n",
      "    testing error rate: 34 / 91(0.373626)\n",
      "===================================\n",
      "【Epoch 150】\n",
      "    training loss: 1.329431\n",
      "    training error rate: 308 / 800(0.385000)\n",
      "    testing error rate: 34 / 91(0.373626)\n",
      "===================================\n",
      "【Epoch 200】\n",
      "    training loss: 1.279102\n",
      "    training error rate: 308 / 800(0.385000)\n",
      "    testing error rate: 34 / 91(0.373626)\n",
      "===================================\n",
      "【Epoch 250】\n",
      "    training loss: 1.219769\n",
      "    training error rate: 262 / 800(0.327500)\n",
      "    testing error rate: 26 / 91(0.285714)\n",
      "===================================\n",
      "【Epoch 300】\n",
      "    training loss: 1.424017\n",
      "    training error rate: 285 / 800(0.356250)\n",
      "    testing error rate: 32 / 91(0.351648)\n",
      "===================================\n",
      "【Epoch 350】\n",
      "    training loss: 1.133523\n",
      "    training error rate: 237 / 800(0.296250)\n",
      "    testing error rate: 24 / 91(0.263736)\n",
      "===================================\n",
      "【Epoch 400】\n",
      "    training loss: 1.066066\n",
      "    training error rate: 209 / 800(0.261250)\n",
      "    testing error rate: 17 / 91(0.186813)\n",
      "===================================\n",
      "【Epoch 450】\n",
      "    training loss: 1.105616\n",
      "    training error rate: 204 / 800(0.255000)\n",
      "    testing error rate: 17 / 91(0.186813)\n",
      "===================================\n",
      "【Epoch 500】\n",
      "    training loss: 1.054994\n",
      "    training error rate: 210 / 800(0.262500)\n",
      "    testing error rate: 22 / 91(0.241758)\n",
      "===================================\n",
      "【Epoch 550】\n",
      "    training loss: 1.122180\n",
      "    training error rate: 228 / 800(0.285000)\n",
      "    testing error rate: 22 / 91(0.241758)\n",
      "===================================\n",
      "【Epoch 600】\n",
      "    training loss: 1.062763\n",
      "    training error rate: 210 / 800(0.262500)\n",
      "    testing error rate: 23 / 91(0.252747)\n",
      "===================================\n",
      "【Epoch 650】\n",
      "    training loss: 1.003373\n",
      "    training error rate: 183 / 800(0.228750)\n",
      "    testing error rate: 17 / 91(0.186813)\n",
      "===================================\n",
      "【Epoch 700】\n",
      "    training loss: 1.249502\n",
      "    training error rate: 259 / 800(0.323750)\n",
      "    testing error rate: 27 / 91(0.296703)\n",
      "===================================\n",
      "【Epoch 750】\n",
      "    training loss: 1.071180\n",
      "    training error rate: 203 / 800(0.253750)\n",
      "    testing error rate: 17 / 91(0.186813)\n",
      "===================================\n",
      "【Epoch 800】\n",
      "    training loss: 1.319083\n",
      "    training error rate: 279 / 800(0.348750)\n",
      "    testing error rate: 25 / 91(0.274725)\n",
      "===================================\n",
      "【Epoch 850】\n",
      "    training loss: 0.971300\n",
      "    training error rate: 164 / 800(0.205000)\n",
      "    testing error rate: 19 / 91(0.208791)\n",
      "===================================\n",
      "【Epoch 900】\n",
      "    training loss: 0.967382\n",
      "    training error rate: 176 / 800(0.220000)\n",
      "    testing error rate: 19 / 91(0.208791)\n",
      "===================================\n",
      "【Epoch 950】\n",
      "    training loss: 0.993461\n",
      "    training error rate: 180 / 800(0.225000)\n",
      "    testing error rate: 17 / 91(0.186813)\n",
      "===================================\n",
      "【Epoch 1000】\n",
      "    training loss: 1.025338\n",
      "    training error rate: 193 / 800(0.241250)\n",
      "    testing error rate: 18 / 91(0.197802)\n",
      "===================================\n",
      "【Epoch 1050】\n",
      "    training loss: 0.991202\n",
      "    training error rate: 171 / 800(0.213750)\n",
      "    testing error rate: 18 / 91(0.197802)\n",
      "===================================\n",
      "【Epoch 1100】\n",
      "    training loss: 0.974576\n",
      "    training error rate: 160 / 800(0.200000)\n",
      "    testing error rate: 17 / 91(0.186813)\n",
      "===================================\n",
      "【Epoch 1150】\n",
      "    training loss: 1.205752\n",
      "    training error rate: 224 / 800(0.280000)\n",
      "    testing error rate: 20 / 91(0.219780)\n",
      "===================================\n",
      "【Epoch 1200】\n",
      "    training loss: 0.973684\n",
      "    training error rate: 167 / 800(0.208750)\n",
      "    testing error rate: 19 / 91(0.208791)\n",
      "===================================\n",
      "【Epoch 1250】\n",
      "    training loss: 1.031579\n",
      "    training error rate: 179 / 800(0.223750)\n",
      "    testing error rate: 19 / 91(0.208791)\n",
      "===================================\n",
      "【Epoch 1300】\n",
      "    training loss: 0.967561\n",
      "    training error rate: 159 / 800(0.198750)\n",
      "    testing error rate: 18 / 91(0.197802)\n",
      "===================================\n",
      "【Epoch 1350】\n",
      "    training loss: 1.013431\n",
      "    training error rate: 178 / 800(0.222500)\n",
      "    testing error rate: 20 / 91(0.219780)\n",
      "===================================\n",
      "【Epoch 1400】\n",
      "    training loss: 1.036337\n",
      "    training error rate: 193 / 800(0.241250)\n",
      "    testing error rate: 16 / 91(0.175824)\n",
      "===================================\n",
      "【Epoch 1450】\n",
      "    training loss: 0.964494\n",
      "    training error rate: 156 / 800(0.195000)\n",
      "    testing error rate: 18 / 91(0.197802)\n",
      "===================================\n",
      "【Epoch 1500】\n",
      "    training loss: 0.957799\n",
      "    training error rate: 157 / 800(0.196250)\n",
      "    testing error rate: 19 / 91(0.208791)\n",
      "===================================\n",
      "【Epoch 1550】\n",
      "    training loss: 0.967302\n",
      "    training error rate: 167 / 800(0.208750)\n",
      "    testing error rate: 18 / 91(0.197802)\n",
      "===================================\n",
      "【Epoch 1600】\n",
      "    training loss: 0.945280\n",
      "    training error rate: 161 / 800(0.201250)\n",
      "    testing error rate: 17 / 91(0.186813)\n",
      "===================================\n",
      "【Epoch 1650】\n",
      "    training loss: 1.048269\n",
      "    training error rate: 192 / 800(0.240000)\n",
      "    testing error rate: 16 / 91(0.175824)\n",
      "===================================\n",
      "【Epoch 1700】\n",
      "    training loss: 0.948409\n",
      "    training error rate: 167 / 800(0.208750)\n",
      "    testing error rate: 17 / 91(0.186813)\n",
      "===================================\n",
      "【Epoch 1750】\n",
      "    training loss: 1.023371\n",
      "    training error rate: 172 / 800(0.215000)\n",
      "    testing error rate: 21 / 91(0.230769)\n",
      "===================================\n",
      "【Epoch 1800】\n",
      "    training loss: 0.971837\n",
      "    training error rate: 174 / 800(0.217500)\n",
      "    testing error rate: 19 / 91(0.208791)\n",
      "===================================\n",
      "【Epoch 1850】\n",
      "    training loss: 0.987515\n",
      "    training error rate: 166 / 800(0.207500)\n",
      "    testing error rate: 20 / 91(0.219780)\n",
      "===================================\n",
      "【Epoch 1900】\n",
      "    training loss: 0.975402\n",
      "    training error rate: 182 / 800(0.227500)\n",
      "    testing error rate: 19 / 91(0.208791)\n",
      "===================================\n",
      "【Epoch 1950】\n",
      "    training loss: 1.016586\n",
      "    training error rate: 187 / 800(0.233750)\n",
      "    testing error rate: 18 / 91(0.197802)\n",
      "===================================\n",
      "【Epoch 2000】\n",
      "    training loss: 0.979204\n",
      "    training error rate: 183 / 800(0.228750)\n",
      "    testing error rate: 19 / 91(0.208791)\n",
      "===================================\n",
      "【Epoch 2050】\n",
      "    training loss: 0.950838\n",
      "    training error rate: 168 / 800(0.210000)\n",
      "    testing error rate: 17 / 91(0.186813)\n",
      "===================================\n",
      "【Epoch 2100】\n",
      "    training loss: 0.962391\n",
      "    training error rate: 159 / 800(0.198750)\n",
      "    testing error rate: 21 / 91(0.230769)\n",
      "===================================\n",
      "【Epoch 2150】\n",
      "    training loss: 1.022040\n",
      "    training error rate: 186 / 800(0.232500)\n",
      "    testing error rate: 19 / 91(0.208791)\n",
      "===================================\n",
      "【Epoch 2200】\n",
      "    training loss: 0.942759\n",
      "    training error rate: 157 / 800(0.196250)\n",
      "    testing error rate: 17 / 91(0.186813)\n",
      "===================================\n",
      "【Epoch 2250】\n",
      "    training loss: 0.982890\n",
      "    training error rate: 170 / 800(0.212500)\n",
      "    testing error rate: 18 / 91(0.197802)\n",
      "===================================\n",
      "【Epoch 2300】\n",
      "    training loss: 0.942392\n",
      "    training error rate: 159 / 800(0.198750)\n",
      "    testing error rate: 17 / 91(0.186813)\n",
      "===================================\n",
      "【Epoch 2350】\n",
      "    training loss: 0.936544\n",
      "    training error rate: 158 / 800(0.197500)\n",
      "    testing error rate: 18 / 91(0.197802)\n",
      "===================================\n",
      "【Epoch 2400】\n",
      "    training loss: 0.942017\n",
      "    training error rate: 155 / 800(0.193750)\n",
      "    testing error rate: 19 / 91(0.208791)\n",
      "===================================\n",
      "【Epoch 2450】\n",
      "    training loss: 0.962886\n",
      "    training error rate: 166 / 800(0.207500)\n",
      "    testing error rate: 20 / 91(0.219780)\n",
      "===================================\n",
      "【Epoch 2500】\n",
      "    training loss: 0.940124\n",
      "    training error rate: 158 / 800(0.197500)\n",
      "    testing error rate: 17 / 91(0.186813)\n"
     ]
    },
    {
     "name": "stdout",
     "output_type": "stream",
     "text": [
      "===================================\n",
      "【Epoch 2550】\n",
      "    training loss: 0.941177\n",
      "    training error rate: 154 / 800(0.192500)\n",
      "    testing error rate: 18 / 91(0.197802)\n",
      "===================================\n",
      "【Epoch 2600】\n",
      "    training loss: 0.945638\n",
      "    training error rate: 161 / 800(0.201250)\n",
      "    testing error rate: 17 / 91(0.186813)\n",
      "===================================\n",
      "【Epoch 2650】\n",
      "    training loss: 0.975377\n",
      "    training error rate: 169 / 800(0.211250)\n",
      "    testing error rate: 18 / 91(0.197802)\n",
      "===================================\n",
      "【Epoch 2700】\n",
      "    training loss: 1.028503\n",
      "    training error rate: 188 / 800(0.235000)\n",
      "    testing error rate: 22 / 91(0.241758)\n",
      "===================================\n",
      "【Epoch 2750】\n",
      "    training loss: 1.050562\n",
      "    training error rate: 196 / 800(0.245000)\n",
      "    testing error rate: 20 / 91(0.219780)\n",
      "===================================\n",
      "【Epoch 2800】\n",
      "    training loss: 0.965189\n",
      "    training error rate: 162 / 800(0.202500)\n",
      "    testing error rate: 19 / 91(0.208791)\n",
      "===================================\n",
      "【Epoch 2850】\n",
      "    training loss: 0.938445\n",
      "    training error rate: 157 / 800(0.196250)\n",
      "    testing error rate: 18 / 91(0.197802)\n",
      "===================================\n",
      "【Epoch 2900】\n",
      "    training loss: 0.939912\n",
      "    training error rate: 158 / 800(0.197500)\n",
      "    testing error rate: 17 / 91(0.186813)\n",
      "===================================\n",
      "【Epoch 2950】\n",
      "    training loss: 0.950966\n",
      "    training error rate: 163 / 800(0.203750)\n",
      "    testing error rate: 18 / 91(0.197802)\n"
     ]
    }
   ],
   "source": [
    "module1 = NN([6, 32, 32, 64, 2])\n",
    "module1.SGD(training_data, testing_data, 3000, 100, 0.3)"
   ]
  },
  {
   "cell_type": "code",
   "execution_count": 8,
   "metadata": {
    "ExecuteTime": {
     "end_time": "2019-04-08T13:29:44.572051Z",
     "start_time": "2019-04-08T13:29:44.569917Z"
    }
   },
   "outputs": [],
   "source": [
    "new_x_axis = np.arange(0,3000, 50)"
   ]
  },
  {
   "cell_type": "code",
   "execution_count": 9,
   "metadata": {
    "ExecuteTime": {
     "end_time": "2019-04-08T13:29:44.741485Z",
     "start_time": "2019-04-08T13:29:44.573227Z"
    }
   },
   "outputs": [
    {
     "data": {
      "text/plain": [
       "Text(0, 0.5, 'Average cross entropy')"
      ]
     },
     "execution_count": 9,
     "metadata": {},
     "output_type": "execute_result"
    },
    {
     "data": {
      "image/png": "[encoded data removed]",
      "text/plain": [
       "<Figure size 432x288 with 1 Axes>"
      ]
     },
     "metadata": {},
     "output_type": "display_data"
    }
   ],
   "source": [
    "fig, ax = plt.subplots(1, 1)\n",
    "ax.plot(new_x_axis, module1.training_loss)\n",
    "ax.set_title('training loss')\n",
    "ax.set_xlabel('Epochs')\n",
    "ax.set_ylabel('Average cross entropy')"
   ]
  },
  {
   "cell_type": "code",
   "execution_count": 10,
   "metadata": {
    "ExecuteTime": {
     "end_time": "2019-04-08T13:29:44.990578Z",
     "start_time": "2019-04-08T13:29:44.743679Z"
    }
   },
   "outputs": [
    {
     "data": {
      "text/plain": [
       "Text(0, 0.5, 'Error rate')"
      ]
     },
     "execution_count": 10,
     "metadata": {},
     "output_type": "execute_result"
    },
    {
     "data": {
      "image/png": "[encoded data removed]",
      "text/plain": [
       "<Figure size 864x288 with 2 Axes>"
      ]
     },
     "metadata": {},
     "output_type": "display_data"
    }
   ],
   "source": [
    "fig, ax = plt.subplots(1, 2)\n",
    "fig.set_size_inches(12, 4)\n",
    "ax[0].plot(new_x_axis, module1.training_error_rate)\n",
    "ax[0].set_title('training error rate')\n",
    "ax[0].set_xlabel('Epochs')\n",
    "ax[0].set_ylabel('Error rate')\n",
    "\n",
    "ax[1].plot(new_x_axis, module1.testing_error_rate)\n",
    "ax[1].set_title('testing error rate')\n",
    "ax[1].set_xlabel('Epochs')\n",
    "ax[1].set_ylabel('Error rate')"
   ]
  },
  {
   "cell_type": "markdown",
   "metadata": {},
   "source": [
    "#### p2"
   ]
  },
  {
   "cell_type": "code",
   "execution_count": 11,
   "metadata": {
    "ExecuteTime": {
     "end_time": "2019-04-08T13:29:44.995269Z",
     "start_time": "2019-04-08T13:29:44.992662Z"
    }
   },
   "outputs": [],
   "source": [
    "module2 = NN([6, 3, 3, 2])"
   ]
  },
  {
   "cell_type": "code",
   "execution_count": 12,
   "metadata": {
    "ExecuteTime": {
     "end_time": "2019-04-08T13:32:04.713491Z",
     "start_time": "2019-04-08T13:29:44.998879Z"
    },
    "scrolled": true
   },
   "outputs": [
    {
     "name": "stdout",
     "output_type": "stream",
     "text": [
      "===================================\n",
      "【Epoch 0】\n",
      "    training loss: 1.376259\n",
      "    training error rate: 308 / 800(0.385000)\n",
      "    testing error rate: 34 / 91(0.373626)\n",
      "===================================\n",
      "【Epoch 50】\n",
      "    training loss: 1.332859\n",
      "    training error rate: 308 / 800(0.385000)\n",
      "    testing error rate: 34 / 91(0.373626)\n",
      "===================================\n",
      "【Epoch 100】\n",
      "    training loss: 1.332620\n",
      "    training error rate: 308 / 800(0.385000)\n",
      "    testing error rate: 34 / 91(0.373626)\n",
      "===================================\n",
      "【Epoch 150】\n",
      "    training loss: 1.332084\n",
      "    training error rate: 308 / 800(0.385000)\n",
      "    testing error rate: 34 / 91(0.373626)\n",
      "===================================\n",
      "【Epoch 200】\n",
      "    training loss: 1.331055\n",
      "    training error rate: 308 / 800(0.385000)\n",
      "    testing error rate: 34 / 91(0.373626)\n",
      "===================================\n",
      "【Epoch 250】\n",
      "    training loss: 1.329397\n",
      "    training error rate: 308 / 800(0.385000)\n",
      "    testing error rate: 34 / 91(0.373626)\n",
      "===================================\n",
      "【Epoch 300】\n",
      "    training loss: 1.326865\n",
      "    training error rate: 308 / 800(0.385000)\n",
      "    testing error rate: 34 / 91(0.373626)\n",
      "===================================\n",
      "【Epoch 350】\n",
      "    training loss: 1.323153\n",
      "    training error rate: 308 / 800(0.385000)\n",
      "    testing error rate: 34 / 91(0.373626)\n",
      "===================================\n",
      "【Epoch 400】\n",
      "    training loss: 1.318022\n",
      "    training error rate: 308 / 800(0.385000)\n",
      "    testing error rate: 34 / 91(0.373626)\n",
      "===================================\n",
      "【Epoch 450】\n",
      "    training loss: 1.311381\n",
      "    training error rate: 308 / 800(0.385000)\n",
      "    testing error rate: 34 / 91(0.373626)\n",
      "===================================\n",
      "【Epoch 500】\n",
      "    training loss: 1.303288\n",
      "    training error rate: 308 / 800(0.385000)\n",
      "    testing error rate: 34 / 91(0.373626)\n",
      "===================================\n",
      "【Epoch 550】\n",
      "    training loss: 1.293717\n",
      "    training error rate: 308 / 800(0.385000)\n",
      "    testing error rate: 34 / 91(0.373626)\n",
      "===================================\n",
      "【Epoch 600】\n",
      "    training loss: 1.282168\n",
      "    training error rate: 308 / 800(0.385000)\n",
      "    testing error rate: 34 / 91(0.373626)\n",
      "===================================\n",
      "【Epoch 650】\n",
      "    training loss: 1.268219\n",
      "    training error rate: 308 / 800(0.385000)\n",
      "    testing error rate: 34 / 91(0.373626)\n",
      "===================================\n",
      "【Epoch 700】\n",
      "    training loss: 1.252719\n",
      "    training error rate: 308 / 800(0.385000)\n",
      "    testing error rate: 34 / 91(0.373626)\n",
      "===================================\n",
      "【Epoch 750】\n",
      "    training loss: 1.237040\n",
      "    training error rate: 308 / 800(0.385000)\n",
      "    testing error rate: 34 / 91(0.373626)\n",
      "===================================\n",
      "【Epoch 800】\n",
      "    training loss: 1.221593\n",
      "    training error rate: 267 / 800(0.333750)\n",
      "    testing error rate: 25 / 91(0.274725)\n",
      "===================================\n",
      "【Epoch 850】\n",
      "    training loss: 1.205503\n",
      "    training error rate: 264 / 800(0.330000)\n",
      "    testing error rate: 28 / 91(0.307692)\n",
      "===================================\n",
      "【Epoch 900】\n",
      "    training loss: 1.189265\n",
      "    training error rate: 254 / 800(0.317500)\n",
      "    testing error rate: 25 / 91(0.274725)\n",
      "===================================\n",
      "【Epoch 950】\n",
      "    training loss: 1.153499\n",
      "    training error rate: 245 / 800(0.306250)\n",
      "    testing error rate: 24 / 91(0.263736)\n",
      "===================================\n",
      "【Epoch 1000】\n",
      "    training loss: 1.149745\n",
      "    training error rate: 242 / 800(0.302500)\n",
      "    testing error rate: 26 / 91(0.285714)\n",
      "===================================\n",
      "【Epoch 1050】\n",
      "    training loss: 1.080776\n",
      "    training error rate: 221 / 800(0.276250)\n",
      "    testing error rate: 21 / 91(0.230769)\n",
      "===================================\n",
      "【Epoch 1100】\n",
      "    training loss: 1.088000\n",
      "    training error rate: 228 / 800(0.285000)\n",
      "    testing error rate: 23 / 91(0.252747)\n",
      "===================================\n",
      "【Epoch 1150】\n",
      "    training loss: 1.257809\n",
      "    training error rate: 267 / 800(0.333750)\n",
      "    testing error rate: 25 / 91(0.274725)\n",
      "===================================\n",
      "【Epoch 1200】\n",
      "    training loss: 1.066339\n",
      "    training error rate: 213 / 800(0.266250)\n",
      "    testing error rate: 23 / 91(0.252747)\n",
      "===================================\n",
      "【Epoch 1250】\n",
      "    training loss: 1.014702\n",
      "    training error rate: 179 / 800(0.223750)\n",
      "    testing error rate: 19 / 91(0.208791)\n",
      "===================================\n",
      "【Epoch 1300】\n",
      "    training loss: 1.050740\n",
      "    training error rate: 202 / 800(0.252500)\n",
      "    testing error rate: 22 / 91(0.241758)\n",
      "===================================\n",
      "【Epoch 1350】\n",
      "    training loss: 0.995550\n",
      "    training error rate: 169 / 800(0.211250)\n",
      "    testing error rate: 19 / 91(0.208791)\n",
      "===================================\n",
      "【Epoch 1400】\n",
      "    training loss: 0.994537\n",
      "    training error rate: 171 / 800(0.213750)\n",
      "    testing error rate: 19 / 91(0.208791)\n",
      "===================================\n",
      "【Epoch 1450】\n",
      "    training loss: 1.101971\n",
      "    training error rate: 214 / 800(0.267500)\n",
      "    testing error rate: 23 / 91(0.252747)\n",
      "===================================\n",
      "【Epoch 1500】\n",
      "    training loss: 1.045124\n",
      "    training error rate: 187 / 800(0.233750)\n",
      "    testing error rate: 23 / 91(0.252747)\n",
      "===================================\n",
      "【Epoch 1550】\n",
      "    training loss: 0.986537\n",
      "    training error rate: 170 / 800(0.212500)\n",
      "    testing error rate: 18 / 91(0.197802)\n",
      "===================================\n",
      "【Epoch 1600】\n",
      "    training loss: 1.023784\n",
      "    training error rate: 187 / 800(0.233750)\n",
      "    testing error rate: 18 / 91(0.197802)\n",
      "===================================\n",
      "【Epoch 1650】\n",
      "    training loss: 1.063868\n",
      "    training error rate: 201 / 800(0.251250)\n",
      "    testing error rate: 21 / 91(0.230769)\n",
      "===================================\n",
      "【Epoch 1700】\n",
      "    training loss: 1.004462\n",
      "    training error rate: 180 / 800(0.225000)\n",
      "    testing error rate: 19 / 91(0.208791)\n",
      "===================================\n",
      "【Epoch 1750】\n",
      "    training loss: 1.010287\n",
      "    training error rate: 173 / 800(0.216250)\n",
      "    testing error rate: 20 / 91(0.219780)\n",
      "===================================\n",
      "【Epoch 1800】\n",
      "    training loss: 0.988561\n",
      "    training error rate: 178 / 800(0.222500)\n",
      "    testing error rate: 19 / 91(0.208791)\n",
      "===================================\n",
      "【Epoch 1850】\n",
      "    training loss: 1.014545\n",
      "    training error rate: 177 / 800(0.221250)\n",
      "    testing error rate: 21 / 91(0.230769)\n",
      "===================================\n",
      "【Epoch 1900】\n",
      "    training loss: 1.015103\n",
      "    training error rate: 176 / 800(0.220000)\n",
      "    testing error rate: 21 / 91(0.230769)\n",
      "===================================\n",
      "【Epoch 1950】\n",
      "    training loss: 0.981122\n",
      "    training error rate: 173 / 800(0.216250)\n",
      "    testing error rate: 19 / 91(0.208791)\n",
      "===================================\n",
      "【Epoch 2000】\n",
      "    training loss: 1.094621\n",
      "    training error rate: 219 / 800(0.273750)\n",
      "    testing error rate: 28 / 91(0.307692)\n",
      "===================================\n",
      "【Epoch 2050】\n",
      "    training loss: 0.976912\n",
      "    training error rate: 173 / 800(0.216250)\n",
      "    testing error rate: 19 / 91(0.208791)\n",
      "===================================\n",
      "【Epoch 2100】\n",
      "    training loss: 0.973900\n",
      "    training error rate: 167 / 800(0.208750)\n",
      "    testing error rate: 19 / 91(0.208791)\n",
      "===================================\n",
      "【Epoch 2150】\n",
      "    training loss: 0.971284\n",
      "    training error rate: 168 / 800(0.210000)\n",
      "    testing error rate: 19 / 91(0.208791)\n",
      "===================================\n",
      "【Epoch 2200】\n",
      "    training loss: 0.971122\n",
      "    training error rate: 173 / 800(0.216250)\n",
      "    testing error rate: 18 / 91(0.197802)\n",
      "===================================\n",
      "【Epoch 2250】\n",
      "    training loss: 0.969263\n",
      "    training error rate: 163 / 800(0.203750)\n",
      "    testing error rate: 16 / 91(0.175824)\n",
      "===================================\n",
      "【Epoch 2300】\n",
      "    training loss: 1.016974\n",
      "    training error rate: 177 / 800(0.221250)\n",
      "    testing error rate: 22 / 91(0.241758)\n",
      "===================================\n",
      "【Epoch 2350】\n",
      "    training loss: 0.972374\n",
      "    training error rate: 164 / 800(0.205000)\n",
      "    testing error rate: 18 / 91(0.197802)\n",
      "===================================\n",
      "【Epoch 2400】\n",
      "    training loss: 0.977932\n",
      "    training error rate: 175 / 800(0.218750)\n",
      "    testing error rate: 18 / 91(0.197802)\n",
      "===================================\n",
      "【Epoch 2450】\n",
      "    training loss: 1.030981\n",
      "    training error rate: 192 / 800(0.240000)\n",
      "    testing error rate: 18 / 91(0.197802)\n",
      "===================================\n",
      "【Epoch 2500】\n",
      "    training loss: 0.993527\n",
      "    training error rate: 180 / 800(0.225000)\n",
      "    testing error rate: 19 / 91(0.208791)\n"
     ]
    },
    {
     "name": "stdout",
     "output_type": "stream",
     "text": [
      "===================================\n",
      "【Epoch 2550】\n",
      "    training loss: 0.978235\n",
      "    training error rate: 171 / 800(0.213750)\n",
      "    testing error rate: 20 / 91(0.219780)\n",
      "===================================\n",
      "【Epoch 2600】\n",
      "    training loss: 0.960258\n",
      "    training error rate: 168 / 800(0.210000)\n",
      "    testing error rate: 18 / 91(0.197802)\n",
      "===================================\n",
      "【Epoch 2650】\n",
      "    training loss: 0.995808\n",
      "    training error rate: 180 / 800(0.225000)\n",
      "    testing error rate: 19 / 91(0.208791)\n",
      "===================================\n",
      "【Epoch 2700】\n",
      "    training loss: 0.958065\n",
      "    training error rate: 162 / 800(0.202500)\n",
      "    testing error rate: 17 / 91(0.186813)\n",
      "===================================\n",
      "【Epoch 2750】\n",
      "    training loss: 0.957253\n",
      "    training error rate: 160 / 800(0.200000)\n",
      "    testing error rate: 17 / 91(0.186813)\n",
      "===================================\n",
      "【Epoch 2800】\n",
      "    training loss: 0.989404\n",
      "    training error rate: 179 / 800(0.223750)\n",
      "    testing error rate: 20 / 91(0.219780)\n",
      "===================================\n",
      "【Epoch 2850】\n",
      "    training loss: 0.987161\n",
      "    training error rate: 165 / 800(0.206250)\n",
      "    testing error rate: 19 / 91(0.208791)\n",
      "===================================\n",
      "【Epoch 2900】\n",
      "    training loss: 0.978045\n",
      "    training error rate: 174 / 800(0.217500)\n",
      "    testing error rate: 19 / 91(0.208791)\n",
      "===================================\n",
      "【Epoch 2950】\n",
      "    training loss: 0.968225\n",
      "    training error rate: 172 / 800(0.215000)\n",
      "    testing error rate: 18 / 91(0.197802)\n"
     ]
    }
   ],
   "source": [
    "module2.SGD(training_data, testing_data, 3000, 100, 0.03)"
   ]
  },
  {
   "cell_type": "code",
   "execution_count": 13,
   "metadata": {
    "ExecuteTime": {
     "end_time": "2019-04-08T13:32:04.833106Z",
     "start_time": "2019-04-08T13:32:04.714902Z"
    }
   },
   "outputs": [
    {
     "data": {
      "text/plain": [
       "Text(0, 0.5, 'Average cross entropy')"
      ]
     },
     "execution_count": 13,
     "metadata": {},
     "output_type": "execute_result"
    },
    {
     "data": {
      "image/png": "[encoded data removed]",
      "text/plain": [
       "<Figure size 432x288 with 1 Axes>"
      ]
     },
     "metadata": {},
     "output_type": "display_data"
    }
   ],
   "source": [
    "fig, ax = plt.subplots(1, 1)\n",
    "ax.plot(new_x_axis, module2.training_loss)\n",
    "ax.set_title('training loss')\n",
    "ax.set_xlabel('Epochs')\n",
    "ax.set_ylabel('Average cross entropy')"
   ]
  },
  {
   "cell_type": "code",
   "execution_count": 14,
   "metadata": {
    "ExecuteTime": {
     "end_time": "2019-04-08T13:32:05.095102Z",
     "start_time": "2019-04-08T13:32:04.835954Z"
    }
   },
   "outputs": [
    {
     "data": {
      "text/plain": [
       "Text(0, 0.5, 'Error rate')"
      ]
     },
     "execution_count": 14,
     "metadata": {},
     "output_type": "execute_result"
    },
    {
     "data": {
      "image/png": "[encoded data removed]",
      "text/plain": [
       "<Figure size 864x288 with 2 Axes>"
      ]
     },
     "metadata": {},
     "output_type": "display_data"
    }
   ],
   "source": [
    "fig, ax = plt.subplots(1, 2)\n",
    "fig.set_size_inches(12, 4)\n",
    "ax[0].plot(new_x_axis, module2.training_error_rate)\n",
    "ax[0].set_title('training error rate')\n",
    "ax[0].set_xlabel('Epochs')\n",
    "ax[0].set_ylabel('Error rate')\n",
    "\n",
    "ax[1].plot(new_x_axis, module2.testing_error_rate)\n",
    "ax[1].set_title('testing error rate')\n",
    "ax[1].set_xlabel('Epochs')\n",
    "ax[1].set_ylabel('Error rate')"
   ]
  },
  {
   "cell_type": "markdown",
   "metadata": {},
   "source": [
    "#### p4"
   ]
  },
  {
   "cell_type": "code",
   "execution_count": 15,
   "metadata": {
    "ExecuteTime": {
     "end_time": "2019-04-08T13:32:05.106126Z",
     "start_time": "2019-04-08T13:32:05.096359Z"
    }
   },
   "outputs": [
    {
     "data": {
      "text/html": [
       "<div>\n",
       "<style scoped>\n",
       "    .dataframe tbody tr th:only-of-type {\n",
       "        vertical-align: middle;\n",
       "    }\n",
       "\n",
       "    .dataframe tbody tr th {\n",
       "        vertical-align: top;\n",
       "    }\n",
       "\n",
       "    .dataframe thead th {\n",
       "        text-align: right;\n",
       "    }\n",
       "</style>\n",
       "<table border=\"1\" class=\"dataframe\">\n",
       "  <thead>\n",
       "    <tr style=\"text-align: right;\">\n",
       "      <th></th>\n",
       "      <th>Survived</th>\n",
       "      <th>Pclass</th>\n",
       "      <th>Sex</th>\n",
       "      <th>Age</th>\n",
       "      <th>SibSp</th>\n",
       "      <th>Parch</th>\n",
       "      <th>Fare</th>\n",
       "    </tr>\n",
       "  </thead>\n",
       "  <tbody>\n",
       "    <tr>\n",
       "      <th>0</th>\n",
       "      <td>0</td>\n",
       "      <td>3</td>\n",
       "      <td>1</td>\n",
       "      <td>22.0</td>\n",
       "      <td>1</td>\n",
       "      <td>0</td>\n",
       "      <td>7.2500</td>\n",
       "    </tr>\n",
       "    <tr>\n",
       "      <th>1</th>\n",
       "      <td>1</td>\n",
       "      <td>1</td>\n",
       "      <td>0</td>\n",
       "      <td>38.0</td>\n",
       "      <td>1</td>\n",
       "      <td>0</td>\n",
       "      <td>71.2833</td>\n",
       "    </tr>\n",
       "    <tr>\n",
       "      <th>2</th>\n",
       "      <td>1</td>\n",
       "      <td>3</td>\n",
       "      <td>0</td>\n",
       "      <td>26.0</td>\n",
       "      <td>0</td>\n",
       "      <td>0</td>\n",
       "      <td>7.9250</td>\n",
       "    </tr>\n",
       "    <tr>\n",
       "      <th>3</th>\n",
       "      <td>1</td>\n",
       "      <td>1</td>\n",
       "      <td>0</td>\n",
       "      <td>35.0</td>\n",
       "      <td>1</td>\n",
       "      <td>0</td>\n",
       "      <td>53.1000</td>\n",
       "    </tr>\n",
       "    <tr>\n",
       "      <th>4</th>\n",
       "      <td>0</td>\n",
       "      <td>3</td>\n",
       "      <td>1</td>\n",
       "      <td>35.0</td>\n",
       "      <td>0</td>\n",
       "      <td>0</td>\n",
       "      <td>8.0500</td>\n",
       "    </tr>\n",
       "  </tbody>\n",
       "</table>\n",
       "</div>"
      ],
      "text/plain": [
       "   Survived  Pclass  Sex   Age  SibSp  Parch     Fare\n",
       "0         0       3    1  22.0      1      0   7.2500\n",
       "1         1       1    0  38.0      1      0  71.2833\n",
       "2         1       3    0  26.0      0      0   7.9250\n",
       "3         1       1    0  35.0      1      0  53.1000\n",
       "4         0       3    1  35.0      0      0   8.0500"
      ]
     },
     "execution_count": 15,
     "metadata": {},
     "output_type": "execute_result"
    }
   ],
   "source": [
    "df.head()"
   ]
  },
  {
   "cell_type": "code",
   "execution_count": 16,
   "metadata": {
    "ExecuteTime": {
     "end_time": "2019-04-08T13:32:05.131907Z",
     "start_time": "2019-04-08T13:32:05.107107Z"
    }
   },
   "outputs": [
    {
     "data": {
      "text/plain": [
       "array([[ 0.48034168,  4.39749411,  0.01074326,  0.70127273,  0.34607828,\n",
       "        -0.05292099],\n",
       "       [ 0.48034168,  4.39749411,  0.01074326,  0.70127273,  0.34607828,\n",
       "        -0.05292099],\n",
       "       [ 0.48034168,  4.39749411,  0.01074326,  0.70127273,  0.34607828,\n",
       "        -0.05292099]])"
      ]
     },
     "execution_count": 16,
     "metadata": {},
     "output_type": "execute_result"
    }
   ],
   "source": [
    "module2.weights[0]"
   ]
  },
  {
   "cell_type": "markdown",
   "metadata": {},
   "source": [
    "#### p3."
   ]
  },
  {
   "cell_type": "code",
   "execution_count": 17,
   "metadata": {
    "ExecuteTime": {
     "end_time": "2019-04-08T13:32:49.194451Z",
     "start_time": "2019-04-08T13:32:49.179375Z"
    }
   },
   "outputs": [
    {
     "data": {
      "text/html": [
       "<div>\n",
       "<style scoped>\n",
       "    .dataframe tbody tr th:only-of-type {\n",
       "        vertical-align: middle;\n",
       "    }\n",
       "\n",
       "    .dataframe tbody tr th {\n",
       "        vertical-align: top;\n",
       "    }\n",
       "\n",
       "    .dataframe thead th {\n",
       "        text-align: right;\n",
       "    }\n",
       "</style>\n",
       "<table border=\"1\" class=\"dataframe\">\n",
       "  <thead>\n",
       "    <tr style=\"text-align: right;\">\n",
       "      <th></th>\n",
       "      <th>Survived</th>\n",
       "      <th>Pclass</th>\n",
       "      <th>Sex</th>\n",
       "      <th>Age</th>\n",
       "      <th>SibSp</th>\n",
       "      <th>Parch</th>\n",
       "      <th>Fare</th>\n",
       "    </tr>\n",
       "  </thead>\n",
       "  <tbody>\n",
       "    <tr>\n",
       "      <th>0</th>\n",
       "      <td>0</td>\n",
       "      <td>3</td>\n",
       "      <td>1</td>\n",
       "      <td>22.0</td>\n",
       "      <td>1</td>\n",
       "      <td>0</td>\n",
       "      <td>7.2500</td>\n",
       "    </tr>\n",
       "    <tr>\n",
       "      <th>1</th>\n",
       "      <td>1</td>\n",
       "      <td>1</td>\n",
       "      <td>0</td>\n",
       "      <td>38.0</td>\n",
       "      <td>1</td>\n",
       "      <td>0</td>\n",
       "      <td>71.2833</td>\n",
       "    </tr>\n",
       "    <tr>\n",
       "      <th>2</th>\n",
       "      <td>1</td>\n",
       "      <td>3</td>\n",
       "      <td>0</td>\n",
       "      <td>26.0</td>\n",
       "      <td>0</td>\n",
       "      <td>0</td>\n",
       "      <td>7.9250</td>\n",
       "    </tr>\n",
       "    <tr>\n",
       "      <th>3</th>\n",
       "      <td>1</td>\n",
       "      <td>1</td>\n",
       "      <td>0</td>\n",
       "      <td>35.0</td>\n",
       "      <td>1</td>\n",
       "      <td>0</td>\n",
       "      <td>53.1000</td>\n",
       "    </tr>\n",
       "    <tr>\n",
       "      <th>4</th>\n",
       "      <td>0</td>\n",
       "      <td>3</td>\n",
       "      <td>1</td>\n",
       "      <td>35.0</td>\n",
       "      <td>0</td>\n",
       "      <td>0</td>\n",
       "      <td>8.0500</td>\n",
       "    </tr>\n",
       "  </tbody>\n",
       "</table>\n",
       "</div>"
      ],
      "text/plain": [
       "   Survived  Pclass  Sex   Age  SibSp  Parch     Fare\n",
       "0         0       3    1  22.0      1      0   7.2500\n",
       "1         1       1    0  38.0      1      0  71.2833\n",
       "2         1       3    0  26.0      0      0   7.9250\n",
       "3         1       1    0  35.0      1      0  53.1000\n",
       "4         0       3    1  35.0      0      0   8.0500"
      ]
     },
     "execution_count": 17,
     "metadata": {},
     "output_type": "execute_result"
    }
   ],
   "source": [
    "df_new = df.copy()\n",
    "df_new.head()"
   ]
  },
  {
   "cell_type": "code",
   "execution_count": 18,
   "metadata": {
    "ExecuteTime": {
     "end_time": "2019-04-08T13:32:51.773670Z",
     "start_time": "2019-04-08T13:32:51.769886Z"
    }
   },
   "outputs": [],
   "source": [
    "from sklearn.preprocessing import StandardScaler"
   ]
  },
  {
   "cell_type": "code",
   "execution_count": 19,
   "metadata": {
    "ExecuteTime": {
     "end_time": "2019-04-08T13:33:03.216494Z",
     "start_time": "2019-04-08T13:33:03.210401Z"
    }
   },
   "outputs": [],
   "source": [
    "fare_scaler = StandardScaler()\n",
    "df_new['Fare'] = pd.DataFrame(fare_scaler.fit_transform(df_new['Fare'].values.reshape(-1,1)))"
   ]
  },
  {
   "cell_type": "code",
   "execution_count": 20,
   "metadata": {
    "ExecuteTime": {
     "end_time": "2019-04-08T13:33:04.953062Z",
     "start_time": "2019-04-08T13:33:04.939318Z"
    }
   },
   "outputs": [
    {
     "data": {
      "text/html": [
       "<div>\n",
       "<style scoped>\n",
       "    .dataframe tbody tr th:only-of-type {\n",
       "        vertical-align: middle;\n",
       "    }\n",
       "\n",
       "    .dataframe tbody tr th {\n",
       "        vertical-align: top;\n",
       "    }\n",
       "\n",
       "    .dataframe thead th {\n",
       "        text-align: right;\n",
       "    }\n",
       "</style>\n",
       "<table border=\"1\" class=\"dataframe\">\n",
       "  <thead>\n",
       "    <tr style=\"text-align: right;\">\n",
       "      <th></th>\n",
       "      <th>Survived</th>\n",
       "      <th>Pclass</th>\n",
       "      <th>Sex</th>\n",
       "      <th>Age</th>\n",
       "      <th>SibSp</th>\n",
       "      <th>Parch</th>\n",
       "      <th>Fare</th>\n",
       "    </tr>\n",
       "  </thead>\n",
       "  <tbody>\n",
       "    <tr>\n",
       "      <th>0</th>\n",
       "      <td>0</td>\n",
       "      <td>3</td>\n",
       "      <td>1</td>\n",
       "      <td>22.0</td>\n",
       "      <td>1</td>\n",
       "      <td>0</td>\n",
       "      <td>-0.502445</td>\n",
       "    </tr>\n",
       "    <tr>\n",
       "      <th>1</th>\n",
       "      <td>1</td>\n",
       "      <td>1</td>\n",
       "      <td>0</td>\n",
       "      <td>38.0</td>\n",
       "      <td>1</td>\n",
       "      <td>0</td>\n",
       "      <td>0.786845</td>\n",
       "    </tr>\n",
       "    <tr>\n",
       "      <th>2</th>\n",
       "      <td>1</td>\n",
       "      <td>3</td>\n",
       "      <td>0</td>\n",
       "      <td>26.0</td>\n",
       "      <td>0</td>\n",
       "      <td>0</td>\n",
       "      <td>-0.488854</td>\n",
       "    </tr>\n",
       "    <tr>\n",
       "      <th>3</th>\n",
       "      <td>1</td>\n",
       "      <td>1</td>\n",
       "      <td>0</td>\n",
       "      <td>35.0</td>\n",
       "      <td>1</td>\n",
       "      <td>0</td>\n",
       "      <td>0.420730</td>\n",
       "    </tr>\n",
       "    <tr>\n",
       "      <th>4</th>\n",
       "      <td>0</td>\n",
       "      <td>3</td>\n",
       "      <td>1</td>\n",
       "      <td>35.0</td>\n",
       "      <td>0</td>\n",
       "      <td>0</td>\n",
       "      <td>-0.486337</td>\n",
       "    </tr>\n",
       "  </tbody>\n",
       "</table>\n",
       "</div>"
      ],
      "text/plain": [
       "   Survived  Pclass  Sex   Age  SibSp  Parch      Fare\n",
       "0         0       3    1  22.0      1      0 -0.502445\n",
       "1         1       1    0  38.0      1      0  0.786845\n",
       "2         1       3    0  26.0      0      0 -0.488854\n",
       "3         1       1    0  35.0      1      0  0.420730\n",
       "4         0       3    1  35.0      0      0 -0.486337"
      ]
     },
     "execution_count": 20,
     "metadata": {},
     "output_type": "execute_result"
    }
   ],
   "source": [
    "df_new.head()"
   ]
  },
  {
   "cell_type": "code",
   "execution_count": 22,
   "metadata": {
    "ExecuteTime": {
     "end_time": "2019-04-08T13:33:15.878582Z",
     "start_time": "2019-04-08T13:33:15.864792Z"
    }
   },
   "outputs": [
    {
     "name": "stdout",
     "output_type": "stream",
     "text": [
      "(800, 6, 1) (800, 2, 1)\n",
      "(91, 6, 1) (91, 2, 1)\n"
     ]
    }
   ],
   "source": [
    "training_set = df_new[:800]\n",
    "testing_set = df_new[800:]\n",
    "\n",
    "X_train = training_set[['Pclass', 'Sex', 'Age', 'SibSp', 'Parch', 'Fare']].values\n",
    "X_test = testing_set[['Pclass', 'Sex', 'Age', 'SibSp', 'Parch', 'Fare']].values\n",
    "X_train = X_train.reshape(X_train.shape[0], -1, 1)\n",
    "X_test = X_test.reshape(X_test.shape[0], -1, 1)\n",
    "\n",
    "y_train = training_set['Survived'].values\n",
    "y_test = testing_set['Survived'].values\n",
    "y_train = to_categorical(y_train).reshape(y_train.shape[0], -1, 1)\n",
    "y_test = to_categorical(y_test).reshape(y_test.shape[0], -1, 1)\n",
    "\n",
    "print(X_train.shape, y_train.shape)\n",
    "print(X_test.shape, y_test.shape)\n",
    "\n",
    "# combine data & labels \n",
    "training_data = list(zip(X_train, y_train))\n",
    "testing_data = list(zip(X_test, y_test))"
   ]
  },
  {
   "cell_type": "code",
   "execution_count": 23,
   "metadata": {
    "ExecuteTime": {
     "end_time": "2019-04-08T13:35:35.317174Z",
     "start_time": "2019-04-08T13:33:16.604749Z"
    }
   },
   "outputs": [
    {
     "name": "stdout",
     "output_type": "stream",
     "text": [
      "===================================\n",
      "【Epoch 0】\n",
      "    training loss: 1.359142\n",
      "    training error rate: 308 / 800(0.385000)\n",
      "    testing error rate: 34 / 91(0.373626)\n",
      "===================================\n",
      "【Epoch 50】\n",
      "    training loss: 1.332919\n",
      "    training error rate: 308 / 800(0.385000)\n",
      "    testing error rate: 34 / 91(0.373626)\n",
      "===================================\n",
      "【Epoch 100】\n",
      "    training loss: 1.332917\n",
      "    training error rate: 308 / 800(0.385000)\n",
      "    testing error rate: 34 / 91(0.373626)\n",
      "===================================\n",
      "【Epoch 150】\n",
      "    training loss: 1.332917\n",
      "    training error rate: 308 / 800(0.385000)\n",
      "    testing error rate: 34 / 91(0.373626)\n",
      "===================================\n",
      "【Epoch 200】\n",
      "    training loss: 1.332917\n",
      "    training error rate: 308 / 800(0.385000)\n",
      "    testing error rate: 34 / 91(0.373626)\n",
      "===================================\n",
      "【Epoch 250】\n",
      "    training loss: 1.332917\n",
      "    training error rate: 308 / 800(0.385000)\n",
      "    testing error rate: 34 / 91(0.373626)\n",
      "===================================\n",
      "【Epoch 300】\n",
      "    training loss: 1.332916\n",
      "    training error rate: 308 / 800(0.385000)\n",
      "    testing error rate: 34 / 91(0.373626)\n",
      "===================================\n",
      "【Epoch 350】\n",
      "    training loss: 1.332914\n",
      "    training error rate: 308 / 800(0.385000)\n",
      "    testing error rate: 34 / 91(0.373626)\n",
      "===================================\n",
      "【Epoch 400】\n",
      "    training loss: 1.332913\n",
      "    training error rate: 308 / 800(0.385000)\n",
      "    testing error rate: 34 / 91(0.373626)\n",
      "===================================\n",
      "【Epoch 450】\n",
      "    training loss: 1.332909\n",
      "    training error rate: 308 / 800(0.385000)\n",
      "    testing error rate: 34 / 91(0.373626)\n",
      "===================================\n",
      "【Epoch 500】\n",
      "    training loss: 1.332912\n",
      "    training error rate: 308 / 800(0.385000)\n",
      "    testing error rate: 34 / 91(0.373626)\n",
      "===================================\n",
      "【Epoch 550】\n",
      "    training loss: 1.332898\n",
      "    training error rate: 308 / 800(0.385000)\n",
      "    testing error rate: 34 / 91(0.373626)\n",
      "===================================\n",
      "【Epoch 600】\n",
      "    training loss: 1.332879\n",
      "    training error rate: 308 / 800(0.385000)\n",
      "    testing error rate: 34 / 91(0.373626)\n",
      "===================================\n",
      "【Epoch 650】\n",
      "    training loss: 1.332853\n",
      "    training error rate: 308 / 800(0.385000)\n",
      "    testing error rate: 34 / 91(0.373626)\n",
      "===================================\n",
      "【Epoch 700】\n",
      "    training loss: 1.332806\n",
      "    training error rate: 308 / 800(0.385000)\n",
      "    testing error rate: 34 / 91(0.373626)\n",
      "===================================\n",
      "【Epoch 750】\n",
      "    training loss: 1.332743\n",
      "    training error rate: 308 / 800(0.385000)\n",
      "    testing error rate: 34 / 91(0.373626)\n",
      "===================================\n",
      "【Epoch 800】\n",
      "    training loss: 1.332579\n",
      "    training error rate: 308 / 800(0.385000)\n",
      "    testing error rate: 34 / 91(0.373626)\n",
      "===================================\n",
      "【Epoch 850】\n",
      "    training loss: 1.332290\n",
      "    training error rate: 308 / 800(0.385000)\n",
      "    testing error rate: 34 / 91(0.373626)\n",
      "===================================\n",
      "【Epoch 900】\n",
      "    training loss: 1.331687\n",
      "    training error rate: 308 / 800(0.385000)\n",
      "    testing error rate: 34 / 91(0.373626)\n",
      "===================================\n",
      "【Epoch 950】\n",
      "    training loss: 1.330274\n",
      "    training error rate: 308 / 800(0.385000)\n",
      "    testing error rate: 34 / 91(0.373626)\n",
      "===================================\n",
      "【Epoch 1000】\n",
      "    training loss: 1.326667\n",
      "    training error rate: 308 / 800(0.385000)\n",
      "    testing error rate: 34 / 91(0.373626)\n",
      "===================================\n",
      "【Epoch 1050】\n",
      "    training loss: 1.317046\n",
      "    training error rate: 308 / 800(0.385000)\n",
      "    testing error rate: 34 / 91(0.373626)\n",
      "===================================\n",
      "【Epoch 1100】\n",
      "    training loss: 1.294522\n",
      "    training error rate: 308 / 800(0.385000)\n",
      "    testing error rate: 34 / 91(0.373626)\n",
      "===================================\n",
      "【Epoch 1150】\n",
      "    training loss: 1.268098\n",
      "    training error rate: 296 / 800(0.370000)\n",
      "    testing error rate: 34 / 91(0.373626)\n",
      "===================================\n",
      "【Epoch 1200】\n",
      "    training loss: 1.185563\n",
      "    training error rate: 252 / 800(0.315000)\n",
      "    testing error rate: 28 / 91(0.307692)\n",
      "===================================\n",
      "【Epoch 1250】\n",
      "    training loss: 1.259664\n",
      "    training error rate: 278 / 800(0.347500)\n",
      "    testing error rate: 34 / 91(0.373626)\n",
      "===================================\n",
      "【Epoch 1300】\n",
      "    training loss: 1.064621\n",
      "    training error rate: 171 / 800(0.213750)\n",
      "    testing error rate: 20 / 91(0.219780)\n",
      "===================================\n",
      "【Epoch 1350】\n",
      "    training loss: 1.024573\n",
      "    training error rate: 165 / 800(0.206250)\n",
      "    testing error rate: 18 / 91(0.197802)\n",
      "===================================\n",
      "【Epoch 1400】\n",
      "    training loss: 1.089819\n",
      "    training error rate: 212 / 800(0.265000)\n",
      "    testing error rate: 26 / 91(0.285714)\n",
      "===================================\n",
      "【Epoch 1450】\n",
      "    training loss: 1.011925\n",
      "    training error rate: 163 / 800(0.203750)\n",
      "    testing error rate: 18 / 91(0.197802)\n",
      "===================================\n",
      "【Epoch 1500】\n",
      "    training loss: 1.003990\n",
      "    training error rate: 169 / 800(0.211250)\n",
      "    testing error rate: 18 / 91(0.197802)\n",
      "===================================\n",
      "【Epoch 1550】\n",
      "    training loss: 0.990625\n",
      "    training error rate: 155 / 800(0.193750)\n",
      "    testing error rate: 18 / 91(0.197802)\n",
      "===================================\n",
      "【Epoch 1600】\n",
      "    training loss: 0.996711\n",
      "    training error rate: 167 / 800(0.208750)\n",
      "    testing error rate: 18 / 91(0.197802)\n",
      "===================================\n",
      "【Epoch 1650】\n",
      "    training loss: 1.091725\n",
      "    training error rate: 211 / 800(0.263750)\n",
      "    testing error rate: 25 / 91(0.274725)\n",
      "===================================\n",
      "【Epoch 1700】\n",
      "    training loss: 0.980620\n",
      "    training error rate: 165 / 800(0.206250)\n",
      "    testing error rate: 18 / 91(0.197802)\n",
      "===================================\n",
      "【Epoch 1750】\n",
      "    training loss: 0.967489\n",
      "    training error rate: 164 / 800(0.205000)\n",
      "    testing error rate: 19 / 91(0.208791)\n",
      "===================================\n",
      "【Epoch 1800】\n",
      "    training loss: 0.980539\n",
      "    training error rate: 168 / 800(0.210000)\n",
      "    testing error rate: 19 / 91(0.208791)\n",
      "===================================\n",
      "【Epoch 1850】\n",
      "    training loss: 1.082002\n",
      "    training error rate: 208 / 800(0.260000)\n",
      "    testing error rate: 28 / 91(0.307692)\n",
      "===================================\n",
      "【Epoch 1900】\n",
      "    training loss: 0.983616\n",
      "    training error rate: 161 / 800(0.201250)\n",
      "    testing error rate: 20 / 91(0.219780)\n",
      "===================================\n",
      "【Epoch 1950】\n",
      "    training loss: 0.987111\n",
      "    training error rate: 167 / 800(0.208750)\n",
      "    testing error rate: 21 / 91(0.230769)\n",
      "===================================\n",
      "【Epoch 2000】\n",
      "    training loss: 0.956379\n",
      "    training error rate: 159 / 800(0.198750)\n",
      "    testing error rate: 19 / 91(0.208791)\n",
      "===================================\n",
      "【Epoch 2050】\n",
      "    training loss: 1.119560\n",
      "    training error rate: 199 / 800(0.248750)\n",
      "    testing error rate: 20 / 91(0.219780)\n",
      "===================================\n",
      "【Epoch 2100】\n",
      "    training loss: 0.945149\n",
      "    training error rate: 156 / 800(0.195000)\n",
      "    testing error rate: 19 / 91(0.208791)\n",
      "===================================\n",
      "【Epoch 2150】\n",
      "    training loss: 0.936270\n",
      "    training error rate: 156 / 800(0.195000)\n",
      "    testing error rate: 18 / 91(0.197802)\n",
      "===================================\n",
      "【Epoch 2200】\n",
      "    training loss: 1.007418\n",
      "    training error rate: 181 / 800(0.226250)\n",
      "    testing error rate: 20 / 91(0.219780)\n",
      "===================================\n",
      "【Epoch 2250】\n",
      "    training loss: 0.986804\n",
      "    training error rate: 166 / 800(0.207500)\n",
      "    testing error rate: 19 / 91(0.208791)\n",
      "===================================\n",
      "【Epoch 2300】\n",
      "    training loss: 0.954882\n",
      "    training error rate: 157 / 800(0.196250)\n",
      "    testing error rate: 18 / 91(0.197802)\n",
      "===================================\n",
      "【Epoch 2350】\n",
      "    training loss: 0.938807\n",
      "    training error rate: 156 / 800(0.195000)\n",
      "    testing error rate: 17 / 91(0.186813)\n",
      "===================================\n",
      "【Epoch 2400】\n",
      "    training loss: 1.033120\n",
      "    training error rate: 195 / 800(0.243750)\n",
      "    testing error rate: 25 / 91(0.274725)\n",
      "===================================\n",
      "【Epoch 2450】\n",
      "    training loss: 0.939949\n",
      "    training error rate: 155 / 800(0.193750)\n",
      "    testing error rate: 19 / 91(0.208791)\n",
      "===================================\n",
      "【Epoch 2500】\n",
      "    training loss: 0.947014\n",
      "    training error rate: 157 / 800(0.196250)\n",
      "    testing error rate: 18 / 91(0.197802)\n"
     ]
    },
    {
     "name": "stdout",
     "output_type": "stream",
     "text": [
      "===================================\n",
      "【Epoch 2550】\n",
      "    training loss: 1.042190\n",
      "    training error rate: 197 / 800(0.246250)\n",
      "    testing error rate: 26 / 91(0.285714)\n",
      "===================================\n",
      "【Epoch 2600】\n",
      "    training loss: 1.060585\n",
      "    training error rate: 186 / 800(0.232500)\n",
      "    testing error rate: 17 / 91(0.186813)\n",
      "===================================\n",
      "【Epoch 2650】\n",
      "    training loss: 0.926642\n",
      "    training error rate: 150 / 800(0.187500)\n",
      "    testing error rate: 18 / 91(0.197802)\n",
      "===================================\n",
      "【Epoch 2700】\n",
      "    training loss: 0.931730\n",
      "    training error rate: 152 / 800(0.190000)\n",
      "    testing error rate: 18 / 91(0.197802)\n",
      "===================================\n",
      "【Epoch 2750】\n",
      "    training loss: 0.939486\n",
      "    training error rate: 157 / 800(0.196250)\n",
      "    testing error rate: 18 / 91(0.197802)\n",
      "===================================\n",
      "【Epoch 2800】\n",
      "    training loss: 0.929057\n",
      "    training error rate: 153 / 800(0.191250)\n",
      "    testing error rate: 17 / 91(0.186813)\n",
      "===================================\n",
      "【Epoch 2850】\n",
      "    training loss: 0.905953\n",
      "    training error rate: 148 / 800(0.185000)\n",
      "    testing error rate: 19 / 91(0.208791)\n",
      "===================================\n",
      "【Epoch 2900】\n",
      "    training loss: 0.909468\n",
      "    training error rate: 153 / 800(0.191250)\n",
      "    testing error rate: 18 / 91(0.197802)\n",
      "===================================\n",
      "【Epoch 2950】\n",
      "    training loss: 0.933446\n",
      "    training error rate: 156 / 800(0.195000)\n",
      "    testing error rate: 17 / 91(0.186813)\n"
     ]
    }
   ],
   "source": [
    "module3 = NN([6, 3, 3, 2])\n",
    "module3.SGD(training_data, testing_data, 3000, 100, 0.1)"
   ]
  },
  {
   "cell_type": "code",
   "execution_count": 24,
   "metadata": {
    "ExecuteTime": {
     "end_time": "2019-04-08T13:35:35.322633Z",
     "start_time": "2019-04-08T13:35:35.319417Z"
    }
   },
   "outputs": [],
   "source": [
    "new_x_axis = np.arange(0, 3000, 50)"
   ]
  },
  {
   "cell_type": "code",
   "execution_count": 25,
   "metadata": {
    "ExecuteTime": {
     "end_time": "2019-04-08T13:35:35.545998Z",
     "start_time": "2019-04-08T13:35:35.323861Z"
    }
   },
   "outputs": [
    {
     "data": {
      "text/plain": [
       "Text(0, 0.5, 'Average cross entropy')"
      ]
     },
     "execution_count": 25,
     "metadata": {},
     "output_type": "execute_result"
    },
    {
     "data": {
      "image/png": "[encoded data removed]",
      "text/plain": [
       "<Figure size 432x288 with 1 Axes>"
      ]
     },
     "metadata": {},
     "output_type": "display_data"
    }
   ],
   "source": [
    "fig, ax = plt.subplots(1, 1)\n",
    "ax.plot(new_x_axis, module3.training_loss)\n",
    "ax.set_title('training loss')\n",
    "ax.set_xlabel('Epochs')\n",
    "ax.set_ylabel('Average cross entropy')"
   ]
  },
  {
   "cell_type": "code",
   "execution_count": 26,
   "metadata": {
    "ExecuteTime": {
     "end_time": "2019-04-08T13:35:35.788178Z",
     "start_time": "2019-04-08T13:35:35.547993Z"
    }
   },
   "outputs": [
    {
     "data": {
      "text/plain": [
       "Text(0, 0.5, 'Error rate')"
      ]
     },
     "execution_count": 26,
     "metadata": {},
     "output_type": "execute_result"
    },
    {
     "data": {
      "image/png": "[encoded data removed]",
      "text/plain": [
       "<Figure size 864x288 with 2 Axes>"
      ]
     },
     "metadata": {},
     "output_type": "display_data"
    }
   ],
   "source": [
    "fig, ax = plt.subplots(1, 2)\n",
    "fig.set_size_inches(12, 4)\n",
    "ax[0].plot(new_x_axis, module3.training_error_rate)\n",
    "ax[0].set_title('training error rate')\n",
    "ax[0].set_xlabel('Epochs')\n",
    "ax[0].set_ylabel('Error rate')\n",
    "\n",
    "ax[1].plot(new_x_axis, module3.testing_error_rate)\n",
    "ax[1].set_title('testing error rate')\n",
    "ax[1].set_xlabel('Epochs')\n",
    "ax[1].set_ylabel('Error rate')"
   ]
  },
  {
   "cell_type": "markdown",
   "metadata": {},
   "source": [
    "#### p3-2"
   ]
  },
  {
   "cell_type": "code",
   "execution_count": 27,
   "metadata": {
    "ExecuteTime": {
     "end_time": "2019-04-08T13:35:35.791615Z",
     "start_time": "2019-04-08T13:35:35.789450Z"
    }
   },
   "outputs": [],
   "source": [
    "df_new_1 = df.copy()"
   ]
  },
  {
   "cell_type": "code",
   "execution_count": 28,
   "metadata": {
    "ExecuteTime": {
     "end_time": "2019-04-08T13:35:35.820898Z",
     "start_time": "2019-04-08T13:35:35.792827Z"
    }
   },
   "outputs": [],
   "source": [
    "fare_scaler = StandardScaler()\n",
    "age_scaler = StandardScaler()\n",
    "df_new_1['Fare'] = pd.DataFrame(fare_scaler.fit_transform(df_new_1['Fare'].values.reshape(-1,1)))\n",
    "df_new_1['Age'] = pd.DataFrame(age_scaler.fit_transform(df_new_1['Age'].values.reshape(-1,1)))"
   ]
  },
  {
   "cell_type": "code",
   "execution_count": 29,
   "metadata": {
    "ExecuteTime": {
     "end_time": "2019-04-08T13:35:35.860515Z",
     "start_time": "2019-04-08T13:35:35.822990Z"
    }
   },
   "outputs": [
    {
     "name": "stdout",
     "output_type": "stream",
     "text": [
      "(800, 6, 1) (800, 2, 1)\n",
      "(91, 6, 1) (91, 2, 1)\n"
     ]
    }
   ],
   "source": [
    "training_set = df_new_1[:800]\n",
    "testing_set = df_new_1[800:]\n",
    "\n",
    "X_train = training_set[['Pclass', 'Sex', 'Age', 'SibSp', 'Parch', 'Fare']].values\n",
    "X_test = testing_set[['Pclass', 'Sex', 'Age', 'SibSp', 'Parch', 'Fare']].values\n",
    "X_train = X_train.reshape(X_train.shape[0], -1, 1)\n",
    "X_test = X_test.reshape(X_test.shape[0], -1, 1)\n",
    "\n",
    "y_train = training_set['Survived'].values\n",
    "y_test = testing_set['Survived'].values\n",
    "y_train = to_categorical(y_train).reshape(y_train.shape[0], -1, 1)\n",
    "y_test = to_categorical(y_test).reshape(y_test.shape[0], -1, 1)\n",
    "\n",
    "print(X_train.shape, y_train.shape)\n",
    "print(X_test.shape, y_test.shape)\n",
    "\n",
    "# combine data & labels \n",
    "training_data = list(zip(X_train, y_train))\n",
    "testing_data = list(zip(X_test, y_test))"
   ]
  },
  {
   "cell_type": "code",
   "execution_count": 30,
   "metadata": {
    "ExecuteTime": {
     "end_time": "2019-04-08T13:37:54.087881Z",
     "start_time": "2019-04-08T13:35:35.862786Z"
    }
   },
   "outputs": [
    {
     "name": "stdout",
     "output_type": "stream",
     "text": [
      "===================================\n",
      "【Epoch 0】\n",
      "    training loss: 1.359158\n",
      "    training error rate: 308 / 800(0.385000)\n",
      "    testing error rate: 34 / 91(0.373626)\n",
      "===================================\n",
      "【Epoch 50】\n",
      "    training loss: 1.332920\n",
      "    training error rate: 308 / 800(0.385000)\n",
      "    testing error rate: 34 / 91(0.373626)\n",
      "===================================\n",
      "【Epoch 100】\n",
      "    training loss: 1.332931\n",
      "    training error rate: 308 / 800(0.385000)\n",
      "    testing error rate: 34 / 91(0.373626)\n",
      "===================================\n",
      "【Epoch 150】\n",
      "    training loss: 1.332918\n",
      "    training error rate: 308 / 800(0.385000)\n",
      "    testing error rate: 34 / 91(0.373626)\n",
      "===================================\n",
      "【Epoch 200】\n",
      "    training loss: 1.332923\n",
      "    training error rate: 308 / 800(0.385000)\n",
      "    testing error rate: 34 / 91(0.373626)\n",
      "===================================\n",
      "【Epoch 250】\n",
      "    training loss: 1.332917\n",
      "    training error rate: 308 / 800(0.385000)\n",
      "    testing error rate: 34 / 91(0.373626)\n",
      "===================================\n",
      "【Epoch 300】\n",
      "    training loss: 1.332918\n",
      "    training error rate: 308 / 800(0.385000)\n",
      "    testing error rate: 34 / 91(0.373626)\n",
      "===================================\n",
      "【Epoch 350】\n",
      "    training loss: 1.332915\n",
      "    training error rate: 308 / 800(0.385000)\n",
      "    testing error rate: 34 / 91(0.373626)\n",
      "===================================\n",
      "【Epoch 400】\n",
      "    training loss: 1.332913\n",
      "    training error rate: 308 / 800(0.385000)\n",
      "    testing error rate: 34 / 91(0.373626)\n",
      "===================================\n",
      "【Epoch 450】\n",
      "    training loss: 1.332910\n",
      "    training error rate: 308 / 800(0.385000)\n",
      "    testing error rate: 34 / 91(0.373626)\n",
      "===================================\n",
      "【Epoch 500】\n",
      "    training loss: 1.332908\n",
      "    training error rate: 308 / 800(0.385000)\n",
      "    testing error rate: 34 / 91(0.373626)\n",
      "===================================\n",
      "【Epoch 550】\n",
      "    training loss: 1.332896\n",
      "    training error rate: 308 / 800(0.385000)\n",
      "    testing error rate: 34 / 91(0.373626)\n",
      "===================================\n",
      "【Epoch 600】\n",
      "    training loss: 1.332882\n",
      "    training error rate: 308 / 800(0.385000)\n",
      "    testing error rate: 34 / 91(0.373626)\n",
      "===================================\n",
      "【Epoch 650】\n",
      "    training loss: 1.332862\n",
      "    training error rate: 308 / 800(0.385000)\n",
      "    testing error rate: 34 / 91(0.373626)\n",
      "===================================\n",
      "【Epoch 700】\n",
      "    training loss: 1.332823\n",
      "    training error rate: 308 / 800(0.385000)\n",
      "    testing error rate: 34 / 91(0.373626)\n",
      "===================================\n",
      "【Epoch 750】\n",
      "    training loss: 1.332746\n",
      "    training error rate: 308 / 800(0.385000)\n",
      "    testing error rate: 34 / 91(0.373626)\n",
      "===================================\n",
      "【Epoch 800】\n",
      "    training loss: 1.332606\n",
      "    training error rate: 308 / 800(0.385000)\n",
      "    testing error rate: 34 / 91(0.373626)\n",
      "===================================\n",
      "【Epoch 850】\n",
      "    training loss: 1.332353\n",
      "    training error rate: 308 / 800(0.385000)\n",
      "    testing error rate: 34 / 91(0.373626)\n",
      "===================================\n",
      "【Epoch 900】\n",
      "    training loss: 1.331830\n",
      "    training error rate: 308 / 800(0.385000)\n",
      "    testing error rate: 34 / 91(0.373626)\n",
      "===================================\n",
      "【Epoch 950】\n",
      "    training loss: 1.330677\n",
      "    training error rate: 308 / 800(0.385000)\n",
      "    testing error rate: 34 / 91(0.373626)\n",
      "===================================\n",
      "【Epoch 1000】\n",
      "    training loss: 1.327929\n",
      "    training error rate: 308 / 800(0.385000)\n",
      "    testing error rate: 34 / 91(0.373626)\n",
      "===================================\n",
      "【Epoch 1050】\n",
      "    training loss: 1.321283\n",
      "    training error rate: 308 / 800(0.385000)\n",
      "    testing error rate: 34 / 91(0.373626)\n",
      "===================================\n",
      "【Epoch 1100】\n",
      "    training loss: 1.305529\n",
      "    training error rate: 308 / 800(0.385000)\n",
      "    testing error rate: 34 / 91(0.373626)\n",
      "===================================\n",
      "【Epoch 1150】\n",
      "    training loss: 1.265879\n",
      "    training error rate: 301 / 800(0.376250)\n",
      "    testing error rate: 34 / 91(0.373626)\n",
      "===================================\n",
      "【Epoch 1200】\n",
      "    training loss: 1.159046\n",
      "    training error rate: 240 / 800(0.300000)\n",
      "    testing error rate: 26 / 91(0.285714)\n",
      "===================================\n",
      "【Epoch 1250】\n",
      "    training loss: 1.026258\n",
      "    training error rate: 165 / 800(0.206250)\n",
      "    testing error rate: 19 / 91(0.208791)\n",
      "===================================\n",
      "【Epoch 1300】\n",
      "    training loss: 0.973327\n",
      "    training error rate: 162 / 800(0.202500)\n",
      "    testing error rate: 18 / 91(0.197802)\n",
      "===================================\n",
      "【Epoch 1350】\n",
      "    training loss: 0.948331\n",
      "    training error rate: 158 / 800(0.197500)\n",
      "    testing error rate: 17 / 91(0.186813)\n",
      "===================================\n",
      "【Epoch 1400】\n",
      "    training loss: 0.931660\n",
      "    training error rate: 154 / 800(0.192500)\n",
      "    testing error rate: 17 / 91(0.186813)\n",
      "===================================\n",
      "【Epoch 1450】\n",
      "    training loss: 0.903806\n",
      "    training error rate: 150 / 800(0.187500)\n",
      "    testing error rate: 18 / 91(0.197802)\n",
      "===================================\n",
      "【Epoch 1500】\n",
      "    training loss: 0.891035\n",
      "    training error rate: 148 / 800(0.185000)\n",
      "    testing error rate: 18 / 91(0.197802)\n",
      "===================================\n",
      "【Epoch 1550】\n",
      "    training loss: 0.885530\n",
      "    training error rate: 148 / 800(0.185000)\n",
      "    testing error rate: 19 / 91(0.208791)\n",
      "===================================\n",
      "【Epoch 1600】\n",
      "    training loss: 0.882308\n",
      "    training error rate: 149 / 800(0.186250)\n",
      "    testing error rate: 19 / 91(0.208791)\n",
      "===================================\n",
      "【Epoch 1650】\n",
      "    training loss: 0.880577\n",
      "    training error rate: 147 / 800(0.183750)\n",
      "    testing error rate: 19 / 91(0.208791)\n",
      "===================================\n",
      "【Epoch 1700】\n",
      "    training loss: 0.879751\n",
      "    training error rate: 150 / 800(0.187500)\n",
      "    testing error rate: 18 / 91(0.197802)\n",
      "===================================\n",
      "【Epoch 1750】\n",
      "    training loss: 0.879115\n",
      "    training error rate: 148 / 800(0.185000)\n",
      "    testing error rate: 19 / 91(0.208791)\n",
      "===================================\n",
      "【Epoch 1800】\n",
      "    training loss: 0.878299\n",
      "    training error rate: 149 / 800(0.186250)\n",
      "    testing error rate: 19 / 91(0.208791)\n",
      "===================================\n",
      "【Epoch 1850】\n",
      "    training loss: 0.879082\n",
      "    training error rate: 153 / 800(0.191250)\n",
      "    testing error rate: 17 / 91(0.186813)\n",
      "===================================\n",
      "【Epoch 1900】\n",
      "    training loss: 0.877683\n",
      "    training error rate: 148 / 800(0.185000)\n",
      "    testing error rate: 19 / 91(0.208791)\n",
      "===================================\n",
      "【Epoch 1950】\n",
      "    training loss: 0.877821\n",
      "    training error rate: 151 / 800(0.188750)\n",
      "    testing error rate: 19 / 91(0.208791)\n",
      "===================================\n",
      "【Epoch 2000】\n",
      "    training loss: 0.877422\n",
      "    training error rate: 148 / 800(0.185000)\n",
      "    testing error rate: 19 / 91(0.208791)\n",
      "===================================\n",
      "【Epoch 2050】\n",
      "    training loss: 0.877345\n",
      "    training error rate: 149 / 800(0.186250)\n",
      "    testing error rate: 19 / 91(0.208791)\n",
      "===================================\n",
      "【Epoch 2100】\n",
      "    training loss: 0.877339\n",
      "    training error rate: 147 / 800(0.183750)\n",
      "    testing error rate: 19 / 91(0.208791)\n",
      "===================================\n",
      "【Epoch 2150】\n",
      "    training loss: 0.877218\n",
      "    training error rate: 151 / 800(0.188750)\n",
      "    testing error rate: 19 / 91(0.208791)\n",
      "===================================\n",
      "【Epoch 2200】\n",
      "    training loss: 0.877174\n",
      "    training error rate: 148 / 800(0.185000)\n",
      "    testing error rate: 19 / 91(0.208791)\n",
      "===================================\n",
      "【Epoch 2250】\n",
      "    training loss: 0.877141\n",
      "    training error rate: 148 / 800(0.185000)\n",
      "    testing error rate: 19 / 91(0.208791)\n",
      "===================================\n",
      "【Epoch 2300】\n",
      "    training loss: 0.877273\n",
      "    training error rate: 149 / 800(0.186250)\n",
      "    testing error rate: 19 / 91(0.208791)\n",
      "===================================\n",
      "【Epoch 2350】\n",
      "    training loss: 0.877132\n",
      "    training error rate: 149 / 800(0.186250)\n",
      "    testing error rate: 19 / 91(0.208791)\n",
      "===================================\n",
      "【Epoch 2400】\n",
      "    training loss: 0.877079\n",
      "    training error rate: 150 / 800(0.187500)\n",
      "    testing error rate: 19 / 91(0.208791)\n",
      "===================================\n",
      "【Epoch 2450】\n",
      "    training loss: 0.877069\n",
      "    training error rate: 149 / 800(0.186250)\n",
      "    testing error rate: 19 / 91(0.208791)\n",
      "===================================\n",
      "【Epoch 2500】\n",
      "    training loss: 0.877145\n",
      "    training error rate: 148 / 800(0.185000)\n",
      "    testing error rate: 19 / 91(0.208791)\n"
     ]
    },
    {
     "name": "stdout",
     "output_type": "stream",
     "text": [
      "===================================\n",
      "【Epoch 2550】\n",
      "    training loss: 0.877378\n",
      "    training error rate: 150 / 800(0.187500)\n",
      "    testing error rate: 19 / 91(0.208791)\n",
      "===================================\n",
      "【Epoch 2600】\n",
      "    training loss: 0.877202\n",
      "    training error rate: 150 / 800(0.187500)\n",
      "    testing error rate: 19 / 91(0.208791)\n",
      "===================================\n",
      "【Epoch 2650】\n",
      "    training loss: 0.877070\n",
      "    training error rate: 148 / 800(0.185000)\n",
      "    testing error rate: 19 / 91(0.208791)\n",
      "===================================\n",
      "【Epoch 2700】\n",
      "    training loss: 0.877334\n",
      "    training error rate: 148 / 800(0.185000)\n",
      "    testing error rate: 20 / 91(0.219780)\n",
      "===================================\n",
      "【Epoch 2750】\n",
      "    training loss: 0.877248\n",
      "    training error rate: 148 / 800(0.185000)\n",
      "    testing error rate: 20 / 91(0.219780)\n",
      "===================================\n",
      "【Epoch 2800】\n",
      "    training loss: 0.877027\n",
      "    training error rate: 149 / 800(0.186250)\n",
      "    testing error rate: 19 / 91(0.208791)\n",
      "===================================\n",
      "【Epoch 2850】\n",
      "    training loss: 0.877070\n",
      "    training error rate: 149 / 800(0.186250)\n",
      "    testing error rate: 19 / 91(0.208791)\n",
      "===================================\n",
      "【Epoch 2900】\n",
      "    training loss: 0.877471\n",
      "    training error rate: 151 / 800(0.188750)\n",
      "    testing error rate: 19 / 91(0.208791)\n",
      "===================================\n",
      "【Epoch 2950】\n",
      "    training loss: 0.876976\n",
      "    training error rate: 150 / 800(0.187500)\n",
      "    testing error rate: 19 / 91(0.208791)\n"
     ]
    }
   ],
   "source": [
    "module4 = NN([6, 3, 3, 2])\n",
    "module4.SGD(training_data, testing_data, 3000, 100, 0.1)"
   ]
  },
  {
   "cell_type": "code",
   "execution_count": 31,
   "metadata": {
    "ExecuteTime": {
     "end_time": "2019-04-08T13:37:54.215101Z",
     "start_time": "2019-04-08T13:37:54.089288Z"
    }
   },
   "outputs": [
    {
     "data": {
      "text/plain": [
       "Text(0, 0.5, 'Average cross entropy')"
      ]
     },
     "execution_count": 31,
     "metadata": {},
     "output_type": "execute_result"
    },
    {
     "data": {
      "image/png": "[encoded data removed]",
      "text/plain": [
       "<Figure size 432x288 with 1 Axes>"
      ]
     },
     "metadata": {},
     "output_type": "display_data"
    }
   ],
   "source": [
    "fig, ax = plt.subplots(1, 1)\n",
    "ax.plot(new_x_axis, module4.training_loss)\n",
    "ax.set_title('training loss')\n",
    "ax.set_xlabel('Epochs')\n",
    "ax.set_ylabel('Average cross entropy')"
   ]
  },
  {
   "cell_type": "code",
   "execution_count": 32,
   "metadata": {
    "ExecuteTime": {
     "end_time": "2019-04-08T13:37:54.471682Z",
     "start_time": "2019-04-08T13:37:54.217766Z"
    },
    "scrolled": true
   },
   "outputs": [
    {
     "data": {
      "text/plain": [
       "Text(0, 0.5, 'Error rate')"
      ]
     },
     "execution_count": 32,
     "metadata": {},
     "output_type": "execute_result"
    },
    {
     "data": {
      "image/png": "[encoded data removed]",
      "text/plain": [
       "<Figure size 864x288 with 2 Axes>"
      ]
     },
     "metadata": {},
     "output_type": "display_data"
    }
   ],
   "source": [
    "fig, ax = plt.subplots(1, 2)\n",
    "fig.set_size_inches(12, 4)\n",
    "ax[0].plot(new_x_axis, module4.training_error_rate)\n",
    "ax[0].set_title('training error rate')\n",
    "ax[0].set_xlabel('Epochs')\n",
    "ax[0].set_ylabel('Error rate')\n",
    "\n",
    "ax[1].plot(new_x_axis, module4.testing_error_rate)\n",
    "ax[1].set_title('testing error rate')\n",
    "ax[1].set_xlabel('Epochs')\n",
    "ax[1].set_ylabel('Error rate')"
   ]
  },
  {
   "cell_type": "markdown",
   "metadata": {},
   "source": [
    "#### p5"
   ]
  },
  {
   "cell_type": "code",
   "execution_count": 33,
   "metadata": {
    "ExecuteTime": {
     "end_time": "2019-04-08T13:38:24.129069Z",
     "start_time": "2019-04-08T13:38:24.122720Z"
    }
   },
   "outputs": [],
   "source": [
    "df_new_2 = pd.get_dummies(df_new_1, columns=['Pclass'])"
   ]
  },
  {
   "cell_type": "code",
   "execution_count": 34,
   "metadata": {
    "ExecuteTime": {
     "end_time": "2019-04-08T13:38:24.497821Z",
     "start_time": "2019-04-08T13:38:24.484848Z"
    }
   },
   "outputs": [
    {
     "data": {
      "text/html": [
       "<div>\n",
       "<style scoped>\n",
       "    .dataframe tbody tr th:only-of-type {\n",
       "        vertical-align: middle;\n",
       "    }\n",
       "\n",
       "    .dataframe tbody tr th {\n",
       "        vertical-align: top;\n",
       "    }\n",
       "\n",
       "    .dataframe thead th {\n",
       "        text-align: right;\n",
       "    }\n",
       "</style>\n",
       "<table border=\"1\" class=\"dataframe\">\n",
       "  <thead>\n",
       "    <tr style=\"text-align: right;\">\n",
       "      <th></th>\n",
       "      <th>Survived</th>\n",
       "      <th>Sex</th>\n",
       "      <th>Age</th>\n",
       "      <th>SibSp</th>\n",
       "      <th>Parch</th>\n",
       "      <th>Fare</th>\n",
       "      <th>Pclass_1</th>\n",
       "      <th>Pclass_2</th>\n",
       "      <th>Pclass_3</th>\n",
       "    </tr>\n",
       "  </thead>\n",
       "  <tbody>\n",
       "    <tr>\n",
       "      <th>0</th>\n",
       "      <td>0</td>\n",
       "      <td>1</td>\n",
       "      <td>-0.102313</td>\n",
       "      <td>1</td>\n",
       "      <td>0</td>\n",
       "      <td>-0.502445</td>\n",
       "      <td>0</td>\n",
       "      <td>0</td>\n",
       "      <td>1</td>\n",
       "    </tr>\n",
       "    <tr>\n",
       "      <th>1</th>\n",
       "      <td>1</td>\n",
       "      <td>0</td>\n",
       "      <td>0.807492</td>\n",
       "      <td>1</td>\n",
       "      <td>0</td>\n",
       "      <td>0.786845</td>\n",
       "      <td>1</td>\n",
       "      <td>0</td>\n",
       "      <td>0</td>\n",
       "    </tr>\n",
       "    <tr>\n",
       "      <th>2</th>\n",
       "      <td>1</td>\n",
       "      <td>0</td>\n",
       "      <td>0.125138</td>\n",
       "      <td>0</td>\n",
       "      <td>0</td>\n",
       "      <td>-0.488854</td>\n",
       "      <td>0</td>\n",
       "      <td>0</td>\n",
       "      <td>1</td>\n",
       "    </tr>\n",
       "    <tr>\n",
       "      <th>3</th>\n",
       "      <td>1</td>\n",
       "      <td>0</td>\n",
       "      <td>0.636903</td>\n",
       "      <td>1</td>\n",
       "      <td>0</td>\n",
       "      <td>0.420730</td>\n",
       "      <td>1</td>\n",
       "      <td>0</td>\n",
       "      <td>0</td>\n",
       "    </tr>\n",
       "    <tr>\n",
       "      <th>4</th>\n",
       "      <td>0</td>\n",
       "      <td>1</td>\n",
       "      <td>0.636903</td>\n",
       "      <td>0</td>\n",
       "      <td>0</td>\n",
       "      <td>-0.486337</td>\n",
       "      <td>0</td>\n",
       "      <td>0</td>\n",
       "      <td>1</td>\n",
       "    </tr>\n",
       "  </tbody>\n",
       "</table>\n",
       "</div>"
      ],
      "text/plain": [
       "   Survived  Sex       Age  SibSp  Parch      Fare  Pclass_1  Pclass_2  \\\n",
       "0         0    1 -0.102313      1      0 -0.502445         0         0   \n",
       "1         1    0  0.807492      1      0  0.786845         1         0   \n",
       "2         1    0  0.125138      0      0 -0.488854         0         0   \n",
       "3         1    0  0.636903      1      0  0.420730         1         0   \n",
       "4         0    1  0.636903      0      0 -0.486337         0         0   \n",
       "\n",
       "   Pclass_3  \n",
       "0         1  \n",
       "1         0  \n",
       "2         1  \n",
       "3         0  \n",
       "4         1  "
      ]
     },
     "execution_count": 34,
     "metadata": {},
     "output_type": "execute_result"
    }
   ],
   "source": [
    "df_new_2.head()"
   ]
  },
  {
   "cell_type": "code",
   "execution_count": 36,
   "metadata": {
    "ExecuteTime": {
     "end_time": "2019-04-08T13:38:33.382962Z",
     "start_time": "2019-04-08T13:38:33.366821Z"
    }
   },
   "outputs": [
    {
     "name": "stdout",
     "output_type": "stream",
     "text": [
      "(800, 8, 1) (800, 2, 1)\n",
      "(91, 8, 1) (91, 2, 1)\n"
     ]
    }
   ],
   "source": [
    "training_set = df_new_2[:800]\n",
    "testing_set = df_new_2[800:]\n",
    "\n",
    "X_train = training_set[['Pclass_1', 'Pclass_2', 'Pclass_3', 'Sex', 'Age', 'SibSp', 'Parch', 'Fare']].values\n",
    "X_test = testing_set[['Pclass_1', 'Pclass_2', 'Pclass_3', 'Sex', 'Age', 'SibSp', 'Parch', 'Fare']].values\n",
    "X_train = X_train.reshape(X_train.shape[0], -1, 1)\n",
    "X_test = X_test.reshape(X_test.shape[0], -1, 1)\n",
    "\n",
    "y_train = training_set['Survived'].values\n",
    "y_test = testing_set['Survived'].values\n",
    "y_train = to_categorical(y_train).reshape(y_train.shape[0], -1, 1)\n",
    "y_test = to_categorical(y_test).reshape(y_test.shape[0], -1, 1)\n",
    "\n",
    "print(X_train.shape, y_train.shape)\n",
    "print(X_test.shape, y_test.shape)\n",
    "\n",
    "# combine data & labels \n",
    "training_data = list(zip(X_train, y_train))\n",
    "testing_data = list(zip(X_test, y_test))"
   ]
  },
  {
   "cell_type": "code",
   "execution_count": 37,
   "metadata": {
    "ExecuteTime": {
     "end_time": "2019-04-08T13:40:51.529969Z",
     "start_time": "2019-04-08T13:38:33.806251Z"
    },
    "scrolled": true
   },
   "outputs": [
    {
     "name": "stdout",
     "output_type": "stream",
     "text": [
      "===================================\n",
      "【Epoch 0】\n",
      "    training loss: 1.359803\n",
      "    training error rate: 308 / 800(0.385000)\n",
      "    testing error rate: 34 / 91(0.373626)\n",
      "===================================\n",
      "【Epoch 50】\n",
      "    training loss: 1.332921\n",
      "    training error rate: 308 / 800(0.385000)\n",
      "    testing error rate: 34 / 91(0.373626)\n",
      "===================================\n",
      "【Epoch 100】\n",
      "    training loss: 1.332921\n",
      "    training error rate: 308 / 800(0.385000)\n",
      "    testing error rate: 34 / 91(0.373626)\n",
      "===================================\n",
      "【Epoch 150】\n",
      "    training loss: 1.332924\n",
      "    training error rate: 308 / 800(0.385000)\n",
      "    testing error rate: 34 / 91(0.373626)\n",
      "===================================\n",
      "【Epoch 200】\n",
      "    training loss: 1.332931\n",
      "    training error rate: 308 / 800(0.385000)\n",
      "    testing error rate: 34 / 91(0.373626)\n",
      "===================================\n",
      "【Epoch 250】\n",
      "    training loss: 1.332918\n",
      "    training error rate: 308 / 800(0.385000)\n",
      "    testing error rate: 34 / 91(0.373626)\n",
      "===================================\n",
      "【Epoch 300】\n",
      "    training loss: 1.332918\n",
      "    training error rate: 308 / 800(0.385000)\n",
      "    testing error rate: 34 / 91(0.373626)\n",
      "===================================\n",
      "【Epoch 350】\n",
      "    training loss: 1.332918\n",
      "    training error rate: 308 / 800(0.385000)\n",
      "    testing error rate: 34 / 91(0.373626)\n",
      "===================================\n",
      "【Epoch 400】\n",
      "    training loss: 1.332915\n",
      "    training error rate: 308 / 800(0.385000)\n",
      "    testing error rate: 34 / 91(0.373626)\n",
      "===================================\n",
      "【Epoch 450】\n",
      "    training loss: 1.332913\n",
      "    training error rate: 308 / 800(0.385000)\n",
      "    testing error rate: 34 / 91(0.373626)\n",
      "===================================\n",
      "【Epoch 500】\n",
      "    training loss: 1.332911\n",
      "    training error rate: 308 / 800(0.385000)\n",
      "    testing error rate: 34 / 91(0.373626)\n",
      "===================================\n",
      "【Epoch 550】\n",
      "    training loss: 1.332908\n",
      "    training error rate: 308 / 800(0.385000)\n",
      "    testing error rate: 34 / 91(0.373626)\n",
      "===================================\n",
      "【Epoch 600】\n",
      "    training loss: 1.332901\n",
      "    training error rate: 308 / 800(0.385000)\n",
      "    testing error rate: 34 / 91(0.373626)\n",
      "===================================\n",
      "【Epoch 650】\n",
      "    training loss: 1.332892\n",
      "    training error rate: 308 / 800(0.385000)\n",
      "    testing error rate: 34 / 91(0.373626)\n",
      "===================================\n",
      "【Epoch 700】\n",
      "    training loss: 1.332876\n",
      "    training error rate: 308 / 800(0.385000)\n",
      "    testing error rate: 34 / 91(0.373626)\n",
      "===================================\n",
      "【Epoch 750】\n",
      "    training loss: 1.332850\n",
      "    training error rate: 308 / 800(0.385000)\n",
      "    testing error rate: 34 / 91(0.373626)\n",
      "===================================\n",
      "【Epoch 800】\n",
      "    training loss: 1.332813\n",
      "    training error rate: 308 / 800(0.385000)\n",
      "    testing error rate: 34 / 91(0.373626)\n",
      "===================================\n",
      "【Epoch 850】\n",
      "    training loss: 1.332740\n",
      "    training error rate: 308 / 800(0.385000)\n",
      "    testing error rate: 34 / 91(0.373626)\n",
      "===================================\n",
      "【Epoch 900】\n",
      "    training loss: 1.332609\n",
      "    training error rate: 308 / 800(0.385000)\n",
      "    testing error rate: 34 / 91(0.373626)\n",
      "===================================\n",
      "【Epoch 950】\n",
      "    training loss: 1.332364\n",
      "    training error rate: 308 / 800(0.385000)\n",
      "    testing error rate: 34 / 91(0.373626)\n",
      "===================================\n",
      "【Epoch 1000】\n",
      "    training loss: 1.331888\n",
      "    training error rate: 308 / 800(0.385000)\n",
      "    testing error rate: 34 / 91(0.373626)\n",
      "===================================\n",
      "【Epoch 1050】\n",
      "    training loss: 1.330788\n",
      "    training error rate: 308 / 800(0.385000)\n",
      "    testing error rate: 34 / 91(0.373626)\n",
      "===================================\n",
      "【Epoch 1100】\n",
      "    training loss: 1.327943\n",
      "    training error rate: 308 / 800(0.385000)\n",
      "    testing error rate: 34 / 91(0.373626)\n",
      "===================================\n",
      "【Epoch 1150】\n",
      "    training loss: 1.319494\n",
      "    training error rate: 308 / 800(0.385000)\n",
      "    testing error rate: 34 / 91(0.373626)\n",
      "===================================\n",
      "【Epoch 1200】\n",
      "    training loss: 1.292657\n",
      "    training error rate: 308 / 800(0.385000)\n",
      "    testing error rate: 34 / 91(0.373626)\n",
      "===================================\n",
      "【Epoch 1250】\n",
      "    training loss: 1.213111\n",
      "    training error rate: 280 / 800(0.350000)\n",
      "    testing error rate: 33 / 91(0.362637)\n",
      "===================================\n",
      "【Epoch 1300】\n",
      "    training loss: 1.055589\n",
      "    training error rate: 186 / 800(0.232500)\n",
      "    testing error rate: 17 / 91(0.186813)\n",
      "===================================\n",
      "【Epoch 1350】\n",
      "    training loss: 0.947323\n",
      "    training error rate: 153 / 800(0.191250)\n",
      "    testing error rate: 19 / 91(0.208791)\n",
      "===================================\n",
      "【Epoch 1400】\n",
      "    training loss: 0.908645\n",
      "    training error rate: 151 / 800(0.188750)\n",
      "    testing error rate: 19 / 91(0.208791)\n",
      "===================================\n",
      "【Epoch 1450】\n",
      "    training loss: 0.891137\n",
      "    training error rate: 147 / 800(0.183750)\n",
      "    testing error rate: 19 / 91(0.208791)\n",
      "===================================\n",
      "【Epoch 1500】\n",
      "    training loss: 0.883982\n",
      "    training error rate: 149 / 800(0.186250)\n",
      "    testing error rate: 19 / 91(0.208791)\n",
      "===================================\n",
      "【Epoch 1550】\n",
      "    training loss: 0.880665\n",
      "    training error rate: 151 / 800(0.188750)\n",
      "    testing error rate: 19 / 91(0.208791)\n",
      "===================================\n",
      "【Epoch 1600】\n",
      "    training loss: 0.878958\n",
      "    training error rate: 151 / 800(0.188750)\n",
      "    testing error rate: 19 / 91(0.208791)\n",
      "===================================\n",
      "【Epoch 1650】\n",
      "    training loss: 0.878045\n",
      "    training error rate: 150 / 800(0.187500)\n",
      "    testing error rate: 19 / 91(0.208791)\n",
      "===================================\n",
      "【Epoch 1700】\n",
      "    training loss: 0.877457\n",
      "    training error rate: 151 / 800(0.188750)\n",
      "    testing error rate: 19 / 91(0.208791)\n",
      "===================================\n",
      "【Epoch 1750】\n",
      "    training loss: 0.877121\n",
      "    training error rate: 152 / 800(0.190000)\n",
      "    testing error rate: 19 / 91(0.208791)\n",
      "===================================\n",
      "【Epoch 1800】\n",
      "    training loss: 0.876913\n",
      "    training error rate: 152 / 800(0.190000)\n",
      "    testing error rate: 19 / 91(0.208791)\n",
      "===================================\n",
      "【Epoch 1850】\n",
      "    training loss: 0.876770\n",
      "    training error rate: 149 / 800(0.186250)\n",
      "    testing error rate: 19 / 91(0.208791)\n",
      "===================================\n",
      "【Epoch 1900】\n",
      "    training loss: 0.876671\n",
      "    training error rate: 150 / 800(0.187500)\n",
      "    testing error rate: 19 / 91(0.208791)\n",
      "===================================\n",
      "【Epoch 1950】\n",
      "    training loss: 0.876614\n",
      "    training error rate: 149 / 800(0.186250)\n",
      "    testing error rate: 19 / 91(0.208791)\n",
      "===================================\n",
      "【Epoch 2000】\n",
      "    training loss: 0.876572\n",
      "    training error rate: 150 / 800(0.187500)\n",
      "    testing error rate: 19 / 91(0.208791)\n",
      "===================================\n",
      "【Epoch 2050】\n",
      "    training loss: 0.876537\n",
      "    training error rate: 149 / 800(0.186250)\n",
      "    testing error rate: 19 / 91(0.208791)\n",
      "===================================\n",
      "【Epoch 2100】\n",
      "    training loss: 0.876535\n",
      "    training error rate: 149 / 800(0.186250)\n",
      "    testing error rate: 20 / 91(0.219780)\n",
      "===================================\n",
      "【Epoch 2150】\n",
      "    training loss: 0.876494\n",
      "    training error rate: 149 / 800(0.186250)\n",
      "    testing error rate: 19 / 91(0.208791)\n",
      "===================================\n",
      "【Epoch 2200】\n",
      "    training loss: 0.876476\n",
      "    training error rate: 149 / 800(0.186250)\n",
      "    testing error rate: 19 / 91(0.208791)\n",
      "===================================\n",
      "【Epoch 2250】\n",
      "    training loss: 0.876468\n",
      "    training error rate: 149 / 800(0.186250)\n",
      "    testing error rate: 19 / 91(0.208791)\n",
      "===================================\n",
      "【Epoch 2300】\n",
      "    training loss: 0.876459\n",
      "    training error rate: 150 / 800(0.187500)\n",
      "    testing error rate: 19 / 91(0.208791)\n",
      "===================================\n",
      "【Epoch 2350】\n",
      "    training loss: 0.876469\n",
      "    training error rate: 151 / 800(0.188750)\n",
      "    testing error rate: 19 / 91(0.208791)\n",
      "===================================\n",
      "【Epoch 2400】\n",
      "    training loss: 0.876468\n",
      "    training error rate: 151 / 800(0.188750)\n",
      "    testing error rate: 19 / 91(0.208791)\n",
      "===================================\n",
      "【Epoch 2450】\n",
      "    training loss: 0.876450\n",
      "    training error rate: 149 / 800(0.186250)\n",
      "    testing error rate: 19 / 91(0.208791)\n",
      "===================================\n",
      "【Epoch 2500】\n",
      "    training loss: 0.876446\n",
      "    training error rate: 149 / 800(0.186250)\n",
      "    testing error rate: 19 / 91(0.208791)\n"
     ]
    },
    {
     "name": "stdout",
     "output_type": "stream",
     "text": [
      "===================================\n",
      "【Epoch 2550】\n",
      "    training loss: 0.876453\n",
      "    training error rate: 148 / 800(0.185000)\n",
      "    testing error rate: 19 / 91(0.208791)\n",
      "===================================\n",
      "【Epoch 2600】\n",
      "    training loss: 0.876441\n",
      "    training error rate: 150 / 800(0.187500)\n",
      "    testing error rate: 19 / 91(0.208791)\n",
      "===================================\n",
      "【Epoch 2650】\n",
      "    training loss: 0.876443\n",
      "    training error rate: 150 / 800(0.187500)\n",
      "    testing error rate: 19 / 91(0.208791)\n",
      "===================================\n",
      "【Epoch 2700】\n",
      "    training loss: 0.876455\n",
      "    training error rate: 147 / 800(0.183750)\n",
      "    testing error rate: 19 / 91(0.208791)\n",
      "===================================\n",
      "【Epoch 2750】\n",
      "    training loss: 0.876444\n",
      "    training error rate: 149 / 800(0.186250)\n",
      "    testing error rate: 19 / 91(0.208791)\n",
      "===================================\n",
      "【Epoch 2800】\n",
      "    training loss: 0.876441\n",
      "    training error rate: 148 / 800(0.185000)\n",
      "    testing error rate: 19 / 91(0.208791)\n",
      "===================================\n",
      "【Epoch 2850】\n",
      "    training loss: 0.876443\n",
      "    training error rate: 150 / 800(0.187500)\n",
      "    testing error rate: 19 / 91(0.208791)\n",
      "===================================\n",
      "【Epoch 2900】\n",
      "    training loss: 0.876484\n",
      "    training error rate: 153 / 800(0.191250)\n",
      "    testing error rate: 19 / 91(0.208791)\n",
      "===================================\n",
      "【Epoch 2950】\n",
      "    training loss: 0.876433\n",
      "    training error rate: 149 / 800(0.186250)\n",
      "    testing error rate: 19 / 91(0.208791)\n"
     ]
    }
   ],
   "source": [
    "module5 = NN([8, 3, 3, 2])\n",
    "module5.SGD(training_data, testing_data, 3000, 100, 0.1)"
   ]
  },
  {
   "cell_type": "code",
   "execution_count": 38,
   "metadata": {
    "ExecuteTime": {
     "end_time": "2019-04-08T13:40:51.533147Z",
     "start_time": "2019-04-08T13:40:51.531347Z"
    }
   },
   "outputs": [],
   "source": [
    "new_x_axis = np.arange(0, 3000, 50)"
   ]
  },
  {
   "cell_type": "code",
   "execution_count": 39,
   "metadata": {
    "ExecuteTime": {
     "end_time": "2019-04-08T13:40:51.699603Z",
     "start_time": "2019-04-08T13:40:51.534352Z"
    }
   },
   "outputs": [
    {
     "data": {
      "text/plain": [
       "Text(0, 0.5, 'Average cross entropy')"
      ]
     },
     "execution_count": 39,
     "metadata": {},
     "output_type": "execute_result"
    },
    {
     "data": {
      "image/png": "[encoded data removed]",
      "text/plain": [
       "<Figure size 432x288 with 1 Axes>"
      ]
     },
     "metadata": {},
     "output_type": "display_data"
    }
   ],
   "source": [
    "fig, ax = plt.subplots(1, 1)\n",
    "ax.plot(new_x_axis, module5.training_loss)\n",
    "ax.set_title('training loss')\n",
    "ax.set_xlabel('Epochs')\n",
    "ax.set_ylabel('Average cross entropy')"
   ]
  },
  {
   "cell_type": "code",
   "execution_count": 40,
   "metadata": {
    "ExecuteTime": {
     "end_time": "2019-04-08T13:40:51.948823Z",
     "start_time": "2019-04-08T13:40:51.702421Z"
    }
   },
   "outputs": [
    {
     "data": {
      "text/plain": [
       "Text(0, 0.5, 'Error rate')"
      ]
     },
     "execution_count": 40,
     "metadata": {},
     "output_type": "execute_result"
    },
    {
     "data": {
      "image/png": "[encoded data removed]",
      "text/plain": [
       "<Figure size 864x288 with 2 Axes>"
      ]
     },
     "metadata": {},
     "output_type": "display_data"
    }
   ],
   "source": [
    "fig, ax = plt.subplots(1, 2)\n",
    "fig.set_size_inches(12, 4)\n",
    "ax[0].plot(new_x_axis, module5.training_error_rate)\n",
    "ax[0].set_title('training error rate')\n",
    "ax[0].set_xlabel('Epochs')\n",
    "ax[0].set_ylabel('Error rate')\n",
    "\n",
    "ax[1].plot(new_x_axis, module5.testing_error_rate)\n",
    "ax[1].set_title('testing error rate')\n",
    "ax[1].set_xlabel('Epochs')\n",
    "ax[1].set_ylabel('Error rate')"
   ]
  },
  {
   "cell_type": "markdown",
   "metadata": {},
   "source": [
    "#### p6."
   ]
  },
  {
   "cell_type": "code",
   "execution_count": 41,
   "metadata": {
    "ExecuteTime": {
     "end_time": "2019-04-08T13:40:59.155644Z",
     "start_time": "2019-04-08T13:40:59.152239Z"
    }
   },
   "outputs": [],
   "source": [
    "# X_train = training_set[['Pclass_1', 'Pclass_2', 'Pclass_3', 'Sex', 'Age', 'SibSp', 'Parch', 'Fare']].values"
   ]
  },
  {
   "cell_type": "code",
   "execution_count": 42,
   "metadata": {
    "ExecuteTime": {
     "end_time": "2019-04-08T13:40:59.894457Z",
     "start_time": "2019-04-08T13:40:59.886977Z"
    }
   },
   "outputs": [
    {
     "data": {
      "text/plain": [
       "array([[1.        ],\n",
       "       [0.        ],\n",
       "       [0.        ],\n",
       "       [0.        ],\n",
       "       [0.80749164],\n",
       "       [1.        ],\n",
       "       [0.        ],\n",
       "       [0.78684529]])"
      ]
     },
     "execution_count": 42,
     "metadata": {},
     "output_type": "execute_result"
    }
   ],
   "source": [
    "X_train[1]"
   ]
  },
  {
   "cell_type": "code",
   "execution_count": 62,
   "metadata": {
    "ExecuteTime": {
     "end_time": "2019-04-08T13:44:23.456313Z",
     "start_time": "2019-04-08T13:44:23.450365Z"
    }
   },
   "outputs": [
    {
     "name": "stdout",
     "output_type": "stream",
     "text": [
      "[[ 0.        ]\n",
      " [ 0.        ]\n",
      " [ 1.        ]\n",
      " [ 1.        ]\n",
      " [-0.04545002]\n",
      " [ 2.        ]\n",
      " [ 2.        ]\n",
      " [-0.63090448]]\n"
     ]
    }
   ],
   "source": [
    "people_John = np.array([[0, 0, 1, 1, age_scaler.transform([[23]]), 2, 2, fare_scaler.transform([[0.87]])]]).reshape(-1, 1)\n",
    "print(people_John)"
   ]
  },
  {
   "cell_type": "code",
   "execution_count": 63,
   "metadata": {
    "ExecuteTime": {
     "end_time": "2019-04-08T13:44:23.650543Z",
     "start_time": "2019-04-08T13:44:23.644934Z"
    }
   },
   "outputs": [
    {
     "name": "stdout",
     "output_type": "stream",
     "text": [
      "John死亡的機率vs存活的機率: [0.87382879] [0.12617121]\n"
     ]
    }
   ],
   "source": [
    "prediction_john = module5.forward(people_John)\n",
    "print('John死亡的機率vs存活的機率:', prediction_john[0], prediction_john[1] )"
   ]
  },
  {
   "cell_type": "code",
   "execution_count": 64,
   "metadata": {
    "ExecuteTime": {
     "end_time": "2019-04-08T13:44:24.870105Z",
     "start_time": "2019-04-08T13:44:24.864846Z"
    }
   },
   "outputs": [
    {
     "name": "stdout",
     "output_type": "stream",
     "text": [
      "[[ 1.        ]\n",
      " [ 0.        ]\n",
      " [ 0.        ]\n",
      " [ 0.        ]\n",
      " [-0.3297639 ]\n",
      " [ 1.        ]\n",
      " [ 2.        ]\n",
      " [-0.24572791]]\n"
     ]
    }
   ],
   "source": [
    "people_Angela = np.array([[1, 0, 0, 0, age_scaler.transform([[18]]), 1, 2, fare_scaler.transform([[20]])]]).reshape(-1, 1)\n",
    "print(people_Angela)"
   ]
  },
  {
   "cell_type": "code",
   "execution_count": 65,
   "metadata": {
    "ExecuteTime": {
     "end_time": "2019-04-08T13:44:51.035299Z",
     "start_time": "2019-04-08T13:44:51.030333Z"
    }
   },
   "outputs": [
    {
     "name": "stdout",
     "output_type": "stream",
     "text": [
      "Angela死亡的機率vs存活的機率: [0.03808093] [0.96191907]\n"
     ]
    }
   ],
   "source": [
    "prediction_Angela = module5.forward(people_Angela)\n",
    "print('Angela死亡的機率vs存活的機率:', prediction_Angela[0], prediction_Angela[1] )"
   ]
  },
  {
   "cell_type": "code",
   "execution_count": null,
   "metadata": {},
   "outputs": [],
   "source": []
  }
 ],
 "metadata": {
  "kernelspec": {
   "display_name": "Python 3",
   "language": "python",
   "name": "python3"
  },
  "language_info": {
   "codemirror_mode": {
    "name": "ipython",
    "version": 3
   },
   "file_extension": ".py",
   "mimetype": "text/x-python",
   "name": "python",
   "nbconvert_exporter": "python",
   "pygments_lexer": "ipython3",
   "version": "3.6.7"
  }
 },
 "nbformat": 4,
 "nbformat_minor": 2
}
