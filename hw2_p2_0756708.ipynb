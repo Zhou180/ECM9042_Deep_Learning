{
 "cells": [
  {
   "cell_type": "code",
   "execution_count": 1,
   "metadata": {
    "ExecuteTime": {
     "end_time": "2019-05-13T10:32:17.418161Z",
     "start_time": "2019-05-13T10:32:16.712331Z"
    }
   },
   "outputs": [],
   "source": [
    "import pandas as pd\n",
    "import numpy as np\n",
    "import torch\n",
    "from torch import nn\n",
    "import torch.utils.data as Data\n",
    "import torchvision.datasets \n",
    "import torchvision.transforms\n",
    "import matplotlib.pyplot as plt\n",
    "\n",
    "device = 'cuda' if torch.cuda.is_available() else 'cpu'"
   ]
  },
  {
   "cell_type": "code",
   "execution_count": 2,
   "metadata": {
    "ExecuteTime": {
     "end_time": "2019-05-13T10:32:17.421747Z",
     "start_time": "2019-05-13T10:32:17.419663Z"
    }
   },
   "outputs": [],
   "source": [
    "# global variable\n",
    "VECTOR_SIZE = 10"
   ]
  },
  {
   "cell_type": "markdown",
   "metadata": {},
   "source": [
    "### Data preprocess"
   ]
  },
  {
   "cell_type": "code",
   "execution_count": 3,
   "metadata": {
    "ExecuteTime": {
     "end_time": "2019-05-13T10:32:17.495141Z",
     "start_time": "2019-05-13T10:32:17.422905Z"
    }
   },
   "outputs": [],
   "source": [
    "df_accepted = pd.read_excel('ICLR_accepted.xlsx')\n",
    "df_rejected = pd.read_excel('ICLR_rejected.xlsx')\n",
    "\n",
    "df_accepted.columns = ['title']\n",
    "df_rejected.columns = ['title']\n",
    "df_accepted['label'] = 1\n",
    "df_rejected['label'] = 0\n",
    "\n",
    "df_all = pd.concat([df_accepted, df_rejected], axis=0)"
   ]
  },
  {
   "cell_type": "code",
   "execution_count": 4,
   "metadata": {
    "ExecuteTime": {
     "end_time": "2019-05-13T10:32:17.508368Z",
     "start_time": "2019-05-13T10:32:17.496607Z"
    }
   },
   "outputs": [
    {
     "data": {
      "text/html": [
       "<div>\n",
       "<style scoped>\n",
       "    .dataframe tbody tr th:only-of-type {\n",
       "        vertical-align: middle;\n",
       "    }\n",
       "\n",
       "    .dataframe tbody tr th {\n",
       "        vertical-align: top;\n",
       "    }\n",
       "\n",
       "    .dataframe thead th {\n",
       "        text-align: right;\n",
       "    }\n",
       "</style>\n",
       "<table border=\"1\" class=\"dataframe\">\n",
       "  <thead>\n",
       "    <tr style=\"text-align: right;\">\n",
       "      <th></th>\n",
       "      <th>title</th>\n",
       "      <th>label</th>\n",
       "    </tr>\n",
       "  </thead>\n",
       "  <tbody>\n",
       "    <tr>\n",
       "      <th>0</th>\n",
       "      <td>Minimal-Entropy Correlation Alignment for Unsu...</td>\n",
       "      <td>1</td>\n",
       "    </tr>\n",
       "    <tr>\n",
       "      <th>1</th>\n",
       "      <td>Large Scale Optimal Transport and Mapping Esti...</td>\n",
       "      <td>1</td>\n",
       "    </tr>\n",
       "    <tr>\n",
       "      <th>2</th>\n",
       "      <td>TRUNCATED HORIZON POLICY SEARCH: COMBINING REI...</td>\n",
       "      <td>1</td>\n",
       "    </tr>\n",
       "    <tr>\n",
       "      <th>3</th>\n",
       "      <td>Model-Ensemble Trust-Region Policy Optimization</td>\n",
       "      <td>1</td>\n",
       "    </tr>\n",
       "    <tr>\n",
       "      <th>4</th>\n",
       "      <td>A Neural Representation of Sketch Drawings</td>\n",
       "      <td>1</td>\n",
       "    </tr>\n",
       "  </tbody>\n",
       "</table>\n",
       "</div>"
      ],
      "text/plain": [
       "                                               title  label\n",
       "0  Minimal-Entropy Correlation Alignment for Unsu...      1\n",
       "1  Large Scale Optimal Transport and Mapping Esti...      1\n",
       "2  TRUNCATED HORIZON POLICY SEARCH: COMBINING REI...      1\n",
       "3    Model-Ensemble Trust-Region Policy Optimization      1\n",
       "4         A Neural Representation of Sketch Drawings      1"
      ]
     },
     "metadata": {},
     "output_type": "display_data"
    },
    {
     "data": {
      "text/html": [
       "<div>\n",
       "<style scoped>\n",
       "    .dataframe tbody tr th:only-of-type {\n",
       "        vertical-align: middle;\n",
       "    }\n",
       "\n",
       "    .dataframe tbody tr th {\n",
       "        vertical-align: top;\n",
       "    }\n",
       "\n",
       "    .dataframe thead th {\n",
       "        text-align: right;\n",
       "    }\n",
       "</style>\n",
       "<table border=\"1\" class=\"dataframe\">\n",
       "  <thead>\n",
       "    <tr style=\"text-align: right;\">\n",
       "      <th></th>\n",
       "      <th>title</th>\n",
       "      <th>label</th>\n",
       "    </tr>\n",
       "  </thead>\n",
       "  <tbody>\n",
       "    <tr>\n",
       "      <th>0</th>\n",
       "      <td>Hierarchical Adversarially Learned Inference</td>\n",
       "      <td>0</td>\n",
       "    </tr>\n",
       "    <tr>\n",
       "      <th>1</th>\n",
       "      <td>Learning to Compute Word Embeddings On the Fly</td>\n",
       "      <td>0</td>\n",
       "    </tr>\n",
       "    <tr>\n",
       "      <th>2</th>\n",
       "      <td>Graph2Seq: Scalable Learning Dynamics for Graphs</td>\n",
       "      <td>0</td>\n",
       "    </tr>\n",
       "    <tr>\n",
       "      <th>3</th>\n",
       "      <td>Generating Differentially Private Datasets Usi...</td>\n",
       "      <td>0</td>\n",
       "    </tr>\n",
       "    <tr>\n",
       "      <th>4</th>\n",
       "      <td>Representing dynamically: An active process fo...</td>\n",
       "      <td>0</td>\n",
       "    </tr>\n",
       "  </tbody>\n",
       "</table>\n",
       "</div>"
      ],
      "text/plain": [
       "                                               title  label\n",
       "0       Hierarchical Adversarially Learned Inference      0\n",
       "1     Learning to Compute Word Embeddings On the Fly      0\n",
       "2   Graph2Seq: Scalable Learning Dynamics for Graphs      0\n",
       "3  Generating Differentially Private Datasets Usi...      0\n",
       "4  Representing dynamically: An active process fo...      0"
      ]
     },
     "metadata": {},
     "output_type": "display_data"
    }
   ],
   "source": [
    "display(df_accepted.loc[:49].head())\n",
    "display(df_rejected.loc[:49].head())"
   ]
  },
  {
   "cell_type": "code",
   "execution_count": 5,
   "metadata": {
    "ExecuteTime": {
     "end_time": "2019-05-13T10:32:17.528015Z",
     "start_time": "2019-05-13T10:32:17.509764Z"
    }
   },
   "outputs": [],
   "source": [
    "# split train & test dataframe\n",
    "df_train_X = pd.DataFrame(pd.concat([df_accepted.loc[50:, 'title'], df_rejected.loc[50:, 'title']], axis=0).reset_index(drop=True))\n",
    "df_test_X = pd.DataFrame(pd.concat([df_accepted.loc[:49, 'title'], df_rejected.loc[:49, 'title']], axis=0).reset_index(drop=True))\n",
    "\n",
    "df_train_y = pd.concat([df_accepted.loc[50:, 'label'], df_rejected.loc[50:, 'label']], axis=0).reset_index(drop=True)\n",
    "df_test_y = pd.concat([df_accepted.loc[:49, 'label'], df_rejected.loc[:49, 'label']], axis=0).reset_index(drop=True)"
   ]
  },
  {
   "cell_type": "code",
   "execution_count": 6,
   "metadata": {
    "ExecuteTime": {
     "end_time": "2019-05-13T10:32:17.565867Z",
     "start_time": "2019-05-13T10:32:17.529702Z"
    }
   },
   "outputs": [],
   "source": [
    "# create ingore word list, which is reference from NLTK\n",
    "ignore_word_list = ['i', 'me', 'my', 'myself', 'we', 'our', 'ours', 'ourselves', 'you', 'your', 'yours', 'yourself', 'yourselves',\n",
    "                           'he', 'him', 'his', 'himself', 'she', 'her', 'hers', 'herself', 'it', 'its', 'itself', 'they', 'them', 'their', 'theirs',\n",
    "                           'themselves', 'what', 'which', 'who', 'whom', 'this', 'that', 'these', 'those', 'am', 'is', 'are', 'was', 'were',\n",
    "                           'be', 'been', 'being', 'have', 'has', 'had', 'having', 'do', 'does', 'did', 'doing', 'a', 'an', 'the', 'and', 'but', 'if',\n",
    "                           'or', 'because', 'as', 'until', 'while', 'of', 'at', 'by', 'for', 'with', 'about', 'against', 'between', 'into', 'through',\n",
    "                           'during', 'before', 'after', 'above', 'below', 'to', 'from', 'up', 'down', 'in', 'out', 'on', 'off', 'over', 'under', 'again', 'further',\n",
    "                           'then', 'once', 'here', 'there', 'when', 'where', 'why', 'how', 'all', 'any', 'both', 'each', 'few', 'more', 'most', 'other', 'some',\n",
    "                           'such', 'no', 'nor', 'not', 'only', 'own', 'same', 'so', 'than', 'too', 'very', 's', 't', 'can', 'will', 'just', 'don', 'should', 'now', 'd', 'll',\n",
    "                           'm', 'o', 're', 've', 'y', 'ain', 'aren', 'couldn', 'didn', 'doesn', 'hadn', 'hasn', 'haven', 'isn', 'ma', 'mightn', 'mustn', 'needn', 'shan',\n",
    "                           'shouldn', 'wasn', 'weren', 'won', 'wouldn', '!', ',', '.', '?', '-s', '-ly', '</s>', 's', '&', '']"
   ]
  },
  {
   "cell_type": "code",
   "execution_count": 7,
   "metadata": {
    "ExecuteTime": {
     "end_time": "2019-05-13T10:32:17.641606Z",
     "start_time": "2019-05-13T10:32:17.567798Z"
    }
   },
   "outputs": [],
   "source": [
    "def create_word_dict(df):\n",
    "    word_dict = []\n",
    "    for idx, row in df.iterrows():\n",
    "        word_list = row['title'].split(' ')\n",
    "        for word in word_list:\n",
    "\n",
    "            word = word.strip('s: ').lower()\n",
    "            if word not in ignore_word_list and word not in word_dict:\n",
    "                    word_dict.append(word)\n",
    "    print('collect number of word: ', len(word_dict))\n",
    "    \n",
    "    word_dict = dict(zip(word_dict, range(1, len(word_dict)+1)))\n",
    "    return word_dict"
   ]
  },
  {
   "cell_type": "code",
   "execution_count": 8,
   "metadata": {
    "ExecuteTime": {
     "end_time": "2019-05-13T10:32:17.840387Z",
     "start_time": "2019-05-13T10:32:17.644461Z"
    }
   },
   "outputs": [
    {
     "name": "stdout",
     "output_type": "stream",
     "text": [
      "collect number of word:  2273\n",
      "{'minimal-entropy': 1, 'correlation': 2, 'alignment': 3, 'unsupervised': 4, 'deep': 5, 'domain': 6, 'adaptation': 7, 'large': 8, 'scale': 9, 'optimal': 10, 'transport': 11, 'mapping': 12, 'estimation': 13, 'truncated': 14, 'horizon': 15, 'policy': 16, 'search': 17, 'combining': 18, 'reinforcement': 19, 'learning': 20, 'imitation': 21, 'model-ensemble': 22, 'trust-region': 23, 'optimization': 24, 'neural': 25, 'representation': 26, 'sketch': 27, 'drawing': 28, 'logged': 29, 'bandit': 30, 'feedback': 31, 'latent': 32, 'permutation': 33, 'gumbel-sinkhorn': 34, 'network': 35, 'embedding': 36, 'space': 37, 'transferable': 38, 'robot': 39, 'skill': 40, 'goal': 41, 'intrinsically': 42, 'motivated': 43, 'exploration': 44, 'multi-view': 45, 'data': 46, 'generation': 47, 'without': 48, 'view': 49, 'supervision': 50, 'bayesian': 51, 'showdown': 52, 'empirical': 53, 'comparison': 54, 'thompson': 55, 'sampling': 56, 'semantic': 57, 'interpolation': 58, 'implicit': 59, 'model': 60, 'fidelity-weighted': 61, 'oddity': 62, 'curvature': 63, 'generative': 64, 'visual': 65, 'multiple': 66, 'intention': 67, 'hyperparameter': 68, 'pectral': 69, 'approach': 70, 'leveraging': 71, 'grammar': 72, 'program': 73, 'synthesi': 74, 'efficient': 75, 'sparse-winograd': 76, 'convolutional': 77, 'espresso': 78, 'forward': 79, 'propagation': 80, 'binary': 81, 'auto-conditioned': 82, 'recurrent': 83, 'extended': 84, 'complex': 85, 'human': 86, 'motion': 87, 'decoupling': 88, 'layer': 89, 'residual': 90, 'polar': 91, 'transformer': 92, 'enhancing': 93, 'reliability': 94, 'out-of-distribution': 95, 'image': 96, 'detection': 97, 'stabilizing': 98, 'adversarial': 99, 'net': 100, 'prediction': 101, 'method': 102, 'graph': 103, 'attention': 104, 'minimax': 105, 'curriculum': 106, 'machine': 107, 'teaching': 108, 'desirable': 109, 'difficultie': 110, 'scheduled': 111, 'diversity': 112, 'generalizing': 113, 'hamiltonian': 114, 'monte': 115, 'carlo': 116, 'online': 117, 'improving': 118, 'gan': 119, 'using': 120, 'kanerva': 121, 'distributed': 122, 'memory': 123, 'mixed': 124, 'precision': 125, 'training': 126, 'constraint': 127, 'generate': 128, 'conditionally': 129, 'unconditional': 130, 'maskgan': 131, 'better': 132, 'text': 133, 'via': 134, 'filling': 135, '_______': 136, 'divide': 137, 'conquer': 138, 'meta-learning': 139, 'universality': 140, 'gradient': 141, 'descent': 142, 'approximate': 143, 'algorithm': 144, 'maximum': 145, 'posteriori': 146, 'optimisation': 147, 'meta': 148, 'shared': 149, 'hierarchies': 150, 'gaussian': 151, 'processe': 152, 'syntax-directed': 153, 'variational': 154, 'autoencoder': 155, 'structured': 156, 'neural-guided': 157, 'deductive': 158, 'real-time': 159, 'example': 160, 'evidence': 161, 'aggregation': 162, 'answer': 163, 're-ranking': 164, 'open-domain': 165, 'question': 166, 'answering': 167, 'wrpn': 168, 'wide': 169, 'reduced-precision': 170, 'mgan': 171, 'generator': 172, 'reactor': 173, 'fast': 174, 'ample-efficient': 175, 'actor-critic': 176, 'agent': 177, 'searnn': 178, 'rnn': 179, 'global-local': 180, 'losse': 181, 'distributional': 182, 'deterministic': 183, 'hierarchical': 184, 'subtask': 185, 'discovery': 186, 'non-negative': 187, 'matrix': 188, 'factorization': 189, 'parametrized': 190, 'procedure': 191, 'programming': 192, 'viterbi-based': 193, 'pruning': 194, 'sparse': 195, 'fixed': 196, 'high': 197, 'index': 198, 'compression': 199, 'ratio': 200, 'cgan': 201, 'projection': 202, 'discriminator': 203, 'predicting': 204, 'rotation': 205, 'emergent': 206, 'communication': 207, 'multi-modal,': 208, 'multi-step': 209, 'referential': 210, 'game': 211, 'fastgcn': 212, 'importance': 213, 'translation': 214, 'multi-agent': 215, 'framework': 216, 'entence': 217, 'nervenet': 218, 'clustering': 219, 'pseudo': 220, 'graph-based': 221, 'activity': 222, 'regularization': 223, 'dropout': 224, 'demystifying': 225, 'mmd': 226, 'smooth': 227, 'lo': 228, 'function': 229, 'top-k': 230, 'classification': 231, 'convex-combinatorial': 232, 'problem': 233, 'inference': 234, 'share': 235, 'simultaneous': 236, 'parameter': 237, 'tying': 238, 'sparsification': 239, 'distillation': 240, 'quantization': 241, 'message': 242, 'passing': 243, 'action-dependent': 244, 'control': 245, 'variate': 246, 'stein': 247, 'identity': 248, 'cale': 249, 'hyperprior': 250, 'disentangled': 251, 'concept': 252, 'unlabeled': 253, 'observation': 254, 'flipout': 255, 'pseudo-independent': 256, 'weight': 257, 'perturbation': 258, 'mini-batche': 259, 'kernel': 260, 'scalable': 261, 'laplace': 262, 'approximation': 263, 'high-dimensional': 264, 'geometry': 265, 'apprentice': 266, 'knowledge': 267, 'technique': 268, 'improve': 269, 'low-precision': 270, 'accuracy': 271, 'prioritized': 272, 'experience': 273, 'replay': 274, 'between-cla': 275, 'sound': 276, 'recognition': 277, 'confidence-calibrated': 278, 'classifier': 279, 'detecting': 280, 'sample': 281, 'voiceloop': 282, 'voice': 283, 'fitting': 284, 'phonological': 285, 'loop': 286, 'differentially': 287, 'private': 288, 'language': 289, 'mastering': 290, 'dungeon': 291, 'grounded': 292, 'mechanical': 293, 'turker': 294, 'generating': 295, 'wikipedia': 296, 'summarizing': 297, 'long': 298, 'sequence': 299, 'monolingual': 300, 'corpora': 301, 'reinforced': 302, 'abstractive': 303, 'summarization': 304, 'compressing': 305, 'word': 306, 'compositional': 307, 'code': 308, 'reducing': 309, 'bandwidth': 310, 'qanet': 311, 'local': 312, 'convolution': 313, 'global': 314, 'self-attention': 315, 'reading': 316, 'comprehension': 317, 'one-hidden-layer': 318, 'landscape': 319, 'design': 320, 'critical': 321, 'point': 322, 'linear': 323, 'analytical': 324, 'form': 325, 'propertie': 326, 'parametric': 327, 'closed-loop': 328, 'policie': 329, 'markov': 330, 'potential': 331, 'power': 332, 'deeper': 333, 'expressing': 334, 'natural': 335, 'risk': 336, 'analysi': 337, 'understanding': 338, 'discrimination-generalization': 339, 'tradeoff': 340, 'decision-based': 341, 'attack': 342, 'reliable': 343, 'black-box': 344, 'unbiased': 345, 'measuring': 346, 'intrinsic': 347, 'dimension': 348, 'objective': 349, 'memorization': 350, 'precede': 351, 'stochastic': 352, 'activation': 353, 'robust': 354, 'defense': 355, 'persistent': 356, 'squeezing': 357, 'on-chip': 358, 'ganite': 359, 'individualized': 360, 'treatment': 361, 'effect': 362, 'thermometer': 363, 'encoding': 364, 'one': 365, 'hot': 366, 'way': 367, 'resist': 368, 'trust-pcl': 369, 'off-policy': 370, 'trust': 371, 'region': 372, 'continuou': 373, 'video': 374, 'toward': 375, 'decoding': 376, 'automatically': 377, 'inferring': 378, 'quality': 379, 'spatiotemporal': 380, 'forecasting': 381, 'gradient-based': 382, 'attribution': 383, 'countering': 384, 'input': 385, 'transformation': 386, 'skip': 387, 'state': 388, 'update': 389, 'modular': 390, 'continual': 391, 'unified': 392, 'environment': 393, 'twin': 394, 'matching': 395, 'future': 396, 'interpretable': 397, 'counting': 398, 'interactive': 399, 'acquisition': 400, 'generalization': 401, '2d': 402, 'world': 403, 'complexity': 404, 'competition': 405, 'universal': 406, 'disentangling': 407, 'task': 408, 'connection': 409, 'encourage': 410, 'iterative': 411, 'negotiation': 412, 'semi-parametric': 413, 'topological': 414, 'navigation': 415, 'count': 416, 'object': 417, 'i-revnet': 418, 'invertible': 419, 'evaluating': 420, 'robustne': 421, 'extreme': 422, 'value': 423, 'theory': 424, 'hexaconv': 425, 'resistant': 426, 'physical': 427, 'incorporating': 428, 'prior': 429, 'scientific': 430, 'simulating': 431, 'action': 432, 'dynamic': 433, 'proce': 434, 'cipher': 435, 'cracking': 436, 'discrete': 437, 'speed': 438, 'skim-rnn': 439, 'multi-level': 440, 'dynamical': 441, 'system': 442, 'phrase-based': 443, 'art': 444, 'evaluation': 445, 'memory-based': 446, 'initialization': 447, 'matter': 448, 'orthogonal': 449, 'predictive': 450, 'pixeldefend': 451, 'understand': 452, 'defend': 453, 'certified': 454, 'defense-gan': 455, 'protecting': 456, 'ensemble': 457, 'fraternal': 458, 'warp': 459, 'time?': 460, 'parallelizing': 461, 'length': 462, 'attacking': 463, 'binarized': 464, 'depthwise': 465, 'separable': 466, 'noisy': 467, 'device': 468, 'placement': 469, 'autoencoding': 470, 'mixture': 471, 'anomaly': 472, 'reparameterization': 473, 'trick': 474, 'rewiring': 475, 'parse': 476, 'quantitatively': 477, 'divergence': 478, 'proposed': 479, 'entropy': 480, '(bre)': 481, 'inverse': 482, 'scattering': 483, 'transform': 484, 'percolation': 485, 'analyze': 486, 'expressive': 487, 'overlapping': 488, 'architecture': 489, 'rethinking': 490, 'smaller-norm-less-informative': 491, 'assumption': 492, 'channel': 493, 'diffusion': 494, 'data-driven': 495, 'traffic': 496, 'simulated+unsupervised': 497, 'adaptive': 498, 'bidirectional': 499, 'relational': 500, 'expectation': 501, 'maximization': 502, 'interaction': 503, 'visually': 504, 'imagination': 505, 'few-shot': 506, 'autoregressive': 507, 'density': 508, 'learn': 509, 'distribution': 510, 'obverter': 511, 'raw': 512, 'scan': 513, 'order': 514, 'identifying': 515, 'analogie': 516, 'acro': 517, 'emergence': 518, 'grid-like': 519, 'perform': 520, 'patial': 521, 'localization': 522, 'response': 523, 'metric': 524, 'retinal': 525, 'prosthesi': 526, 'semantically': 527, 'decomposing': 528, 'quantitative': 529, 'semi-supervised': 530, 'dirt-t': 531, 'cross-gradient': 532, 'cluster': 533, 'transfer': 534, 'eliminate': 535, 'singularitie': 536, 'bi-directional': 537, 'block': 538, 'memory-efficient': 539, 'modeling': 540, 'routing': 541, 'selection': 542, 'non-linear': 543, 'multi-task': 544, 'wavelet': 545, 'pooling': 546, 'fearnet': 547, 'brain-inspired': 548, 'incremental': 549, 'distribution?': 550, 'empiric': 551, 'reverse-engineering': 552, 'rectified': 553, 'unit': 554, 'deployment': 555, 'ingle': 556, 'bit': 557, 'pay': 558, 'monotonic': 559, 'chunkwise': 560, 'recasting': 561, 'baye': 562, \"don't\": 563, 'decay': 564, 'rate,': 565, 'increase': 566, 'batch': 567, 'size': 568, 'kronecker-factored': 569, 'proximal': 570, 'backpropagation': 571, 'neumann': 572, 'optimizer': 573, 'practical': 574, 'sgd': 575, 'over-parameterized': 576, 'provably': 577, 'generalize': 578, 'linearly': 579, 'pac-bayesian': 580, 'spectrally-normalized': 581, 'margin': 582, 'bound': 583, 'direction': 584, 'bia': 585, 'many': 586, 'path': 587, 'equilibrium': 588, 'need': 589, 'decrease': 590, 'every': 591, 'step': 592, 'rademacher': 593, 'perspective': 594, 'causal': 595, 'genome-wide': 596, 'association': 597, 'studie': 598, 'sensitivity': 599, 'study': 600, 'regularizing': 601, 'optimizing': 602, 'lstm': 603, 'dcn+': 604, 'coattention': 605, 'parallel': 606, 'all-but-the-top': 607, 'simple': 608, 'effective': 609, 'postprocessing': 610, 'general': 611, 'purpose': 612, 'sentence': 613, 'document': 614, 'ranking': 615, 'query': 616, 'suggestion': 617, 'fine-tuning': 618, 'motivation': 619, 'automatic': 620, 'curricula': 621, 'asymmetric': 622, 'self-play': 623, 'leave': 624, 'trace': 625, 'reset': 626, 'safe': 627, 'autonomou': 628, 'consequentialist': 629, 'conditional': 630, 'cooperation': 631, 'ocial': 632, 'dilemma': 633, 'imperfect': 634, 'information': 635, 'logical': 636, 'entailment?': 637, 'cascade': 638, 'regularized': 639, 'mitigating': 640, 'randomization': 641, 'decision': 642, 'boundary': 643, 'capsule': 644, 'em': 645, 'causalgan': 646, 'wasserstein': 647, 'networks': 648, 'primal-dual': 649, 'subgradient': 650, 'methods': 651, 'lagrangian': 652, 'coulomb': 653, 'nash': 654, 'equilibria': 655, 'field': 656, 'improved': 657, 'consistency': 658, 'term': 659, 'dual': 660, 'fusionnet': 661, 'fusing': 662, 'fully-aware': 663, 'application': 664, 'jointly': 665, 'syntax': 666, 'lexicon': 667, 'structure': 668, 'within': 669, 'short-term': 670, 'active': 671, 'named': 672, 'entity': 673, 'go': 674, 'walk': 675, 'arrive': 676, 'reasoning': 677, 'base': 678, 'title': 679, 'lifelong': 680, 'dynamically': 681, 'expandable': 682, 'role': 683, 'minimal': 684, 'repair': 685, 'beyond': 686, 'hierarchie': 687, 'multitask': 688, 'soft': 689, 'ordering': 690, 'web': 691, 'interface': 692, 'workflow-guided': 693, 'symbolic': 694, 'expression': 695, 'pate': 696, 'core-set': 697, 'loss-aware': 698, 'optimality': 699, 'condition': 700, 'spectralnet': 701, 'spectral': 702, 'not-so-random': 703, 'feature': 704, 'explain': 705, 'patternnet': 706, 'patternattribution': 707, 'statistical': 708, 'inductive': 709, 'spatially': 710, 'transformed': 711, 'floor-level': 712, '911': 713, 'call': 714, 'smartphone': 715, 'sensor': 716, 'group': 717, 'awarene': 718, 'void': 719, 'unifying': 720, 'debiasing': 721, 'importance-weighted': 722, 'jackknife': 723, 'validity': 724, 'seeking': 725, 'copula': 726, 'bottleneck': 727, 'whai': 728, 'weibull': 729, 'hybrid': 730, 'topic': 731, 'short-horizon': 732, 'meta-optimization': 733, 'self-ensembling': 734, 'estimator': 735, 'reward': 736, 'adverserial': 737, 'attentive': 738, 'meta-learner': 739, 'quantum': 740, 'entanglement': 741, 'fundamental': 742, 'implication': 743, 'synthesizing': 744, 'input-output': 745, 'learnability': 746, 'programmer-interpreter': 747, 'combinator': 748, 'abstraction': 749, 'based': 750, 'dna': 751, 'smash': 752, 'one-shot': 753, 'hypernetwork': 754, 'noise': 755, 'realistic': 756, 'population': 757, 'pattern': 758, 'auto-encoding': 759, 'sequential': 760, 'teach': 761, 'pixelnn': 762, 'example-based': 763, 'non-autoregressive': 764, '3': 765, 'scaling': 766, 'text-to-speech': 767, 'mixup': 768, 'minimization': 769, 'td': 770, 'analyzing': 771, 'temporal': 772, 'differencing': 773, 'dora': 774, 'explorer': 775, 'directed': 776, 'outreaching': 777, 'action-selection': 778, 'difference': 779, 'model-free': 780, 'rl': 781, 'model-based': 782, 'treeqn': 783, 'atreec': 784, 'differentiable': 785, 'tree-structured': 786, 'alternating': 787, 'multi-bit': 788, 'boosting': 789, 'actor': 790, 'critic': 791, 'guide': 792, 'genetic': 793, 'filter': 794, 'easy': 795, 'learn?': 796, 'rate': 797, 'hypergradient': 798, 'inference,': 799, 'converge': 800, 'limit': 801, 'cycle': 802, 'geometric': 803, 'eigenoption': 804, 'successor': 805, 'map': 806, 'overcoming': 807, 'catastrophic': 808, 'interference': 809, 'conceptor-aided': 810, 'augmented': 811, 'progressive': 812, 'multi-skilled': 813, 'n2n': 814, 'divide-and-conquer': 815, 'compressed': 816, 'sensing': 817, 'embeddings,': 818, 'bag-of-n-grams,': 819, 'new': 820, 'fix': 821, 'marginal': 822, 'last': 823, 'multi-mention': 824, 'multi-directional': 825, 'temporally': 826, 'spike': 827, 'optimism': 828, 'sobolev': 829, 'singly-labeled': 830, 'l_0': 831, 'behaviour': 832, 'integer': 833, 'operation': 834, 'convergence': 835, 'adam': 836, 'synthetic': 837, 'break': 838, 'multi-scale': 839, 'dense': 840, 'resource': 841, 'linguistic': 842, 'pixel': 843, 'spherical': 844, 'cnn': 845, 'ask': 846, 'right': 847, 'reformulation': 848, 'insufficiency': 849, 'existing': 850, 'momentum': 851, 'cheme': 852, 'certifying': 853, 'principled': 854, 'mean': 855, 'behavior': 856, 'auto-encoder': 857, 'normalization': 858, 'represent': 859, 'characterizing': 860, 'subspace': 861, 'dimensionality': 862, 'breaking': 863, 'softmax': 864, 'high-rank': 865, 'nonstationary': 866, 'competitive': 867, 'dilated': 868, 'tensor': 869, 'decomposition': 870, 'growing': 871, 'quality,': 872, 'stability,': 873, 'variation': 874, 'variance': 875, 'reduction': 876, 'factorized': 877, 'baseline': 878, 'zero-shot': 879, 'contextual': 880, 'extract': 881, 'ambientgan': 882, 'lossy': 883, 'measurement': 884, 'making': 885, 'recursion': 886, 'end-to-end': 887, 'optimized': 888, 'goal-oriented': 889, 'dialog': 890, 'auxiliary': 891, '(natural)': 892, 'require': 893, 'q-prop': 894, 'sample-efficient': 895, 'act': 896, 'large-batch': 897, 'gap': 898, 'sharp': 899, 'minima': 900, 'amortised': 901, 'super-resolution': 902, 'graphical': 903, 'transition': 904, 'flow': 905, 'topology': 906, 'half-rectified': 907, 'paying': 908, 'performance': 909, 'servoing': 910, 'fitted': 911, 'q-iteration': 912, 'nonparametric': 913, 'second-order': 914, 'convnet': 915, 'infusion': 916, 'shaping': 917, 'normalizing': 918, 'normalizer': 919, 'comparing': 920, 'extending': 921, 'scheme': 922, 'multilayer': 923, 'primate': 924, 'ganglion': 925, 'cell': 926, 'denoising': 927, 'vector': 928, 'corruption': 929, 'invariant': 930, 'view-manifold': 931, 'similarity': 932, 'perception': 933, 'novel': 934, 'doe': 935, 'take': 936, 'textures?': 937, 'foveal': 938, 'ampling': 939, 'attend': 940, 'cene': 941, 'information-theoretic': 942, 'infomax': 943, 'pixelcnn++': 944, 'pixelcnn': 945, 'discretized': 946, 'logistic': 947, 'likelihood': 948, 'modification': 949, 'mode': 950, 'highway': 951, 'unrolled': 952, 'cache': 953, 'cross-domain': 954, 'third': 955, 'person': 956, 'character': 957, 'level': 958, 'episodic': 959, 'starcraft': 960, 'micromanagement': 961, 'weight-sharing': 962, 'lattice': 963, 'tracking': 964, 'steerable': 965, 'query,': 966, 'reason,': 967, 'ambiguou': 968, 'coding': 969, 'diet': 970, 'thin': 971, 'fat': 972, 'genomic': 973, 'biaffine': 974, 'dependency': 975, 'parsing': 976, 'pixelvae': 977, 'variable': 978, 'snapshot': 979, 'train': 980, '1,': 981, 'get': 982, 'free': 983, 'first-person': 984, 'shooter': 985, 'neuro-symbolic': 986, 'content': 987, 'statistician': 988, 'criticism': 989, 'discrepancy': 990, 'curve': 991, 'optimize': 992, 'compare-aggregate': 993, 'noising': 994, 'smoothing': 995, 'fully-connected': 996, 'density-diversity': 997, 'penalty': 998, 'pairwise': 999, 'decoder-based': 1000, 'trained': 1001, 'ternary': 1002, 'dsd': 1003, 'dense-sparse-dense': 1004, 'object-based': 1005, 'remember': 1006, 'rare': 1007, 'event': 1008, 'tagging': 1009, 'characters?': 1010, 'fine-grained': 1011, 'gating': 1012, 'tough-to-beat': 1013, 'capacity': 1014, 'trainability': 1015, 'physic': 1016, 'experiment': 1017, 'exploring': 1018, 'under-appreciated': 1019, 'computation': 1020, 'calibrating': 1021, 'energy-based': 1022, 'query-reduction': 1023, 'designing': 1024, 'match-lstm': 1025, 'pointer': 1026, 'deepdsl': 1027, 'compilation-based': 1028, 'domain-specific': 1029, 'long-range': 1030, 'cnn-based': 1031, 'texture': 1032, 'samplernn': 1033, 'audio': 1034, 'metacontrol': 1035, 'imagination-based': 1036, 'sparsity': 1037, 'compressive': 1038, 'zoneout': 1039, 'randomly': 1040, 'preserving': 1041, 'hidden': 1042, 'probabilistic': 1043, 'lr-gan': 1044, 'layered': 1045, 'recursive': 1046, 'chao': 1047, 'outrageously': 1048, 'sparsely-gated': 1049, 'mixture-of-expert': 1050, 'doubly-recurrent': 1051, 'introspection:accelerating': 1052, 'evolution': 1053, 'hyperband': 1054, 'bandit-based': 1055, 'configuration': 1056, 'lie-acce': 1057, 'turing': 1058, 'quasi-recurrent': 1059, 'simulator': 1060, 'epopt': 1061, 'attend,': 1062, 'adapt': 1063, 'ource': 1064, 'ame': 1065, 'acoustic': 1066, 'music': 1067, 'scratch': 1068, 'misclassified': 1069, 'uperoptimize': 1070, 'trusting': 1071, 'svm': 1072, 'piecewise': 1073, 'sigma': 1074, 'delta': 1075, 'quantized': 1076, 'self-attentive': 1077, 'locally': 1078, 'constrained': 1079, 'decorrelation': 1080, 'concrete': 1081, 'relaxation': 1082, 'random': 1083, 'topicrnn': 1084, 'frustratingly': 1085, 'short': 1086, 'span': 1087, 'semi-markov': 1088, 'multi-adversarial': 1089, 'mollifying': 1090, 'beta-vae': 1091, 'basic': 1092, 'offline': 1093, 'bilingual': 1094, 'vectors,': 1095, 'inverted': 1096, 'oftmax': 1097, 'visualizing': 1098, 'categorical': 1099, 'gumbel-softmax': 1100, 'paleo': 1101, 'q-learning': 1102, 'real': 1103, 'nvp': 1104, 'sgdr': 1105, 'warm': 1106, 'restart': 1107, 'programmer': 1108, 'asynchronou': 1109, 'advantage': 1110, 'gpu': 1111, 'navigate': 1112, 'deepcoder': 1113, 'write': 1114, 'rule': 1115, 'extraction': 1116, 'dialogue': 1117, 'human-in-the-loop': 1118, 'adversarially': 1119, 'learned': 1120, 'asking': 1121, 'fractalnet': 1122, 'ultra-deep': 1123, 'revisiting': 1124, 'two-sample': 1125, 'test': 1126, 'repeat': 1127, 'fine': 1128, 'grained': 1129, 'repetition': 1130, 'binarization': 1131, 'play': 1132, 'day': 1133, 'faster': 1134, 'tightening': 1135, 'central': 1136, 'moment': 1137, '(cmd)': 1138, 'domain-invariant': 1139, 'lossle': 1140, 'entropy-sgd': 1141, 'biasing': 1142, 'valley': 1143, 'factorisation': 1144, 'ensembling': 1145, 'neural-network': 1146, 'compose': 1147, 'delving': 1148, 'direct': 1149, 'guided': 1150, 'stick-breaking': 1151, 'conversation': 1152, 'support': 1153, 'encoder': 1154, 'interpretability': 1155, '(mus-rover': 1156, 'ii)': 1157, 'tonal': 1158, 'really': 1159, 'convolutional?': 1160, 'polysemy': 1161, 'planar': 1162, 'medication': 1163, 'diagnostic': 1164, 'low-dimensional': 1165, 'manifold': 1166, 'sparsely-connected': 1167, 'vlsi': 1168, 'implementation': 1169, 'sentinel': 1170, 'trainable': 1171, 'tighter': 1172, 'lead': 1173, 'holstep': 1174, 'dataset': 1175, 'higher-order': 1176, 'logic': 1177, 'theorem': 1178, 'proving': 1179, 'approximation?': 1180, 'multiscale': 1181, 'photo': 1182, 'editing': 1183, 'introspective': 1184, 'expectation-linear': 1185, 'artistic': 1186, 'style': 1187, 'hadamard': 1188, 'product': 1189, 'low-rank': 1190, 'bilinear': 1191, 'discovering': 1192, 'relation': 1193, 'entangled': 1194, 'evaluate': 1195, 'gated': 1196, 'multimodal': 1197, 'fusion': 1198, 'perceptual': 1199, 'theoretical': 1200, '(deep)': 1201, 'automated': 1202, 'multilingual': 1203, 'shift': 1204, 'aggregate': 1205, 'forth': 1206, 'interpreter': 1207, 'bit-pragmatic': 1208, 'computing': 1209, 'regression': 1210, 'approximating': 1211, 'hji': 1212, 'pde': 1213, 'solution': 1214, 'nonparametrically': 1215, 'generalizable': 1216, 'set': 1217, 'cloud': 1218, 'exponential': 1219, 'song': 1220, 'pi': 1221, 'musically': 1222, 'plausible': 1223, 'pop': 1224, 'discover': 1225, 'draw': 1226, 'amortized': 1227, 'mle': 1228, 'controllable': 1229, 'chirplet': 1230, 'enhance': 1231, 'listening': 1232, '-': 1233, 'validation': 1234, 'animal': 1235, 'speech': 1236, 'symmetry-breaking': 1237, 'certain': 1238, 'two-layered': 1239, 'relu': 1240, 'nonlinearity': 1241, 'augmentation': 1242, 'sum-product': 1243, 'taylor': 1244, 'rectifier': 1245, 'multiplicative': 1246, 'equence': 1247, 'modelling': 1248, 'functional': 1249, 'tuning': 1250, 'updating': 1251, 'architectural': 1252, 'bootstrapping': 1253, 'surprise-based': 1254, 'translating': 1255, 'small': 1256, 'rendergan': 1257, 'labeled': 1258, 'modularized': 1259, 'morphing': 1260, 'sketching': 1261, 'sketche': 1262, 'development': 1263, 'javascript-based': 1264, 'platform': 1265, 'engine': 1266, 'robotic': 1267, 'extrapolation': 1268, 'equation': 1269, 'charged': 1270, 'saddle': 1271, 'compute': 1272, 'fly': 1273, 'graph2seq': 1274, 'representing': 1275, 'describing': 1276, 'equential': 1277, 'outlier': 1278, 'adversary': 1279, 'graphgan': 1280, 'binary-valued': 1281, 'gate': 1282, 'discrete-valued': 1283, 'massively': 1284, 'yellowfin': 1285, 'gradnorm': 1286, 'balancing': 1287, 'hyper-parameter': 1288, 'evolutionary': 1289, 'sqlnet': 1290, 'querie': 1291, 'sic-gan': 1292, 'self-improving': 1293, 'collaborative': 1294, 'pointing': 1295, 'sql': 1296, 'achieving': 1297, 'morphological': 1298, 'agreement': 1299, 'concorde': 1300, 'efficiency': 1301, 'cross-lingual': 1302, 'imilaritie': 1303, 'text-mining': 1304, 'jiffy': 1305, 'time': 1306, 'serie': 1307, 'real-valued': 1308, '(medical)': 1309, 'statestream': 1310, 'toolbox': 1311, 'explore': 1312, 'layerwise-parallel': 1313, 'binaryflex': 1314, 'on-the-fly': 1315, 'resbinnet': 1316, 'reservoir': 1317, 'interpreting': 1318, 'mach': 1319, 'embarrassingly': 1320, '$k$-cla': 1321, '$o(d\\\\log{k})$': 1322, '$o(k\\\\log{k}': 1323, '+': 1324, 'd\\\\log{k})$': 1325, 'time,': 1326, 'instead': 1327, '$o(kd)$': 1328, 'priority': 1329, 'queue': 1330, 'composable': 1331, 'planning': 1332, 'attribute': 1333, 'execution': 1334, 'realtime': 1335, 'completion': 1336, 'autostacker': 1337, 'output': 1338, 'morphism': 1339, 'segmentation': 1340, 'uncertainty': 1341, 'error': 1342, '3c-gan': 1343, 'condition-context-composite': 1344, 'images': 1345, 'separately': 1346, 'self-supervised': 1347, 'self-training': 1348, 'attention-based': 1349, 'convnets': 1350, 'tree-lstm': 1351, 'respresentations': 1352, 'finding': 1353, 'remo': 1354, '(related': 1355, 'object)': 1356, 'tree': 1357, 'transducer': 1358, 'review': 1359, 'sentiment': 1360, 'cro': 1361, 'censoring': 1362, 'multiple-adversarie': 1363, 'leap': 1364, 'pace': 1365, 'nearest': 1366, 'neighbour': 1367, 'radial': 1368, 'basi': 1369, 'solver': 1370, 'unordered': 1371, 'directing': 1372, 'weighted': 1373, 'prototypical': 1374, 'omniglot': 1375, 'doubly': 1376, 'fixing': 1377, 'hallucinating': 1378, 'brain': 1379, 'artificial': 1380, 'tudy': 1381, 'multiset': 1382, 'survival': 1383, 'end-of-life': 1384, 'signal': 1385, 'strong': 1386, 'homoencoder': 1387, 'infer': 1388, 'high-capacity': 1389, 'backprop': 1390, 'probability': 1391, 'smoothed': 1392, 'building': 1393, 'extracting': 1394, 'models.': 1395, 'continuous-time': 1396, 'change': 1397, 'particle': 1398, 'mcmc': 1399, 'joint': 1400, 'flexible': 1401, 'non-parametric': 1402, 'latent-variable': 1403, 'bias-variance': 1404, 'boltzmann': 1405, 'classifier-to-generator': 1406, 'testable': 1407, 'notion': 1408, 'dissecting': 1409, 'sign,': 1410, 'magnitude': 1411, 'econd-order': 1412, 'integrating': 1413, 'synchronou': 1414, 'weak': 1415, 'synchronization': 1416, 'dga': 1417, 'name': 1418, 'unbiasing': 1419, 'large-scale': 1420, 'cloze': 1421, 'designed': 1422, 'teacher': 1423, 'recommender': 1424, 'normalized': 1425, 'displaced': 1426, 'systematic': 1427, 'comparative': 1428, 'systems': 1429, 'a3c': 1430, 'conversational': 1431, 'compact': 1432, 'character-level': 1433, 'use': 1434, 'alone': 1435, 'inducing': 1436, 'seq2sql': 1437, 'entitite': 1438, 'scene': 1439, 'partial': 1440, 'description': 1441, 'tasks': 1442, 'linearized': 1443, 'depth': 1444, 'eparation': 1445, 'weight-width': 1446, 'trade-off': 1447, 'igmoidal': 1448, 'structural': 1449, 'lqg': 1450, 'setting': 1451, 'hort': 1452, 'proof': 1453, 'equivalence': 1454, 'oft': 1455, 'scaled': 1456, 'cayley': 1457, 'federated': 1458, 'strategie': 1459, 'diagonal': 1460, 'inner': 1461, 'alternative': 1462, 'self': 1463, 'paced': 1464, 'master-slave': 1465, 'square': 1466, 'root': 1467, '(isrlus)': 1468, 'remember!': 1469, 'key': 1470, 'protected': 1471, 'resilient': 1472, 'combinatorial': 1473, 'collaboration': 1474, 'facial': 1475, 'landmark': 1476, 'accelerating': 1477, 'mechanic': 1478, 'neuron': 1479, 'score': 1480, 'airnet': 1481, 'air': 1482, 'accurate': 1483, 'painle': 1484, 'mechanism': 1485, 'navigate?': 1486, 'distilling': 1487, 'instruction': 1488, 'captioning': 1489, 'made': 1490, 'of?': 1491, 'xgan': 1492, 'image-to-image': 1493, 'many-to-many': 1494, 'cayleynets': 1495, 'cnns': 1496, 'rational': 1497, 'filters': 1498, 'universality,': 1499, 'robustness,': 1500, 'detectability': 1501, 'ground-truth': 1502, 'double': 1503, 'superresolution': 1504, 'ups': 1505, 'undirected': 1506, 'positive': 1507, 'filtering': 1508, 'algebraic': 1509, 'encoder-decoder': 1510, 'context-based': 1511, 'modifying': 1512, 'memorie': 1513, 'tree2tree': 1514, 'coupled': 1515, 'log-densenet': 1516, 'sparsify': 1517, 'densenet': 1518, 'sparse-complementary': 1519, 'utilization': 1520, 'vs': 1521, 'minimax-optimal': 1522, 'examples': 1523, 'transferability': 1524, 'reduced': 1525, 'crescendonet': 1526, 'connectivity': 1527, 'arithmetic': 1528, 'circuit': 1529, 'diverse': 1530, 'expert': 1531, 'backtracking': 1532, 'credit': 1533, 'assignment': 1534, 'parsimoniou': 1535, 'feed-forward': 1536, 'vanishing': 1537, 'plain': 1538, 'efficiently': 1539, 'applying': 1540, 'discounted': 1541, 'weights': 1542, 'associative': 1543, 'retrieval': 1544, 'resolving': 1545, 'angle': 1546, 'taxonomy': 1547, 'taking': 1548, 'apart': 1549, 'encode': 1550, 'shape': 1551, 'aann': 1552, 'absolute': 1553, 'dnn': 1554, 'spontaneou': 1555, 'symmetry': 1556, 'anytime': 1557, 'versatile': 1558, 'deconvolutional': 1559, 'assessment': 1560, 'codeword': 1561, 'manipulating': 1562, 'replica': 1563, 'stacking': 1564, 'resnet': 1565, 'sequentially': 1566, 'irregularly': 1567, 'observed': 1568, 'vocabulary-informed': 1569, 'signature': 1570, 'adjacency': 1571, 'matrice': 1572, 'deep/transfer': 1573, 'subgraph': 1574, 'non-metric': 1575, 'low-shot': 1576, 'expansion': 1577, 'unseen': 1578, 'cla': 1579, 'open-world': 1580, 'select': 1581, 'problem,': 1582, 'solution,': 1583, 'out-of-the-box': 1584, 'full-network': 1585, 'construction': 1586, 'color': 1587, 'chit-chat': 1588, 'open': 1589, 'baseline-corrected': 1590, 'pace-by-time': 1591, 'trial': 1592, 'pike': 1593, 'ego-cnn': 1594, 'ego': 1595, 'network-based': 1596, 'emotion': 1597, 'out-of-vocabulary': 1598, 'ubuntu': 1599, 'corpu': 1600, 'affect': 1601, 'ensitive': 1602, 'relevance': 1603, 'task-oriented': 1604, 'interact': 1605, 'entitie': 1606, 'self-organizing': 1607, 'localist': 1608, 'representations?': 1609, 'pro-active': 1610, 'engagement': 1611, 'upport': 1612, 'pike-time': 1613, 'dependent': 1614, 'plasticity': 1615, 'vanilla': 1616, 'unleashing': 1617, 'inversion': 1618, 'norm': 1619, 'independent': 1620, 'ica': 1621, 'ive-gan': 1622, 'forced': 1623, 'exhaustive': 1624, 'label': 1625, 'counterfactual': 1626, 'factor': 1627, 'operator': 1628, 'block-sparse': 1629, 'discriminative': 1630, 'embedded': 1631, 'peech': 1632, 'word2net': 1633, 'letter-based': 1634, 'asr': 1635, 'waveforms?': 1636, '“style”': 1637, 'musical': 1638, 'time-frequency': 1639, 'tandem': 1640, 'mnist': 1641, 'massive': 1642, 'post-training': 1643, 'parametrizing': 1644, 'gans': 1645, 'useful': 1646, 'for?': 1647, 'avoiding': 1648, 'degradation': 1649, 'phasing': 1650, 'kip-connection': 1651, 'svd': 1652, 'parameterization': 1653, 'integration': 1654, 'background': 1655, 'nlu': 1656, 'block-diagonal': 1657, 'hessian-free': 1658, 'calable': 1659, 'multi-domain': 1660, 'multimodel': 1661, 'layer-wise': 1662, 'direction-preserving': 1663, 'lower': 1664, 'larger': 1665, 'super-convergence': 1666, 'exploiting': 1667, 'bit-regularized': 1668, 'analysis': 1669, 'adjusting': 1670, 'old': 1671, 'idea': 1672, 'tatistical': 1673, 'approache': 1674, 'explicit': 1675, 'byte-level': 1676, 'structure-based': 1677, 'context': 1678, 'retrieval-based': 1679, 'generation-based': 1680, 'human-computer': 1681, 'systems.': 1682, 'denotational': 1683, 'human-readable': 1684, 'summarie': 1685, 'multi-label': 1686, 'provable': 1687, 'gurantee': 1688, 'extended-long': 1689, 'textual': 1690, 'ddrprog': 1691, 'clevr': 1692, 'earch': 1693, 'mctsnet': 1694, 'verification': 1695, 'strategy': 1696, 'defogger': 1697, 'incomplete': 1698, 'cooperative': 1699, 'packet': 1700, 'maintaining': 1701, 'vehicle': 1702, 'fleet': 1703, 'coordination': 1704, 'induction': 1705, 'feat2vec': 1706, 'arbitrary': 1707, 'correcting': 1708, 'nuisance': 1709, 'distance': 1710, 'copying': 1711, 'prototype': 1712, 'minimum': 1713, 'make': 1714, 'great': 1715, 'siamese': 1716, 'general-purpose': 1717, 'multidimensional': 1718, 'diagnose': 1719, 'cratch': 1720, 'dependencie': 1721, 'among': 1722, 'disease': 1723, 'histopathology': 1724, 'weakly-supervised': 1725, 'abnormality': 1726, 'medical': 1727, 'imaging': 1728, 'rationale': 1729, 'molecule': 1730, 'censored': 1731, 'neurodegenerative': 1732, 'hyperspectral': 1733, 'tesla': 1734, 'task-wise': 1735, 'early': 1736, 'stopping': 1737, 'competing': 1738, 'multi-instance': 1739, 'annotation': 1740, 'fully': 1741, 'time-domain': 1742, 'lung': 1743, 'tumor': 1744, 'location': 1745, 'identification': 1746, 'alexnet': 1747, 'custom': 1748, 'enrichment': 1749, 'features': 1750, 'linear/non-linear': 1751, 'combination': 1752, 'cramer': 1753, 'biased': 1754, 'novelty': 1755, 'mix-generator': 1756, 'classification-based': 1757, 'latentpoison': 1758, '--': 1759, 'stability': 1760, 'phase': 1761, 'conductor': 1762, 'multi-layered': 1763, 'entailment-vector': 1764, 'specialization': 1765, 'distillation,': 1766, 'pruning,': 1767, 'connected': 1768, 'composing': 1769, 'ampnet': 1770, 'model-parallel': 1771, 'elect': 1772, 'ynthesi': 1773, 'less-overlapping': 1774, 'data-efficient': 1775, 'dexterou': 1776, 'manipulation': 1777, 'two-layer': 1778, 'gain': 1779, 'session-based': 1780, 'recommendation': 1781, 'coreset': 1782, 'quadrature-based': 1783, 'recovery': 1784, 'nonlinear': 1785, 'transformations': 1786, 'surface': 1787, 'one-cla': 1788, 'overcomplete': 1789, 'generic': 1790, 'information-autoencoding': 1791, 'family': 1792, 'pedagogical': 1793, 'thinking': 1794, 'like': 1795, '—': 1796, 'pac-baye': 1797, 'data-dependent': 1798, 'differential': 1799, 'privacy': 1800, 'explanation': 1801, 'grouping-by-id': 1802, 'guarding': 1803, 'interpretation': 1804, 'fragile': 1805, 'explaining': 1806, 'mistake': 1807, 'sympathetic': 1808, '(un)reliability': 1809, 'aliency': 1810, 'influence-directed': 1811, 'supervised': 1812, 'auction': 1813, 'price': 1814, 'license': 1815, 'plate': 1816, 'privynet': 1817, 'privacy-preserving': 1818, 'graphic': 1819, 'hand-drawn': 1820, 'visuomotor': 1821, 'lsd-net': 1822, 'look,': 1823, 'detect': 1824, 'egocentric': 1825, 'spatial': 1826, 'clipping': 1827, 'homomorphic': 1828, 'encryption': 1829, 'vision': 1830, 'encrypt': 1831, 'data;': 1832, '\\\\': 1833, 'secure': 1834, 'transaction': 1835, 'fair': 1836, 'pricing': 1837, 'towards': 1838, 'module': 1839, 'experiential': 1840, 'prevent': 1841, 'atm': 1842, 'fraud': 1843, 'disguise': 1844, 'shade': 1845, 'shannon': 1846, 'information-based': 1847, 'lsh': 1848, 'sub-linear': 1849, 'context-aware': 1850, 'learner': 1851, 'mutual': 1852, 'controlling': 1853, 'preliminary': 1854, 'troubleshooting': 1855, 'cycada': 1856, 'cycle-consistent': 1857, 'k-shot': 1858, 'distinct': 1859, 'covariate-specific': 1860, 'contraction': 1861, 'renormalization': 1862, 'ansatz': 1863, 'eliminet': 1864, 'eliminating': 1865, 'option': 1866, 'choice': 1867, 'two-dimensional': 1868, 'theoretic': 1869, 'paragram': 1870, 'glove': 1871, 'result': 1872, 'benchmark': 1873, 'graphvae': 1874, 'bi-lstm': 1875, 'q-network': 1876, 'continuous-fidelity': 1877, 'ensory': 1878, 'pike-based': 1879, 'treat': 1880, 'sepsi': 1881, 'multi-output': 1882, 'deeparchitect': 1883, 'determinantal': 1884, 'alpha-divergence': 1885, 'bridge': 1886, 'noise-based': 1887, 'regularizer': 1888, 'neighbor-encoder': 1889, 'computed': 1890, 'element-wise': 1891, 'sum': 1892, 'gf(2)': 1893, 'pairing': 1894, 'multi-branch': 1895, 'hybridnet': 1896, 'speed-up': 1897, 'shakedrop': 1898, 'driven': 1899, 'accented': 1900, 'ucb': 1901, 'q-ensembles': 1902, 'fear': 1903, 'mix': 1904, 'n-step': 1905, 'return': 1906, 'lambda-return': 1907, 'backward': 1908, 'q-networks': 1909, 'playing': 1910, 'battle': 1911, 'arena': 1912, 'discrete-continuous': 1913, 'tate': 1914, 'trajectorie': 1915, 'multi-advisor': 1916, 'inference-based': 1917, 'lot': 1918, 'car': 1919, 'atari': 1920, '2600': 1921, 'minute': 1922, 'q-distribution': 1923, 'raml': 1924, 'bonu': 1925, 'pact': 1926, 'parameterized': 1927, 'heterogeneou': 1928, 'bitwidth': 1929, 'principle': 1930, 'logit': 1931, 'separation': 1932, 'balanced': 1933, 'help': 1934, 'neighbor': 1935, 'lipschitz': 1936, 'dudley': 1937, 'cheap': 1938, 'guarantee': 1939, 'bounding': 1940, '$l^2$': 1941, 'block-normalized': 1942, 'generalized': 1943, 'three': 1944, 'influencing': 1945, 'diffusing': 1946, 'ign': 1947, 'tochastic': 1948, 'non-convex': 1949, 'consolidation': 1950, 'recollection': 1951, 'acquiring': 1952, 'target': 1953, 'goal-parameterized': 1954, 'trl': 1955, 'hint': 1956, 'reverse': 1957, 'vision-based': 1958, 'automata': 1959, 'composition': 1960, 'face': 1961, 'iteration': 1962, 'planetary': 1963, 'rover': 1964, 'hybed': 1965, 'hyperbolic': 1966, 'tcav': 1967, 'relative': 1968, 'testing': 1969, 'link': 1970, 'node': 1971, 'pair': 1972, 'closer': 1973, 'look': 1974, 'analogy': 1975, '2-bit/weight': 1976, 'storage': 1977, 'requirement': 1978, 'covariance': 1979, 'sg-mcmc': 1980, 'long-term': 1981, 'tensor-train': 1982, 'boo(n)': 1983, 'determine': 1984, 'number': 1985, 'hyperedge2vec': 1986, 'hyperedge': 1987, 'learnable': 1988, 'histogram': 1989, 'plane': 1990, 'near-data': 1991, 'processing': 1992, 'investigating': 1993, 'recurrence': 1994, 'eligibility': 1995, '#exploration': 1996, 'count-based': 1997, 'orthogonality': 1998, 'life': 1999, 'parallelization': 2000, 'b-gan': 2001, 'higher': 2002, 'energy': 2003, 'introducing': 2004, 'light': 2005, 'character-aware': 2006, 'comparator': 2007, 'ai': 2008, 'love': 2009, 'advice?': 2010, 'non-factoid': 2011, 'questions': 2012, 'boosted': 2013, 'information-seeking': 2014, 'fashion': 2015, 'canonical': 2016, 'intermediate': 2017, 'probe': 2018, 'invariance': 2019, 'equivariance': 2020, 'trenet': 2021, 'trend': 2022, 'intelligible': 2023, 'switched': 2024, 'affine': 2025, 'physiologically': 2026, 'handwriting': 2027, 'content2vec': 2028, 'specializing': 2029, 'representations': 2030, 'out-of-cla': 2031, 'experimental': 2032, 'foundation': 2033, 'many-task': 2034, 'nlp': 2035, 'analytic': 2036, 'extension': 2037, 'limitation': 2038, 'deeprebirth': 2039, 'mobile': 2040, 'weather': 2041, 'climate': 2042, 'chunk': 2043, 'epitomic': 2044, 'passthrough': 2045, 'introspection': 2046, 'reasonet': 2047, 'relationship': 2048, 'wav2letter': 2049, 'convnet-based': 2050, 'multivariate': 2051, 'missing': 2052, 'newsqa': 2053, 'gated-attention': 2054, 'reader': 2055, \"here'\": 2056, 'argumentation': 2057, 'mining': 2058, 'distribution-sensitive': 2059, 'memory-augmented': 2060, 'taming': 2061, 'wave': 2062, 'ine': 2063, 'utilizing': 2064, 'defensive': 2065, 'evasion': 2066, 'transformation-based': 2067, 'independence': 2068, 'coevolutionary': 2069, 'l-sr1': 2070, 'second': 2071, 'computer': 2072, 'asynchronicity': 2073, 'frame': 2074, 'adding': 2075, 'rating': 2076, 'counterpoint': 2077, 'urface': 2078, 'eigenvalue': 2079, 'hessian': 2080, 'singularity': 2081, 'communicating': 2082, 'controller': 2083, 'preimage': 2084, 'activitie': 2085, 'submodular': 2086, 'read-again': 2087, 'copy': 2088, 'descriptor': 2089, 'lots': 2090, 'warped': 2091, 'multi-sense': 2092, 'two': 2093, 'wild': 2094, 'numerical': 2095, 'neurogenesis-inspired': 2096, 'dictionary': 2097, 'adaption': 2098, 'changing': 2099, 'beam': 2100, 'solving': 2101, 'context-conditional': 2102, 'different': 2103, 'type': 2104, 'predictron': 2105, 'bridging': 2106, 'nonlinearitie': 2107, 'multiplier': 2108, 'inefficiency': 2109, '(and': 2110, 'learners)': 2111, 'walkback': 2112, 'fasttext.zip': 2113, 'sum-': 2114, 'max-product': 2115, 'transduction': 2116, 'hard': 2117, 'addressing': 2118, 'picture': 2119, 'worth': 2120, 'thousand': 2121, 'words?': 2122, 'multi-modal': 2123, 'e-commerce': 2124, 'steganography': 2125, 'ms': 2126, 'marco': 2127, 'human-generated': 2128, 'omg': 2129, 'grouping': 2130, 'gram': 2131, 'healthcare': 2132, 'penalizing': 2133, 'confident': 2134, 'budgeted': 2135, 'dragnn': 2136, 'transition-based': 2137, 'invertibility': 2138, 'skip-graph': 2139, 'jack-of-all-trade': 2140, 'examination': 2141, 'dyvedeep': 2142, 'effort': 2143, 'morphology': 2144, 'fourier': 2145, 'annealing': 2146, 'leaky-relu': 2147, 'rbm': 2148, 'opening': 2149, 'vocabulary': 2150, 'hfh': 2151, 'homologically': 2152, 'hashing': 2153, 'incredible': 2154, 'shrinking': 2155, 'len': 2156, 'tensorial': 2157, 'snes': 2158, 'retro': 2159, 'lipnet': 2160, 'sentence-level': 2161, 'lipreading': 2162, 'yet': 2163, 'prune': 2164, 'predication': 2165, 'riemannian': 2166, 'skip-gram': 2167, 'negative': 2168, 'rl^2': 2169, 'slow': 2170, 'error-correcting': 2171, 'middle': 2172, 'classify': 2173, 'extractive': 2174, 'tartan': 2175, 'variability': 2176, 'word-like': 2177, 'audio-visual': 2178, 'analylsi': 2179, 'reference-aware': 2180, 'pretraining': 2181, 'bioacoustic': 2182, 'dirichlet': 2183, 'process': 2184, 'volatility': 2185, 'coarse': 2186, 'mask': 2187, 'enet': 2188, 'indexing': 2189, 'electivity': 2190, 'multiagent': 2191, 'classle': 2192, 'cat2vec': 2193, 'multi-field': 2194, 'transformational': 2195, 'cortical-inspired': 2196, 'open-bigram': 2197, 'handwritten': 2198, 'inferential': 2199, 'stop': 2200, 'spatio-temporal': 2201, 'time-serie': 2202, 'odyssey': 2203, 'recent': 2204, 'insight': 2205, 'paragraph': 2206, 'lstm-based': 2207, 'system-call': 2208, 'host-based': 2209, 'intrusion': 2210, 'squeezenet': 2211, 'alexnet-level': 2212, '50x': 2213, 'fewer': 2214, '<0.5mb': 2215, 'ize': 2216, 'sparsified': 2217, 'calculation': 2218, 'polynomial': 2219, 'parmac': 2220, 'nested': 2221, 'functions,': 2222, 'che': 2223, 'emerge': 2224, 'case': 2225, 'tic-tac-toe': 2226, 'halting': 2227, 'combiner': 2228, 'combating': 2229, \"learning'\": 2230, 'sisyphean': 2231, 'curse': 2232, 'python': 2233, 'imilarity': 2234, 'enforcing': 2235, 'unconstrained': 2236, 'static': 2237, 'analyzer': 2238, 'toy': 2239, 'detail': 2240, 'perceiving': 2241, 'low': 2242, 'fidelity': 2243, 'binary-coded': 2244, 'bloom': 2245, 'pedestrian': 2246, 'r-cnn': 2247, 'privileged': 2248, 'fuzzy': 2249, 'paraphrase': 2250, 'best': 2251, 'practice': 2252, 'applied': 2253, 'instance': 2254, 'retrieval?': 2255, 'biclustering': 2256, 'locomotion': 2257, 'deeprl': 2258, 'matter?': 2259, 'refinement': 2260, 'partition': 2261, 'emantic': 2262, 'significance': 2263, 'softmax-based': 2264, 'learning-based': 2265, 'chain': 2266, 'protect': 2267, 'cryptography': 2268, 'contrasting': 2269, 'softtarget': 2270, 'reduce': 2271, 'over-fitting': 2272, 'surprisal-driven': 2273}\n"
     ]
    }
   ],
   "source": [
    "# create word dict\n",
    "word_dict = create_word_dict(df_all)\n",
    "print(word_dict)"
   ]
  },
  {
   "cell_type": "code",
   "execution_count": 9,
   "metadata": {
    "ExecuteTime": {
     "end_time": "2019-05-13T10:32:17.850296Z",
     "start_time": "2019-05-13T10:32:17.843450Z"
    }
   },
   "outputs": [],
   "source": [
    "def convert_sentence_to_vector(df, word_dict):\n",
    "    sentence_vector = []\n",
    "    for idx, row in df.iterrows():\n",
    "        temp_vector = []\n",
    "        word_list = row['title']\n",
    "        count = 0\n",
    "        for word in word_list.split(' '):\n",
    "            temp_vector.append(word_dict.get(word.lower(), 0))\n",
    "            # print(word, count, temp_vector)\n",
    "            count += 1\n",
    "            if(count == 10):\n",
    "                break\n",
    "        while(count < 10):\n",
    "            temp_vector.append(0)\n",
    "            count += 1\n",
    "\n",
    "        # print(row['title'])\n",
    "        # print(temp_vector)\n",
    "        sentence_vector.append(temp_vector)\n",
    "\n",
    "    sentence_vector = np.array(sentence_vector)\n",
    "    return sentence_vector"
   ]
  },
  {
   "cell_type": "code",
   "execution_count": 10,
   "metadata": {
    "ExecuteTime": {
     "end_time": "2019-05-13T10:32:17.986822Z",
     "start_time": "2019-05-13T10:32:17.852037Z"
    }
   },
   "outputs": [
    {
     "name": "stdout",
     "output_type": "stream",
     "text": [
      "torch.Size([1235, 1, 10]) torch.Size([1235]) torch.Size([100, 1, 10]) torch.Size([100])\n"
     ]
    }
   ],
   "source": [
    "# convert sentence to vector\n",
    "train_X = convert_sentence_to_vector(df_train_X, word_dict)\n",
    "test_X = convert_sentence_to_vector(df_test_X, word_dict)\n",
    "\n",
    "train_X = torch.from_numpy(train_X)\n",
    "test_X = torch.from_numpy(test_X)\n",
    "train_y = torch.from_numpy(df_train_y.values)\n",
    "test_y = torch.from_numpy(df_test_y.values)\n",
    "\n",
    "train_X = train_X.view(-1, 1, 10).type(torch.FloatTensor)\n",
    "test_X = test_X.view(-1, 1, 10).type(torch.FloatTensor)\n",
    "print(train_X.shape, train_y.shape, test_X.shape, test_y.shape)"
   ]
  },
  {
   "cell_type": "code",
   "execution_count": 11,
   "metadata": {
    "ExecuteTime": {
     "end_time": "2019-05-13T10:32:17.993487Z",
     "start_time": "2019-05-13T10:32:17.990327Z"
    }
   },
   "outputs": [],
   "source": [
    "train_dataset = Data.TensorDataset(train_X, train_y)\n",
    "test_dataset = Data.TensorDataset(test_X, test_y)\n",
    "\n",
    "train_loader = Data.DataLoader(\n",
    "    dataset = train_dataset,      # torch TensorDataset format\n",
    "    batch_size = 128,      # mini batch size\n",
    "    shuffle = True,               # 要不要打乱数据 (打乱比较好)\n",
    "    num_workers=4,              # 多线程来读数据\n",
    ")\n",
    "\n",
    "test_loader = Data.DataLoader(\n",
    "    dataset = test_dataset,      # torch TensorDataset format\n",
    "    batch_size = 10,      # mini batch size\n",
    "    shuffle = False,\n",
    "    num_workers=4,              # 多线程来读数据\n",
    ")"
   ]
  },
  {
   "cell_type": "markdown",
   "metadata": {},
   "source": [
    "### RNN"
   ]
  },
  {
   "cell_type": "code",
   "execution_count": 12,
   "metadata": {
    "ExecuteTime": {
     "end_time": "2019-05-13T10:32:18.084406Z",
     "start_time": "2019-05-13T10:32:17.994619Z"
    }
   },
   "outputs": [],
   "source": [
    "class RNN(nn.Module):\n",
    "    def __init__(self):\n",
    "        super(RNN, self).__init__()\n",
    "        self.rnn = nn.RNN(input_size=10, hidden_size=512, num_layers=1)\n",
    "        self.out = nn.Linear(in_features=512, out_features=2)\n",
    "        \n",
    "    def forward(self, x):\n",
    "        # x: (batch_size, time_step, input_size)\n",
    "        # h_state: (num_layers, batch_size, hidden_size)\n",
    "        # r_out: (batch_size, time_step, hidden_size)\n",
    "        r_out, h_state = self.rnn(x, None)\n",
    "        outs = self.out(r_out.squeeze(0))\n",
    "        return outs.squeeze(1)"
   ]
  },
  {
   "cell_type": "markdown",
   "metadata": {},
   "source": [
    "### LSTM"
   ]
  },
  {
   "cell_type": "code",
   "execution_count": 13,
   "metadata": {
    "ExecuteTime": {
     "end_time": "2019-05-13T10:32:18.093302Z",
     "start_time": "2019-05-13T10:32:18.087129Z"
    }
   },
   "outputs": [],
   "source": [
    "class LSTM(nn.Module):\n",
    "    def __init__(self):\n",
    "        super(LSTM, self).__init__()\n",
    "        \n",
    "        self.lstm = nn.LSTM(input_size=10, hidden_size=512, num_layers=1)\n",
    "        self.output = nn.Linear(in_features=512, out_features=2)\n",
    "    \n",
    "    def forward(self, x):\n",
    "        r_out, (r_h, r_c) = self.lstm(x, None)\n",
    "        out = self.output(r_out[:, -1, :])\n",
    "        return out"
   ]
  },
  {
   "cell_type": "code",
   "execution_count": 14,
   "metadata": {
    "ExecuteTime": {
     "end_time": "2019-05-13T10:32:18.120225Z",
     "start_time": "2019-05-13T10:32:18.096060Z"
    }
   },
   "outputs": [],
   "source": [
    "class module():\n",
    "    def __init__(self, net, train_loader, test_loader, EPOCH=20, LR=0.0001):\n",
    "        self.net = net\n",
    "        self.optimizer = torch.optim.Adam(net.parameters(), lr = LR)\n",
    "        self.criterion = nn.CrossEntropyLoss()\n",
    "        self.train_loader = train_loader\n",
    "        self.test_loader = test_loader\n",
    "        self.EPOCH_ = EPOCH\n",
    "        self.LR_ = LR\n",
    "\n",
    "        self.net = self.net.to(device)\n",
    "        if device == 'cuda':\n",
    "            # self.net = torch.nn.DataParallel(self.net)\n",
    "            torch.backends.cudnn.benchmark = True\n",
    "\n",
    "    def start(self):\n",
    "\n",
    "        history_loss = []\n",
    "        history_train_acc = []\n",
    "        history_test_acc = []\n",
    "        for epoch in range(self.EPOCH_):\n",
    "            print('Epoch:', epoch)\n",
    "            train_loss, train_acc = self.train()\n",
    "            test_loss, test_acc = self.test()\n",
    "\n",
    "            history_loss.append(train_loss)\n",
    "            history_train_acc.append(train_acc)\n",
    "            history_test_acc.append(test_acc)\n",
    "        return history_loss, history_train_acc, history_test_acc\n",
    "\n",
    "    def train(self):\n",
    "        self.net.train()\n",
    "        train_loss = 0\n",
    "        correct = 0\n",
    "        total = 0\n",
    "        for step, (batch_X, batch_y) in enumerate(self.train_loader):\n",
    "            batch_X, batch_y = batch_X.to(device), batch_y.to(device)\n",
    "            self.optimizer.zero_grad()\n",
    "            outputs = self.net(batch_X)\n",
    "            \n",
    "            loss = self.criterion(outputs, batch_y)\n",
    "            loss.backward()\n",
    "            self.optimizer.step()\n",
    "\n",
    "            train_loss += loss.item()\n",
    "            _, predicted = outputs.max(1)\n",
    "            total += batch_y.size(0)\n",
    "            correct += predicted.eq(batch_y).sum().item()        \n",
    "\n",
    "        print('【Training】Loss: %.3f | Acc: %.3f%% (%d/%d)' % ( train_loss, 100.*(correct/total), correct, total ))\n",
    "        return train_loss, (correct/total)\n",
    "\n",
    "    def test(self):\n",
    "        self.net.eval()\n",
    "\n",
    "        test_loss = 0\n",
    "        correct = 0\n",
    "        total = 0\n",
    "        with torch.no_grad(): \n",
    "            for step, (batch_X, batch_y) in enumerate(self.test_loader):\n",
    "                batch_X, batch_y = batch_X.to(device), batch_y.to(device)\n",
    "                outputs = self.net(batch_X)\n",
    "                loss = self.criterion(outputs, batch_y)\n",
    "\n",
    "                test_loss += loss.item()\n",
    "                _, predicted = outputs.max(1)\n",
    "                total += batch_y.size(0)\n",
    "                correct += predicted.eq(batch_y).sum().item()   \n",
    "\n",
    "        print('【Testing】Loss: %.3f | Acc: %.3f%% (%d/%d)' % ( test_loss, 100.*(correct/total), correct, total ))\n",
    "        return test_loss, (correct/total)"
   ]
  },
  {
   "cell_type": "code",
   "execution_count": null,
   "metadata": {},
   "outputs": [],
   "source": []
  },
  {
   "cell_type": "code",
   "execution_count": null,
   "metadata": {},
   "outputs": [],
   "source": []
  },
  {
   "cell_type": "code",
   "execution_count": null,
   "metadata": {},
   "outputs": [],
   "source": []
  },
  {
   "cell_type": "markdown",
   "metadata": {},
   "source": [
    "#### RNN結果"
   ]
  },
  {
   "cell_type": "code",
   "execution_count": 15,
   "metadata": {
    "ExecuteTime": {
     "end_time": "2019-05-13T10:33:04.200119Z",
     "start_time": "2019-05-13T10:32:18.122775Z"
    }
   },
   "outputs": [
    {
     "name": "stdout",
     "output_type": "stream",
     "text": [
      "Epoch: 0\n",
      "【Training】Loss: 7.087 | Acc: 55.142% (681/1235)\n",
      "【Testing】Loss: 6.727 | Acc: 62.000% (62/100)\n",
      "Epoch: 1\n",
      "【Training】Loss: 6.321 | Acc: 65.020% (803/1235)\n",
      "【Testing】Loss: 6.390 | Acc: 59.000% (59/100)\n",
      "Epoch: 2\n",
      "【Training】Loss: 5.905 | Acc: 71.255% (880/1235)\n",
      "【Testing】Loss: 6.352 | Acc: 64.000% (64/100)\n",
      "Epoch: 3\n",
      "【Training】Loss: 5.762 | Acc: 70.526% (871/1235)\n",
      "【Testing】Loss: 6.246 | Acc: 62.000% (62/100)\n",
      "Epoch: 4\n",
      "【Training】Loss: 5.554 | Acc: 77.571% (958/1235)\n",
      "【Testing】Loss: 6.190 | Acc: 65.000% (65/100)\n",
      "Epoch: 5\n",
      "【Training】Loss: 5.362 | Acc: 76.842% (949/1235)\n",
      "【Testing】Loss: 6.010 | Acc: 66.000% (66/100)\n",
      "Epoch: 6\n",
      "【Training】Loss: 5.187 | Acc: 80.081% (989/1235)\n",
      "【Testing】Loss: 6.040 | Acc: 66.000% (66/100)\n",
      "Epoch: 7\n",
      "【Training】Loss: 5.022 | Acc: 82.753% (1022/1235)\n",
      "【Testing】Loss: 6.023 | Acc: 65.000% (65/100)\n",
      "Epoch: 8\n",
      "【Training】Loss: 4.912 | Acc: 83.563% (1032/1235)\n",
      "【Testing】Loss: 6.033 | Acc: 66.000% (66/100)\n",
      "Epoch: 9\n",
      "【Training】Loss: 4.761 | Acc: 83.887% (1036/1235)\n",
      "【Testing】Loss: 6.174 | Acc: 61.000% (61/100)\n",
      "Epoch: 10\n",
      "【Training】Loss: 4.712 | Acc: 84.372% (1042/1235)\n",
      "【Testing】Loss: 6.107 | Acc: 60.000% (60/100)\n",
      "Epoch: 11\n",
      "【Training】Loss: 4.517 | Acc: 86.640% (1070/1235)\n",
      "【Testing】Loss: 6.116 | Acc: 62.000% (62/100)\n",
      "Epoch: 12\n",
      "【Training】Loss: 4.533 | Acc: 85.506% (1056/1235)\n",
      "【Testing】Loss: 6.000 | Acc: 65.000% (65/100)\n",
      "Epoch: 13\n",
      "【Training】Loss: 4.339 | Acc: 86.802% (1072/1235)\n",
      "【Testing】Loss: 5.776 | Acc: 67.000% (67/100)\n",
      "Epoch: 14\n",
      "【Training】Loss: 4.241 | Acc: 86.883% (1073/1235)\n",
      "【Testing】Loss: 6.036 | Acc: 66.000% (66/100)\n",
      "Epoch: 15\n",
      "【Training】Loss: 4.105 | Acc: 88.745% (1096/1235)\n",
      "【Testing】Loss: 5.969 | Acc: 66.000% (66/100)\n",
      "Epoch: 16\n",
      "【Training】Loss: 4.050 | Acc: 87.773% (1084/1235)\n",
      "【Testing】Loss: 5.927 | Acc: 67.000% (67/100)\n",
      "Epoch: 17\n",
      "【Training】Loss: 3.984 | Acc: 89.555% (1106/1235)\n",
      "【Testing】Loss: 6.090 | Acc: 65.000% (65/100)\n",
      "Epoch: 18\n",
      "【Training】Loss: 3.901 | Acc: 88.340% (1091/1235)\n",
      "【Testing】Loss: 6.072 | Acc: 66.000% (66/100)\n",
      "Epoch: 19\n",
      "【Training】Loss: 3.737 | Acc: 89.960% (1111/1235)\n",
      "【Testing】Loss: 5.980 | Acc: 67.000% (67/100)\n",
      "Epoch: 20\n",
      "【Training】Loss: 3.616 | Acc: 90.283% (1115/1235)\n",
      "【Testing】Loss: 6.234 | Acc: 64.000% (64/100)\n",
      "Epoch: 21\n",
      "【Training】Loss: 3.564 | Acc: 90.202% (1114/1235)\n",
      "【Testing】Loss: 6.024 | Acc: 66.000% (66/100)\n",
      "Epoch: 22\n",
      "【Training】Loss: 3.526 | Acc: 90.364% (1116/1235)\n",
      "【Testing】Loss: 5.955 | Acc: 67.000% (67/100)\n",
      "Epoch: 23\n",
      "【Training】Loss: 3.449 | Acc: 90.850% (1122/1235)\n",
      "【Testing】Loss: 6.040 | Acc: 65.000% (65/100)\n",
      "Epoch: 24\n",
      "【Training】Loss: 3.336 | Acc: 91.336% (1128/1235)\n",
      "【Testing】Loss: 5.486 | Acc: 69.000% (69/100)\n",
      "Epoch: 25\n",
      "【Training】Loss: 3.305 | Acc: 90.283% (1115/1235)\n",
      "【Testing】Loss: 5.841 | Acc: 67.000% (67/100)\n",
      "Epoch: 26\n",
      "【Training】Loss: 3.210 | Acc: 91.417% (1129/1235)\n",
      "【Testing】Loss: 5.790 | Acc: 69.000% (69/100)\n",
      "Epoch: 27\n",
      "【Training】Loss: 3.160 | Acc: 92.065% (1137/1235)\n",
      "【Testing】Loss: 5.754 | Acc: 70.000% (70/100)\n",
      "Epoch: 28\n",
      "【Training】Loss: 3.084 | Acc: 92.308% (1140/1235)\n",
      "【Testing】Loss: 6.050 | Acc: 69.000% (69/100)\n",
      "Epoch: 29\n",
      "【Training】Loss: 3.009 | Acc: 93.198% (1151/1235)\n",
      "【Testing】Loss: 6.047 | Acc: 68.000% (68/100)\n",
      "Epoch: 30\n",
      "【Training】Loss: 2.940 | Acc: 93.036% (1149/1235)\n",
      "【Testing】Loss: 6.346 | Acc: 66.000% (66/100)\n",
      "Epoch: 31\n",
      "【Training】Loss: 2.905 | Acc: 92.955% (1148/1235)\n",
      "【Testing】Loss: 5.900 | Acc: 71.000% (71/100)\n",
      "Epoch: 32\n",
      "【Training】Loss: 2.826 | Acc: 94.008% (1161/1235)\n",
      "【Testing】Loss: 6.109 | Acc: 69.000% (69/100)\n",
      "Epoch: 33\n",
      "【Training】Loss: 2.740 | Acc: 93.684% (1157/1235)\n",
      "【Testing】Loss: 6.285 | Acc: 68.000% (68/100)\n",
      "Epoch: 34\n",
      "【Training】Loss: 2.599 | Acc: 94.737% (1170/1235)\n",
      "【Testing】Loss: 6.208 | Acc: 67.000% (67/100)\n",
      "Epoch: 35\n",
      "【Training】Loss: 2.633 | Acc: 93.765% (1158/1235)\n",
      "【Testing】Loss: 6.399 | Acc: 63.000% (63/100)\n",
      "Epoch: 36\n",
      "【Training】Loss: 2.629 | Acc: 94.008% (1161/1235)\n",
      "【Testing】Loss: 6.544 | Acc: 63.000% (63/100)\n",
      "Epoch: 37\n",
      "【Training】Loss: 2.502 | Acc: 95.385% (1178/1235)\n",
      "【Testing】Loss: 6.215 | Acc: 67.000% (67/100)\n",
      "Epoch: 38\n",
      "【Training】Loss: 2.474 | Acc: 95.385% (1178/1235)\n",
      "【Testing】Loss: 6.342 | Acc: 63.000% (63/100)\n",
      "Epoch: 39\n",
      "【Training】Loss: 2.559 | Acc: 94.980% (1173/1235)\n",
      "【Testing】Loss: 6.546 | Acc: 64.000% (64/100)\n",
      "Epoch: 40\n",
      "【Training】Loss: 2.394 | Acc: 94.575% (1168/1235)\n",
      "【Testing】Loss: 6.947 | Acc: 62.000% (62/100)\n",
      "Epoch: 41\n",
      "【Training】Loss: 2.342 | Acc: 95.547% (1180/1235)\n",
      "【Testing】Loss: 6.696 | Acc: 67.000% (67/100)\n",
      "Epoch: 42\n",
      "【Training】Loss: 2.359 | Acc: 94.899% (1172/1235)\n",
      "【Testing】Loss: 6.987 | Acc: 66.000% (66/100)\n",
      "Epoch: 43\n",
      "【Training】Loss: 2.261 | Acc: 95.951% (1185/1235)\n",
      "【Testing】Loss: 6.860 | Acc: 69.000% (69/100)\n",
      "Epoch: 44\n",
      "【Training】Loss: 2.324 | Acc: 94.737% (1170/1235)\n",
      "【Testing】Loss: 6.733 | Acc: 69.000% (69/100)\n",
      "Epoch: 45\n",
      "【Training】Loss: 2.279 | Acc: 94.899% (1172/1235)\n",
      "【Testing】Loss: 7.176 | Acc: 65.000% (65/100)\n",
      "Epoch: 46\n",
      "【Training】Loss: 2.141 | Acc: 95.951% (1185/1235)\n",
      "【Testing】Loss: 7.615 | Acc: 63.000% (63/100)\n",
      "Epoch: 47\n",
      "【Training】Loss: 2.147 | Acc: 95.385% (1178/1235)\n",
      "【Testing】Loss: 7.772 | Acc: 62.000% (62/100)\n",
      "Epoch: 48\n",
      "【Training】Loss: 2.075 | Acc: 95.628% (1181/1235)\n",
      "【Testing】Loss: 7.605 | Acc: 65.000% (65/100)\n",
      "Epoch: 49\n",
      "【Training】Loss: 2.058 | Acc: 95.709% (1182/1235)\n",
      "【Testing】Loss: 7.339 | Acc: 66.000% (66/100)\n",
      "Epoch: 50\n",
      "【Training】Loss: 2.032 | Acc: 95.709% (1182/1235)\n",
      "【Testing】Loss: 7.389 | Acc: 64.000% (64/100)\n",
      "Epoch: 51\n",
      "【Training】Loss: 2.017 | Acc: 96.356% (1190/1235)\n",
      "【Testing】Loss: 7.641 | Acc: 63.000% (63/100)\n",
      "Epoch: 52\n",
      "【Training】Loss: 1.961 | Acc: 96.194% (1188/1235)\n",
      "【Testing】Loss: 7.717 | Acc: 62.000% (62/100)\n",
      "Epoch: 53\n",
      "【Training】Loss: 2.017 | Acc: 96.275% (1189/1235)\n",
      "【Testing】Loss: 7.056 | Acc: 64.000% (64/100)\n",
      "Epoch: 54\n",
      "【Training】Loss: 1.974 | Acc: 95.547% (1180/1235)\n",
      "【Testing】Loss: 6.789 | Acc: 66.000% (66/100)\n",
      "Epoch: 55\n",
      "【Training】Loss: 1.867 | Acc: 96.194% (1188/1235)\n",
      "【Testing】Loss: 6.796 | Acc: 66.000% (66/100)\n",
      "Epoch: 56\n",
      "【Training】Loss: 1.822 | Acc: 96.437% (1191/1235)\n",
      "【Testing】Loss: 7.119 | Acc: 66.000% (66/100)\n",
      "Epoch: 57\n",
      "【Training】Loss: 1.809 | Acc: 96.518% (1192/1235)\n",
      "【Testing】Loss: 6.918 | Acc: 69.000% (69/100)\n",
      "Epoch: 58\n",
      "【Training】Loss: 1.801 | Acc: 97.247% (1201/1235)\n",
      "【Testing】Loss: 6.967 | Acc: 66.000% (66/100)\n",
      "Epoch: 59\n",
      "【Training】Loss: 1.751 | Acc: 96.680% (1194/1235)\n",
      "【Testing】Loss: 6.917 | Acc: 71.000% (71/100)\n",
      "Epoch: 60\n",
      "【Training】Loss: 1.819 | Acc: 95.951% (1185/1235)\n",
      "【Testing】Loss: 7.124 | Acc: 68.000% (68/100)\n",
      "Epoch: 61\n",
      "【Training】Loss: 1.653 | Acc: 97.409% (1203/1235)\n",
      "【Testing】Loss: 7.362 | Acc: 66.000% (66/100)\n",
      "Epoch: 62\n",
      "【Training】Loss: 1.793 | Acc: 95.870% (1184/1235)\n",
      "【Testing】Loss: 7.534 | Acc: 66.000% (66/100)\n",
      "Epoch: 63\n",
      "【Training】Loss: 1.659 | Acc: 97.166% (1200/1235)\n",
      "【Testing】Loss: 7.871 | Acc: 63.000% (63/100)\n",
      "Epoch: 64\n",
      "【Training】Loss: 1.634 | Acc: 96.680% (1194/1235)\n",
      "【Testing】Loss: 7.140 | Acc: 70.000% (70/100)\n",
      "Epoch: 65\n",
      "【Training】Loss: 1.628 | Acc: 97.328% (1202/1235)\n",
      "【Testing】Loss: 7.543 | Acc: 66.000% (66/100)\n",
      "Epoch: 66\n",
      "【Training】Loss: 1.583 | Acc: 97.166% (1200/1235)\n",
      "【Testing】Loss: 7.407 | Acc: 64.000% (64/100)\n",
      "Epoch: 67\n",
      "【Training】Loss: 1.565 | Acc: 97.166% (1200/1235)\n",
      "【Testing】Loss: 7.530 | Acc: 63.000% (63/100)\n",
      "Epoch: 68\n",
      "【Training】Loss: 1.537 | Acc: 96.923% (1197/1235)\n",
      "【Testing】Loss: 7.186 | Acc: 69.000% (69/100)\n",
      "Epoch: 69\n",
      "【Training】Loss: 1.528 | Acc: 97.166% (1200/1235)\n",
      "【Testing】Loss: 7.860 | Acc: 64.000% (64/100)\n",
      "Epoch: 70\n",
      "【Training】Loss: 1.480 | Acc: 96.437% (1191/1235)\n",
      "【Testing】Loss: 7.708 | Acc: 66.000% (66/100)\n",
      "Epoch: 71\n",
      "【Training】Loss: 1.528 | Acc: 97.166% (1200/1235)\n",
      "【Testing】Loss: 7.276 | Acc: 70.000% (70/100)\n",
      "Epoch: 72\n",
      "【Training】Loss: 1.550 | Acc: 96.761% (1195/1235)\n",
      "【Testing】Loss: 7.689 | Acc: 65.000% (65/100)\n",
      "Epoch: 73\n",
      "【Training】Loss: 1.410 | Acc: 97.976% (1210/1235)\n",
      "【Testing】Loss: 7.381 | Acc: 66.000% (66/100)\n",
      "Epoch: 74\n",
      "【Training】Loss: 1.444 | Acc: 97.328% (1202/1235)\n",
      "【Testing】Loss: 7.705 | Acc: 63.000% (63/100)\n",
      "Epoch: 75\n",
      "【Training】Loss: 1.375 | Acc: 97.814% (1208/1235)\n",
      "【Testing】Loss: 7.447 | Acc: 67.000% (67/100)\n",
      "Epoch: 76\n",
      "【Training】Loss: 1.409 | Acc: 97.328% (1202/1235)\n",
      "【Testing】Loss: 7.569 | Acc: 67.000% (67/100)\n",
      "Epoch: 77\n",
      "【Training】Loss: 1.367 | Acc: 97.652% (1206/1235)\n",
      "【Testing】Loss: 7.483 | Acc: 69.000% (69/100)\n",
      "Epoch: 78\n",
      "【Training】Loss: 1.359 | Acc: 97.166% (1200/1235)\n",
      "【Testing】Loss: 7.528 | Acc: 70.000% (70/100)\n",
      "Epoch: 79\n"
     ]
    },
    {
     "name": "stdout",
     "output_type": "stream",
     "text": [
      "【Training】Loss: 1.358 | Acc: 97.895% (1209/1235)\n",
      "【Testing】Loss: 7.659 | Acc: 65.000% (65/100)\n",
      "Epoch: 80\n",
      "【Training】Loss: 1.361 | Acc: 98.057% (1211/1235)\n",
      "【Testing】Loss: 7.295 | Acc: 67.000% (67/100)\n",
      "Epoch: 81\n",
      "【Training】Loss: 1.270 | Acc: 98.219% (1213/1235)\n",
      "【Testing】Loss: 7.544 | Acc: 69.000% (69/100)\n",
      "Epoch: 82\n",
      "【Training】Loss: 1.318 | Acc: 97.571% (1205/1235)\n",
      "【Testing】Loss: 7.323 | Acc: 69.000% (69/100)\n",
      "Epoch: 83\n",
      "【Training】Loss: 1.358 | Acc: 97.895% (1209/1235)\n",
      "【Testing】Loss: 7.515 | Acc: 69.000% (69/100)\n",
      "Epoch: 84\n",
      "【Training】Loss: 1.224 | Acc: 97.976% (1210/1235)\n",
      "【Testing】Loss: 6.676 | Acc: 72.000% (72/100)\n",
      "Epoch: 85\n",
      "【Training】Loss: 1.274 | Acc: 97.733% (1207/1235)\n",
      "【Testing】Loss: 6.852 | Acc: 69.000% (69/100)\n",
      "Epoch: 86\n",
      "【Training】Loss: 1.202 | Acc: 98.300% (1214/1235)\n",
      "【Testing】Loss: 6.384 | Acc: 69.000% (69/100)\n",
      "Epoch: 87\n",
      "【Training】Loss: 1.273 | Acc: 97.733% (1207/1235)\n",
      "【Testing】Loss: 7.057 | Acc: 71.000% (71/100)\n",
      "Epoch: 88\n",
      "【Training】Loss: 1.163 | Acc: 97.895% (1209/1235)\n",
      "【Testing】Loss: 6.980 | Acc: 68.000% (68/100)\n",
      "Epoch: 89\n",
      "【Training】Loss: 1.195 | Acc: 97.895% (1209/1235)\n",
      "【Testing】Loss: 7.155 | Acc: 70.000% (70/100)\n",
      "Epoch: 90\n",
      "【Training】Loss: 1.142 | Acc: 98.300% (1214/1235)\n",
      "【Testing】Loss: 6.963 | Acc: 72.000% (72/100)\n",
      "Epoch: 91\n",
      "【Training】Loss: 1.175 | Acc: 97.814% (1208/1235)\n",
      "【Testing】Loss: 6.975 | Acc: 69.000% (69/100)\n",
      "Epoch: 92\n",
      "【Training】Loss: 1.190 | Acc: 97.409% (1203/1235)\n",
      "【Testing】Loss: 7.038 | Acc: 73.000% (73/100)\n",
      "Epoch: 93\n",
      "【Training】Loss: 1.156 | Acc: 97.652% (1206/1235)\n",
      "【Testing】Loss: 7.073 | Acc: 71.000% (71/100)\n",
      "Epoch: 94\n",
      "【Training】Loss: 1.190 | Acc: 97.733% (1207/1235)\n",
      "【Testing】Loss: 7.298 | Acc: 66.000% (66/100)\n",
      "Epoch: 95\n",
      "【Training】Loss: 1.203 | Acc: 98.300% (1214/1235)\n",
      "【Testing】Loss: 6.944 | Acc: 69.000% (69/100)\n",
      "Epoch: 96\n",
      "【Training】Loss: 1.191 | Acc: 97.571% (1205/1235)\n",
      "【Testing】Loss: 7.425 | Acc: 67.000% (67/100)\n",
      "Epoch: 97\n",
      "【Training】Loss: 1.191 | Acc: 97.085% (1199/1235)\n",
      "【Testing】Loss: 6.828 | Acc: 73.000% (73/100)\n",
      "Epoch: 98\n",
      "【Training】Loss: 1.122 | Acc: 97.814% (1208/1235)\n",
      "【Testing】Loss: 6.810 | Acc: 73.000% (73/100)\n",
      "Epoch: 99\n",
      "【Training】Loss: 1.172 | Acc: 97.652% (1206/1235)\n",
      "【Testing】Loss: 7.228 | Acc: 70.000% (70/100)\n"
     ]
    }
   ],
   "source": [
    "rnn_module = module(RNN(), train_loader, test_loader, EPOCH=100, LR=0.0005)\n",
    "history_loss, history_train_acc, history_test_acc = rnn_module.start()"
   ]
  },
  {
   "cell_type": "code",
   "execution_count": 16,
   "metadata": {
    "ExecuteTime": {
     "end_time": "2019-05-13T10:33:04.207287Z",
     "start_time": "2019-05-13T10:33:04.203472Z"
    }
   },
   "outputs": [
    {
     "name": "stdout",
     "output_type": "stream",
     "text": [
      "total number of parameters: 269314\n"
     ]
    }
   ],
   "source": [
    "print('total number of parameters:', sum(p.numel() for p in rnn_module.net.parameters()))"
   ]
  },
  {
   "cell_type": "code",
   "execution_count": 17,
   "metadata": {
    "ExecuteTime": {
     "end_time": "2019-05-13T10:33:04.485925Z",
     "start_time": "2019-05-13T10:33:04.209121Z"
    }
   },
   "outputs": [
    {
     "data": {
      "text/plain": [
       "<matplotlib.legend.Legend at 0x7f44241010f0>"
      ]
     },
     "execution_count": 17,
     "metadata": {},
     "output_type": "execute_result"
    },
    {
     "data": {
      "image/png": "[encoded data removed]",
      "text/plain": [
       "<Figure size 864x288 with 2 Axes>"
      ]
     },
     "metadata": {},
     "output_type": "display_data"
    }
   ],
   "source": [
    "fig, ax = plt.subplots(1, 2)\n",
    "fig.set_size_inches(12, 4)\n",
    "ax[0].set_title('Learning Cruve', color='r')\n",
    "ax[0].set_xlabel('Number of Epochs')\n",
    "ax[0].set_ylabel('Cross Entropy')\n",
    "ax[0].plot(history_loss)\n",
    "\n",
    "ax[1].set_title('Accuracy', color='r')\n",
    "ax[1].set_xlabel('Number of Epochs')\n",
    "ax[1].set_ylabel('Accuracy')\n",
    "ax[1].plot(history_train_acc, label = 'train')\n",
    "ax[1].plot(history_test_acc, label = 'test')\n",
    "plt.legend(loc=1)"
   ]
  },
  {
   "cell_type": "markdown",
   "metadata": {},
   "source": [
    "#### LSTM結果"
   ]
  },
  {
   "cell_type": "code",
   "execution_count": 18,
   "metadata": {
    "ExecuteTime": {
     "end_time": "2019-05-13T10:33:49.859845Z",
     "start_time": "2019-05-13T10:33:04.487300Z"
    },
    "scrolled": true
   },
   "outputs": [
    {
     "name": "stdout",
     "output_type": "stream",
     "text": [
      "Epoch: 0\n",
      "【Training】Loss: 6.953 | Acc: 53.522% (661/1235)\n",
      "【Testing】Loss: 6.890 | Acc: 51.000% (51/100)\n",
      "Epoch: 1\n",
      "【Training】Loss: 6.462 | Acc: 63.239% (781/1235)\n",
      "【Testing】Loss: 6.794 | Acc: 56.000% (56/100)\n",
      "Epoch: 2\n",
      "【Training】Loss: 6.296 | Acc: 67.449% (833/1235)\n",
      "【Testing】Loss: 6.772 | Acc: 56.000% (56/100)\n",
      "Epoch: 3\n",
      "【Training】Loss: 6.004 | Acc: 73.360% (906/1235)\n",
      "【Testing】Loss: 6.621 | Acc: 62.000% (62/100)\n",
      "Epoch: 4\n",
      "【Training】Loss: 5.860 | Acc: 73.765% (911/1235)\n",
      "【Testing】Loss: 6.622 | Acc: 63.000% (63/100)\n",
      "Epoch: 5\n",
      "【Training】Loss: 5.735 | Acc: 75.142% (928/1235)\n",
      "【Testing】Loss: 6.548 | Acc: 62.000% (62/100)\n",
      "Epoch: 6\n",
      "【Training】Loss: 5.510 | Acc: 77.490% (957/1235)\n",
      "【Testing】Loss: 6.485 | Acc: 60.000% (60/100)\n",
      "Epoch: 7\n",
      "【Training】Loss: 5.376 | Acc: 78.785% (973/1235)\n",
      "【Testing】Loss: 6.434 | Acc: 62.000% (62/100)\n",
      "Epoch: 8\n",
      "【Training】Loss: 5.242 | Acc: 79.595% (983/1235)\n",
      "【Testing】Loss: 6.378 | Acc: 62.000% (62/100)\n",
      "Epoch: 9\n",
      "【Training】Loss: 5.107 | Acc: 81.457% (1006/1235)\n",
      "【Testing】Loss: 6.194 | Acc: 64.000% (64/100)\n",
      "Epoch: 10\n",
      "【Training】Loss: 4.940 | Acc: 81.619% (1008/1235)\n",
      "【Testing】Loss: 6.087 | Acc: 68.000% (68/100)\n",
      "Epoch: 11\n",
      "【Training】Loss: 4.835 | Acc: 83.077% (1026/1235)\n",
      "【Testing】Loss: 6.160 | Acc: 65.000% (65/100)\n",
      "Epoch: 12\n",
      "【Training】Loss: 4.625 | Acc: 84.696% (1046/1235)\n",
      "【Testing】Loss: 6.125 | Acc: 62.000% (62/100)\n",
      "Epoch: 13\n",
      "【Training】Loss: 4.665 | Acc: 82.024% (1013/1235)\n",
      "【Testing】Loss: 6.204 | Acc: 60.000% (60/100)\n",
      "Epoch: 14\n",
      "【Training】Loss: 4.542 | Acc: 85.911% (1061/1235)\n",
      "【Testing】Loss: 6.244 | Acc: 62.000% (62/100)\n",
      "Epoch: 15\n",
      "【Training】Loss: 4.371 | Acc: 84.858% (1048/1235)\n",
      "【Testing】Loss: 6.127 | Acc: 62.000% (62/100)\n",
      "Epoch: 16\n",
      "【Training】Loss: 4.225 | Acc: 85.830% (1060/1235)\n",
      "【Testing】Loss: 6.224 | Acc: 62.000% (62/100)\n",
      "Epoch: 17\n",
      "【Training】Loss: 4.204 | Acc: 86.478% (1068/1235)\n",
      "【Testing】Loss: 6.110 | Acc: 63.000% (63/100)\n",
      "Epoch: 18\n",
      "【Training】Loss: 4.046 | Acc: 86.397% (1067/1235)\n",
      "【Testing】Loss: 6.081 | Acc: 65.000% (65/100)\n",
      "Epoch: 19\n",
      "【Training】Loss: 3.937 | Acc: 87.692% (1083/1235)\n",
      "【Testing】Loss: 6.106 | Acc: 64.000% (64/100)\n",
      "Epoch: 20\n",
      "【Training】Loss: 3.847 | Acc: 88.421% (1092/1235)\n",
      "【Testing】Loss: 6.229 | Acc: 67.000% (67/100)\n",
      "Epoch: 21\n",
      "【Training】Loss: 3.665 | Acc: 89.879% (1110/1235)\n",
      "【Testing】Loss: 6.148 | Acc: 67.000% (67/100)\n",
      "Epoch: 22\n",
      "【Training】Loss: 3.580 | Acc: 90.202% (1114/1235)\n",
      "【Testing】Loss: 6.133 | Acc: 67.000% (67/100)\n",
      "Epoch: 23\n",
      "【Training】Loss: 3.569 | Acc: 89.231% (1102/1235)\n",
      "【Testing】Loss: 5.957 | Acc: 69.000% (69/100)\n",
      "Epoch: 24\n",
      "【Training】Loss: 3.475 | Acc: 89.474% (1105/1235)\n",
      "【Testing】Loss: 5.881 | Acc: 66.000% (66/100)\n",
      "Epoch: 25\n",
      "【Training】Loss: 3.295 | Acc: 90.445% (1117/1235)\n",
      "【Testing】Loss: 5.911 | Acc: 70.000% (70/100)\n",
      "Epoch: 26\n",
      "【Training】Loss: 3.257 | Acc: 90.931% (1123/1235)\n",
      "【Testing】Loss: 6.027 | Acc: 72.000% (72/100)\n",
      "Epoch: 27\n",
      "【Training】Loss: 3.145 | Acc: 91.660% (1132/1235)\n",
      "【Testing】Loss: 6.017 | Acc: 70.000% (70/100)\n",
      "Epoch: 28\n",
      "【Training】Loss: 3.156 | Acc: 90.688% (1120/1235)\n",
      "【Testing】Loss: 5.990 | Acc: 70.000% (70/100)\n",
      "Epoch: 29\n",
      "【Training】Loss: 3.039 | Acc: 92.389% (1141/1235)\n",
      "【Testing】Loss: 5.974 | Acc: 67.000% (67/100)\n",
      "Epoch: 30\n",
      "【Training】Loss: 2.981 | Acc: 91.255% (1127/1235)\n",
      "【Testing】Loss: 6.078 | Acc: 69.000% (69/100)\n",
      "Epoch: 31\n",
      "【Training】Loss: 2.896 | Acc: 92.308% (1140/1235)\n",
      "【Testing】Loss: 5.961 | Acc: 72.000% (72/100)\n",
      "Epoch: 32\n",
      "【Training】Loss: 2.841 | Acc: 92.227% (1139/1235)\n",
      "【Testing】Loss: 5.952 | Acc: 70.000% (70/100)\n",
      "Epoch: 33\n",
      "【Training】Loss: 2.740 | Acc: 92.551% (1143/1235)\n",
      "【Testing】Loss: 5.984 | Acc: 67.000% (67/100)\n",
      "Epoch: 34\n",
      "【Training】Loss: 2.650 | Acc: 93.522% (1155/1235)\n",
      "【Testing】Loss: 5.895 | Acc: 70.000% (70/100)\n",
      "Epoch: 35\n",
      "【Training】Loss: 2.615 | Acc: 92.955% (1148/1235)\n",
      "【Testing】Loss: 6.027 | Acc: 70.000% (70/100)\n",
      "Epoch: 36\n",
      "【Training】Loss: 2.532 | Acc: 94.170% (1163/1235)\n",
      "【Testing】Loss: 5.970 | Acc: 69.000% (69/100)\n",
      "Epoch: 37\n",
      "【Training】Loss: 2.514 | Acc: 93.522% (1155/1235)\n",
      "【Testing】Loss: 5.989 | Acc: 69.000% (69/100)\n",
      "Epoch: 38\n",
      "【Training】Loss: 2.424 | Acc: 93.846% (1159/1235)\n",
      "【Testing】Loss: 5.891 | Acc: 69.000% (69/100)\n",
      "Epoch: 39\n",
      "【Training】Loss: 2.412 | Acc: 93.522% (1155/1235)\n",
      "【Testing】Loss: 5.992 | Acc: 71.000% (71/100)\n",
      "Epoch: 40\n",
      "【Training】Loss: 2.346 | Acc: 95.061% (1174/1235)\n",
      "【Testing】Loss: 6.064 | Acc: 70.000% (70/100)\n",
      "Epoch: 41\n",
      "【Training】Loss: 2.291 | Acc: 94.089% (1162/1235)\n",
      "【Testing】Loss: 6.343 | Acc: 69.000% (69/100)\n",
      "Epoch: 42\n",
      "【Training】Loss: 2.212 | Acc: 95.304% (1177/1235)\n",
      "【Testing】Loss: 6.219 | Acc: 72.000% (72/100)\n",
      "Epoch: 43\n",
      "【Training】Loss: 2.211 | Acc: 94.494% (1167/1235)\n",
      "【Testing】Loss: 5.953 | Acc: 71.000% (71/100)\n",
      "Epoch: 44\n",
      "【Training】Loss: 2.113 | Acc: 95.385% (1178/1235)\n",
      "【Testing】Loss: 6.223 | Acc: 70.000% (70/100)\n",
      "Epoch: 45\n",
      "【Training】Loss: 2.119 | Acc: 95.304% (1177/1235)\n",
      "【Testing】Loss: 6.141 | Acc: 70.000% (70/100)\n",
      "Epoch: 46\n",
      "【Training】Loss: 2.073 | Acc: 95.304% (1177/1235)\n",
      "【Testing】Loss: 5.968 | Acc: 70.000% (70/100)\n",
      "Epoch: 47\n",
      "【Training】Loss: 2.035 | Acc: 95.385% (1178/1235)\n",
      "【Testing】Loss: 6.054 | Acc: 73.000% (73/100)\n",
      "Epoch: 48\n",
      "【Training】Loss: 2.091 | Acc: 94.494% (1167/1235)\n",
      "【Testing】Loss: 6.144 | Acc: 72.000% (72/100)\n",
      "Epoch: 49\n",
      "【Training】Loss: 2.039 | Acc: 95.466% (1179/1235)\n",
      "【Testing】Loss: 6.178 | Acc: 69.000% (69/100)\n",
      "Epoch: 50\n",
      "【Training】Loss: 1.948 | Acc: 94.737% (1170/1235)\n",
      "【Testing】Loss: 6.243 | Acc: 69.000% (69/100)\n",
      "Epoch: 51\n",
      "【Training】Loss: 1.899 | Acc: 95.951% (1185/1235)\n",
      "【Testing】Loss: 6.074 | Acc: 69.000% (69/100)\n",
      "Epoch: 52\n",
      "【Training】Loss: 1.990 | Acc: 95.547% (1180/1235)\n",
      "【Testing】Loss: 6.030 | Acc: 73.000% (73/100)\n",
      "Epoch: 53\n",
      "【Training】Loss: 1.852 | Acc: 96.275% (1189/1235)\n",
      "【Testing】Loss: 6.013 | Acc: 74.000% (74/100)\n",
      "Epoch: 54\n",
      "【Training】Loss: 1.795 | Acc: 95.870% (1184/1235)\n",
      "【Testing】Loss: 6.268 | Acc: 71.000% (71/100)\n",
      "Epoch: 55\n",
      "【Training】Loss: 1.722 | Acc: 96.761% (1195/1235)\n",
      "【Testing】Loss: 6.202 | Acc: 73.000% (73/100)\n",
      "Epoch: 56\n",
      "【Training】Loss: 1.789 | Acc: 95.385% (1178/1235)\n",
      "【Testing】Loss: 6.376 | Acc: 74.000% (74/100)\n",
      "Epoch: 57\n",
      "【Training】Loss: 1.659 | Acc: 96.680% (1194/1235)\n",
      "【Testing】Loss: 6.314 | Acc: 74.000% (74/100)\n",
      "Epoch: 58\n",
      "【Training】Loss: 1.653 | Acc: 95.709% (1182/1235)\n",
      "【Testing】Loss: 6.263 | Acc: 72.000% (72/100)\n",
      "Epoch: 59\n",
      "【Training】Loss: 1.633 | Acc: 96.356% (1190/1235)\n",
      "【Testing】Loss: 6.353 | Acc: 74.000% (74/100)\n",
      "Epoch: 60\n",
      "【Training】Loss: 1.598 | Acc: 96.842% (1196/1235)\n",
      "【Testing】Loss: 6.462 | Acc: 73.000% (73/100)\n",
      "Epoch: 61\n",
      "【Training】Loss: 1.492 | Acc: 97.328% (1202/1235)\n",
      "【Testing】Loss: 6.090 | Acc: 71.000% (71/100)\n",
      "Epoch: 62\n",
      "【Training】Loss: 1.521 | Acc: 96.599% (1193/1235)\n",
      "【Testing】Loss: 6.310 | Acc: 72.000% (72/100)\n",
      "Epoch: 63\n",
      "【Training】Loss: 1.444 | Acc: 96.842% (1196/1235)\n",
      "【Testing】Loss: 6.492 | Acc: 74.000% (74/100)\n",
      "Epoch: 64\n",
      "【Training】Loss: 1.454 | Acc: 97.004% (1198/1235)\n",
      "【Testing】Loss: 6.365 | Acc: 72.000% (72/100)\n",
      "Epoch: 65\n",
      "【Training】Loss: 1.524 | Acc: 96.437% (1191/1235)\n",
      "【Testing】Loss: 6.407 | Acc: 73.000% (73/100)\n",
      "Epoch: 66\n",
      "【Training】Loss: 1.451 | Acc: 96.842% (1196/1235)\n",
      "【Testing】Loss: 6.388 | Acc: 70.000% (70/100)\n",
      "Epoch: 67\n",
      "【Training】Loss: 1.418 | Acc: 96.923% (1197/1235)\n",
      "【Testing】Loss: 6.476 | Acc: 70.000% (70/100)\n",
      "Epoch: 68\n",
      "【Training】Loss: 1.384 | Acc: 97.166% (1200/1235)\n",
      "【Testing】Loss: 6.474 | Acc: 69.000% (69/100)\n",
      "Epoch: 69\n",
      "【Training】Loss: 1.421 | Acc: 96.356% (1190/1235)\n",
      "【Testing】Loss: 6.168 | Acc: 72.000% (72/100)\n",
      "Epoch: 70\n",
      "【Training】Loss: 1.438 | Acc: 96.923% (1197/1235)\n",
      "【Testing】Loss: 6.228 | Acc: 71.000% (71/100)\n",
      "Epoch: 71\n",
      "【Training】Loss: 1.416 | Acc: 97.166% (1200/1235)\n",
      "【Testing】Loss: 6.115 | Acc: 72.000% (72/100)\n",
      "Epoch: 72\n",
      "【Training】Loss: 1.289 | Acc: 97.409% (1203/1235)\n",
      "【Testing】Loss: 6.247 | Acc: 72.000% (72/100)\n",
      "Epoch: 73\n",
      "【Training】Loss: 1.315 | Acc: 97.652% (1206/1235)\n",
      "【Testing】Loss: 6.267 | Acc: 76.000% (76/100)\n",
      "Epoch: 74\n",
      "【Training】Loss: 1.262 | Acc: 97.814% (1208/1235)\n",
      "【Testing】Loss: 6.478 | Acc: 74.000% (74/100)\n",
      "Epoch: 75\n",
      "【Training】Loss: 1.249 | Acc: 97.328% (1202/1235)\n",
      "【Testing】Loss: 6.423 | Acc: 72.000% (72/100)\n",
      "Epoch: 76\n",
      "【Training】Loss: 1.281 | Acc: 97.652% (1206/1235)\n",
      "【Testing】Loss: 6.300 | Acc: 70.000% (70/100)\n",
      "Epoch: 77\n",
      "【Training】Loss: 1.222 | Acc: 97.247% (1201/1235)\n",
      "【Testing】Loss: 6.437 | Acc: 70.000% (70/100)\n",
      "Epoch: 78\n",
      "【Training】Loss: 1.242 | Acc: 97.571% (1205/1235)\n",
      "【Testing】Loss: 6.479 | Acc: 70.000% (70/100)\n",
      "Epoch: 79\n"
     ]
    },
    {
     "name": "stdout",
     "output_type": "stream",
     "text": [
      "【Training】Loss: 1.231 | Acc: 97.409% (1203/1235)\n",
      "【Testing】Loss: 6.673 | Acc: 71.000% (71/100)\n",
      "Epoch: 80\n",
      "【Training】Loss: 1.237 | Acc: 97.490% (1204/1235)\n",
      "【Testing】Loss: 6.362 | Acc: 72.000% (72/100)\n",
      "Epoch: 81\n",
      "【Training】Loss: 1.250 | Acc: 96.923% (1197/1235)\n",
      "【Testing】Loss: 6.493 | Acc: 72.000% (72/100)\n",
      "Epoch: 82\n",
      "【Training】Loss: 1.150 | Acc: 97.733% (1207/1235)\n",
      "【Testing】Loss: 6.238 | Acc: 73.000% (73/100)\n",
      "Epoch: 83\n",
      "【Training】Loss: 1.184 | Acc: 97.247% (1201/1235)\n",
      "【Testing】Loss: 6.261 | Acc: 73.000% (73/100)\n",
      "Epoch: 84\n",
      "【Training】Loss: 1.175 | Acc: 97.895% (1209/1235)\n",
      "【Testing】Loss: 6.301 | Acc: 73.000% (73/100)\n",
      "Epoch: 85\n",
      "【Training】Loss: 1.132 | Acc: 97.733% (1207/1235)\n",
      "【Testing】Loss: 6.249 | Acc: 75.000% (75/100)\n",
      "Epoch: 86\n",
      "【Training】Loss: 1.066 | Acc: 97.652% (1206/1235)\n",
      "【Testing】Loss: 6.830 | Acc: 72.000% (72/100)\n",
      "Epoch: 87\n",
      "【Training】Loss: 1.072 | Acc: 98.057% (1211/1235)\n",
      "【Testing】Loss: 6.553 | Acc: 72.000% (72/100)\n",
      "Epoch: 88\n",
      "【Training】Loss: 1.071 | Acc: 98.138% (1212/1235)\n",
      "【Testing】Loss: 6.849 | Acc: 71.000% (71/100)\n",
      "Epoch: 89\n",
      "【Training】Loss: 1.130 | Acc: 97.571% (1205/1235)\n",
      "【Testing】Loss: 6.654 | Acc: 74.000% (74/100)\n",
      "Epoch: 90\n",
      "【Training】Loss: 1.068 | Acc: 97.895% (1209/1235)\n",
      "【Testing】Loss: 6.437 | Acc: 73.000% (73/100)\n",
      "Epoch: 91\n",
      "【Training】Loss: 1.101 | Acc: 97.652% (1206/1235)\n",
      "【Testing】Loss: 6.220 | Acc: 74.000% (74/100)\n",
      "Epoch: 92\n",
      "【Training】Loss: 1.120 | Acc: 97.490% (1204/1235)\n",
      "【Testing】Loss: 6.300 | Acc: 76.000% (76/100)\n",
      "Epoch: 93\n",
      "【Training】Loss: 1.063 | Acc: 97.733% (1207/1235)\n",
      "【Testing】Loss: 6.361 | Acc: 76.000% (76/100)\n",
      "Epoch: 94\n",
      "【Training】Loss: 1.046 | Acc: 97.895% (1209/1235)\n",
      "【Testing】Loss: 6.088 | Acc: 80.000% (80/100)\n",
      "Epoch: 95\n",
      "【Training】Loss: 1.033 | Acc: 97.247% (1201/1235)\n",
      "【Testing】Loss: 6.282 | Acc: 77.000% (77/100)\n",
      "Epoch: 96\n",
      "【Training】Loss: 0.977 | Acc: 98.057% (1211/1235)\n",
      "【Testing】Loss: 6.336 | Acc: 77.000% (77/100)\n",
      "Epoch: 97\n",
      "【Training】Loss: 0.986 | Acc: 98.219% (1213/1235)\n",
      "【Testing】Loss: 6.323 | Acc: 78.000% (78/100)\n",
      "Epoch: 98\n",
      "【Training】Loss: 0.935 | Acc: 98.381% (1215/1235)\n",
      "【Testing】Loss: 6.343 | Acc: 78.000% (78/100)\n",
      "Epoch: 99\n",
      "【Training】Loss: 0.970 | Acc: 97.976% (1210/1235)\n",
      "【Testing】Loss: 6.388 | Acc: 77.000% (77/100)\n"
     ]
    }
   ],
   "source": [
    "lstm_module = module(LSTM(), train_loader, test_loader, EPOCH=100, LR=0.0005)\n",
    "history_loss, history_train_acc, history_test_acc = lstm_module.start()"
   ]
  },
  {
   "cell_type": "code",
   "execution_count": 19,
   "metadata": {
    "ExecuteTime": {
     "end_time": "2019-05-13T10:33:49.865659Z",
     "start_time": "2019-05-13T10:33:49.861492Z"
    }
   },
   "outputs": [
    {
     "name": "stdout",
     "output_type": "stream",
     "text": [
      "total number of parameters: 1074178\n"
     ]
    }
   ],
   "source": [
    "print('total number of parameters:', sum(p.numel() for p in lstm_module.net.parameters()))"
   ]
  },
  {
   "cell_type": "code",
   "execution_count": 20,
   "metadata": {
    "ExecuteTime": {
     "end_time": "2019-05-13T10:33:50.126369Z",
     "start_time": "2019-05-13T10:33:49.867111Z"
    }
   },
   "outputs": [
    {
     "data": {
      "text/plain": [
       "<matplotlib.legend.Legend at 0x7f4420f975c0>"
      ]
     },
     "execution_count": 20,
     "metadata": {},
     "output_type": "execute_result"
    },
    {
     "data": {
      "image/png": "[encoded data removed]",
      "text/plain": [
       "<Figure size 864x288 with 2 Axes>"
      ]
     },
     "metadata": {},
     "output_type": "display_data"
    }
   ],
   "source": [
    "fig, ax = plt.subplots(1, 2)\n",
    "fig.set_size_inches(12, 4)\n",
    "ax[0].set_title('Learning Cruve', color='r')\n",
    "ax[0].set_xlabel('Number of Epochs')\n",
    "ax[0].set_ylabel('Cross Entropy')\n",
    "ax[0].plot(history_loss)\n",
    "\n",
    "ax[1].set_title('Accuracy', color='r')\n",
    "ax[1].set_xlabel('Number of Epochs')\n",
    "ax[1].set_ylabel('Accuracy')\n",
    "ax[1].plot(history_train_acc, label = 'train')\n",
    "ax[1].plot(history_test_acc, label = 'test')\n",
    "plt.legend(loc=1)"
   ]
  },
  {
   "cell_type": "code",
   "execution_count": null,
   "metadata": {},
   "outputs": [],
   "source": []
  }
 ],
 "metadata": {
  "kernelspec": {
   "display_name": "Python 3",
   "language": "python",
   "name": "python3"
  },
  "language_info": {
   "codemirror_mode": {
    "name": "ipython",
    "version": 3
   },
   "file_extension": ".py",
   "mimetype": "text/x-python",
   "name": "python",
   "nbconvert_exporter": "python",
   "pygments_lexer": "ipython3",
   "version": "3.6.7"
  }
 },
 "nbformat": 4,
 "nbformat_minor": 2
}
